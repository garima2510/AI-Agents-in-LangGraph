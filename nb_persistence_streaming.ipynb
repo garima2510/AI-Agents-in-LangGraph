{
 "cells": [
  {
   "cell_type": "code",
   "execution_count": 1,
   "id": "61763cdb",
   "metadata": {},
   "outputs": [],
   "source": [
    "import os\n",
    "from dotenv import load_dotenv\n",
    "from langchain_openai import AzureChatOpenAI\n",
    "from langgraph.graph import StateGraph, END\n",
    "from typing import TypedDict, Annotated\n",
    "import operator\n",
    "from langchain_core.messages import AnyMessage, SystemMessage, HumanMessage, ToolMessage\n",
    "from langchain_community.tools.tavily_search import TavilySearchResults\n",
    "from langgraph.checkpoint.sqlite import SqliteSaver\n",
    "import sqlite3\n",
    "\n",
    "# Load environment variables\n",
    "load_dotenv()\n",
    "\n",
    "# Get Azure OpenAI configuration from environment variables\n",
    "azure_openai_api_key = os.getenv(\"AZURE_OPENAI_KEY\")\n",
    "azure_openai_endpoint = os.getenv(\"AZURE_OPENAI_ENDPOINT\")\n",
    "azure_openai_api_version = os.getenv(\"AZURE_OPENAI_VERSION\")\n",
    "azure_openai_deployment_name = os.getenv(\"AZURE_OPENAI_DEPLOYMENT_NAME\")\n",
    "azure_openai_embedding_deployment_name = os.getenv(\"AZURE_OPENAI_EmBEDDING_DEPLOYMENT_NAME \")\n",
    "\n",
    "llm = AzureChatOpenAI(\n",
    "    azure_deployment=azure_openai_deployment_name,\n",
    "    api_version=azure_openai_api_version,\n",
    "    api_key=azure_openai_api_key,\n",
    "    temperature=0\n",
    ")"
   ]
  },
  {
   "cell_type": "code",
   "execution_count": 2,
   "id": "009e22ac",
   "metadata": {},
   "outputs": [
    {
     "name": "stdout",
     "output_type": "stream",
     "text": [
      "<class 'langchain_community.tools.tavily_search.tool.TavilySearchResults'>\n",
      "tavily_search_results_json\n"
     ]
    }
   ],
   "source": [
    "#create a tavily api key and use in environment file\n",
    "tool = TavilySearchResults(max_results=2)\n",
    "print(type(tool))\n",
    "print(tool.name)"
   ]
  },
  {
   "cell_type": "code",
   "execution_count": 3,
   "id": "67d30367",
   "metadata": {},
   "outputs": [],
   "source": [
    "#class to store state of the agent. Add operator means that messages will not be overwritten\n",
    "class AgentState(TypedDict):\n",
    "    messages: Annotated[list[AnyMessage], operator.add]"
   ]
  },
  {
   "cell_type": "code",
   "execution_count": 4,
   "id": "529c43d3",
   "metadata": {},
   "outputs": [],
   "source": [
    "class Agent:\n",
    "    def __init__(self, model, tools, checkpointer, system=\"\"):\n",
    "        self.system = system\n",
    "        graph = StateGraph(AgentState)\n",
    "        graph.add_node(\"llm\", self.call_openai)\n",
    "        graph.add_node(\"action\", self.take_action)\n",
    "        graph.add_conditional_edges(\"llm\", self.exists_action, {True: \"action\", False: END})\n",
    "        graph.add_edge(\"action\", \"llm\")\n",
    "        graph.set_entry_point(\"llm\")\n",
    "        self.graph = graph.compile(checkpointer=checkpointer) #passed here\n",
    "        self.tools = {t.name: t for t in tools}\n",
    "        self.model = model.bind_tools(tools)\n",
    "\n",
    "    def call_openai(self, state: AgentState):\n",
    "        messages = state['messages']\n",
    "        if self.system:\n",
    "            messages = [SystemMessage(content=self.system)] + messages\n",
    "        message = self.model.invoke(messages)\n",
    "        return {'messages': [message]}\n",
    "\n",
    "    def exists_action(self, state: AgentState):\n",
    "        result = state['messages'][-1]\n",
    "        return len(result.tool_calls) > 0\n",
    "\n",
    "    def take_action(self, state: AgentState):\n",
    "        tool_calls = state['messages'][-1].tool_calls\n",
    "        results = []\n",
    "        for t in tool_calls:\n",
    "            print(f\"Calling: {t}\")\n",
    "            result = self.tools[t['name']].invoke(t['args'])\n",
    "            results.append(ToolMessage(tool_call_id=t['id'], name=t['name'], content=str(result)))\n",
    "        print(\"Back to the model!\")\n",
    "        return {'messages': results}"
   ]
  },
  {
   "cell_type": "code",
   "execution_count": 6,
   "id": "348b56a3",
   "metadata": {},
   "outputs": [],
   "source": [
    "prompt = \"\"\"You are a smart research assistant. Use the search engine to look up information. \\\n",
    "You are allowed to make multiple calls (either together or in sequence). \\\n",
    "Only look up information when you are sure of what you want. \\\n",
    "If you need to look up some information before asking a follow up question, you are allowed to do that!\n",
    "\"\"\"\n",
    "\n",
    "sqlite_conn = sqlite3.connect('checkpoint.sqlite', check_same_thread=False)\n",
    "memory = SqliteSaver(sqlite_conn)\n",
    "\n",
    "abot = Agent(llm, [tool], system=prompt, checkpointer=memory)"
   ]
  },
  {
   "cell_type": "code",
   "execution_count": 8,
   "id": "22dae9d6",
   "metadata": {},
   "outputs": [
    {
     "name": "stdout",
     "output_type": "stream",
     "text": [
      "{'messages': [AIMessage(content='', additional_kwargs={'tool_calls': [{'id': 'call_F9mnNFIuHyyvAYB8Q6ubPUrd', 'function': {'arguments': '{\"query\":\"current weather in San Francisco\"}', 'name': 'tavily_search_results_json'}, 'type': 'function'}], 'refusal': None}, response_metadata={'token_usage': {'completion_tokens': 23, 'prompt_tokens': 151, 'total_tokens': 174, 'completion_tokens_details': {'accepted_prediction_tokens': 0, 'audio_tokens': 0, 'reasoning_tokens': 0, 'rejected_prediction_tokens': 0}, 'prompt_tokens_details': {'audio_tokens': 0, 'cached_tokens': 0}}, 'model_name': 'gpt-4o-2024-11-20', 'system_fingerprint': 'fp_ee1d74bde0', 'id': 'chatcmpl-CAt67F2flJiUGn2joxOwmqbi5RePB', 'service_tier': None, 'prompt_filter_results': [{'prompt_index': 0, 'content_filter_results': {'hate': {'filtered': False, 'severity': 'safe'}, 'jailbreak': {'filtered': False, 'detected': False}, 'self_harm': {'filtered': False, 'severity': 'safe'}, 'sexual': {'filtered': False, 'severity': 'safe'}, 'violence': {'filtered': False, 'severity': 'safe'}}}], 'finish_reason': 'tool_calls', 'logprobs': None, 'content_filter_results': {}}, id='run--4e148700-0236-4476-b43a-38703dc2a20d-0', tool_calls=[{'name': 'tavily_search_results_json', 'args': {'query': 'current weather in San Francisco'}, 'id': 'call_F9mnNFIuHyyvAYB8Q6ubPUrd', 'type': 'tool_call'}], usage_metadata={'input_tokens': 151, 'output_tokens': 23, 'total_tokens': 174, 'input_token_details': {'audio': 0, 'cache_read': 0}, 'output_token_details': {'audio': 0, 'reasoning': 0}})]}\n",
      "Calling: {'name': 'tavily_search_results_json', 'args': {'query': 'current weather in San Francisco'}, 'id': 'call_F9mnNFIuHyyvAYB8Q6ubPUrd', 'type': 'tool_call'}\n",
      "Back to the model!\n",
      "{'messages': [ToolMessage(content='[{\\'title\\': \\'San Francisco weather in September 2025 | Weather25.com\\', \\'url\\': \\'https://www.weather25.com/north-america/usa/california/san-francisco?page=month&month=September\\', \\'content\\': \\'| Month | Temperatures | Rainy Days | Dry Days | Snowy Days | Rainfall | Weather | More details |\\\\n ---  ---  ---  --- |\\\\n| January | 15° / 7° | 4 | 27 | 0 | 63 mm | Good | San Francisco in January |\\\\n| February | 16° / 7° | 4 | 24 | 0 | 61 mm | Good | San Francisco in February |\\\\n| March | 17° / 8° | 5 | 26 | 0 | 62 mm | Good | San Francisco in March |\\\\n| April | 18° / 9° | 2 | 28 | 0 | 22 mm | Good | San Francisco in April |\\\\n| May | 20° / 10° | 1 | 30 | 0 | 13 mm | Good | San Francisco in May | [...] Mist\\\\nFog\\\\nFog\\\\nPatchy rain possible\\\\nCloudy\\\\nSunny\\\\nSunny\\\\nPartly cloudy\\\\nPartly cloudy\\\\nSunny\\\\nSunny\\\\nSunny\\\\nPartly cloudy\\\\nSunny\\\\nPartly cloudy\\\\nPartly cloudy\\\\nPartly cloudy\\\\nMist\\\\nSunny\\\\nSunny\\\\nSunny\\\\nPartly cloudy\\\\nSunny\\\\nMist\\\\nPartly cloudy\\\\nPartly cloudy\\\\nCloudy\\\\nSunny\\\\nPartly cloudy\\\\nSunny\\\\n\\\\n## Explore the weather in San Francisco in other months\\\\n\\\\n## San Francisco annual weather [...] | June | 23° / 12° | 0 | 30 | 0 | 6 mm | Perfect | San Francisco in June |\\\\n| July | 25° / 14° | 0 | 31 | 0 | 3 mm | Perfect | San Francisco in July |\\\\n| August | 25° / 14° | 0 | 31 | 0 | 3 mm | Perfect | San Francisco in August |\\\\n| September | 25° / 14° | 0 | 30 | 0 | 4 mm | Perfect | San Francisco in September |\\\\n| October | 23° / 13° | 1 | 30 | 0 | 26 mm | Perfect | San Francisco in October |\\\\n| November | 18° / 10° | 3 | 27 | 0 | 37 mm | Good | San Francisco in November |\\', \\'score\\': 0.65835214}, {\\'title\\': \\'San Francisco, CA Weather Forecast\\', \\'url\\': \\'https://www.accuweather.com/en/us/san-francisco/94103/weather-forecast/347629\\', \\'content\\': \"# San Francisco, CA\\\\n\\\\nSan Francisco\\\\n\\\\nCalifornia\\\\n\\\\n## Around the Globe\\\\n\\\\nAround the Globe\\\\n\\\\n### Hurricane Tracker\\\\n\\\\n### Severe Weather\\\\n\\\\n### Radar & Maps\\\\n\\\\n### News & Features\\\\n\\\\n### Astronomy\\\\n\\\\n### Business\\\\n\\\\n### Climate\\\\n\\\\n### Health\\\\n\\\\n### Recreation\\\\n\\\\n### Sports\\\\n\\\\n### Travel\\\\n\\\\n### Warnings\\\\n\\\\n### Data Suite\\\\n\\\\n### Forensics\\\\n\\\\n### Advertising\\\\n\\\\n### Superior Accuracy™\\\\n\\\\n### Video\\\\n\\\\n### Winter Center\\\\n\\\\n## Today\\\\n\\\\n## Today\\'s Weather\\\\n\\\\nMon, Sep 1\\\\n\\\\nAreas of low clouds early; otherwise, mostly sunny and pleasant\\\\nHi: 75°\", \\'score\\': 0.40782914}]', name='tavily_search_results_json', tool_call_id='call_F9mnNFIuHyyvAYB8Q6ubPUrd')]}\n",
      "{'messages': [AIMessage(content='The current weather in San Francisco is mostly sunny and pleasant, with a high temperature of around 75°F.', additional_kwargs={'refusal': None}, response_metadata={'token_usage': {'completion_tokens': 24, 'prompt_tokens': 935, 'total_tokens': 959, 'completion_tokens_details': {'accepted_prediction_tokens': 0, 'audio_tokens': 0, 'reasoning_tokens': 0, 'rejected_prediction_tokens': 0}, 'prompt_tokens_details': {'audio_tokens': 0, 'cached_tokens': 0}}, 'model_name': 'gpt-4o-2024-11-20', 'system_fingerprint': 'fp_3eed281ddb', 'id': 'chatcmpl-CAt6EY0d4p6S1UYkACpTCYSrMX7oi', 'service_tier': None, 'prompt_filter_results': [{'prompt_index': 0, 'content_filter_results': {'hate': {'filtered': False, 'severity': 'safe'}, 'jailbreak': {'filtered': False, 'detected': False}, 'self_harm': {'filtered': False, 'severity': 'safe'}, 'sexual': {'filtered': False, 'severity': 'safe'}, 'violence': {'filtered': False, 'severity': 'safe'}}}], 'finish_reason': 'stop', 'logprobs': None, 'content_filter_results': {'hate': {'filtered': False, 'severity': 'safe'}, 'self_harm': {'filtered': False, 'severity': 'safe'}, 'sexual': {'filtered': False, 'severity': 'safe'}, 'violence': {'filtered': False, 'severity': 'safe'}}}, id='run--406a63a3-ad44-469a-98a8-b668503fd10c-0', usage_metadata={'input_tokens': 935, 'output_tokens': 24, 'total_tokens': 959, 'input_token_details': {'audio': 0, 'cache_read': 0}, 'output_token_details': {'audio': 0, 'reasoning': 0}})]}\n"
     ]
    }
   ],
   "source": [
    "messages = [HumanMessage(content=\"What is the weather in sf?\")]\n",
    "thread = {\"configurable\": {\"thread_id\": \"1\"}}\n",
    "for event in abot.graph.stream({\"messages\": messages}, thread):\n",
    "    for v in event.values():\n",
    "        print(v)"
   ]
  },
  {
   "cell_type": "code",
   "execution_count": null,
   "id": "2f28fe71",
   "metadata": {},
   "outputs": [
    {
     "name": "stdout",
     "output_type": "stream",
     "text": [
      "{'messages': [AIMessage(content='', additional_kwargs={'tool_calls': [{'id': 'call_YKcgn5UDq4yKqE8qZ1CLiLEu', 'function': {'arguments': '{\"query\":\"current weather in Los Angeles\"}', 'name': 'tavily_search_results_json'}, 'type': 'function'}], 'refusal': None}, response_metadata={'token_usage': {'completion_tokens': 23, 'prompt_tokens': 970, 'total_tokens': 993, 'completion_tokens_details': {'accepted_prediction_tokens': 0, 'audio_tokens': 0, 'reasoning_tokens': 0, 'rejected_prediction_tokens': 0}, 'prompt_tokens_details': {'audio_tokens': 0, 'cached_tokens': 0}}, 'model_name': 'gpt-4o-2024-11-20', 'system_fingerprint': 'fp_3eed281ddb', 'id': 'chatcmpl-CAt7TbqtJzg9GfaFuQ8gfTA2MFbK2', 'service_tier': None, 'prompt_filter_results': [{'prompt_index': 0, 'content_filter_results': {'hate': {'filtered': False, 'severity': 'safe'}, 'jailbreak': {'filtered': False, 'detected': False}, 'self_harm': {'filtered': False, 'severity': 'safe'}, 'sexual': {'filtered': False, 'severity': 'safe'}, 'violence': {'filtered': False, 'severity': 'safe'}}}], 'finish_reason': 'tool_calls', 'logprobs': None, 'content_filter_results': {}}, id='run--28dc3c46-2fd0-44cf-bcd1-c8a1fb1c2a3d-0', tool_calls=[{'name': 'tavily_search_results_json', 'args': {'query': 'current weather in Los Angeles'}, 'id': 'call_YKcgn5UDq4yKqE8qZ1CLiLEu', 'type': 'tool_call'}], usage_metadata={'input_tokens': 970, 'output_tokens': 23, 'total_tokens': 993, 'input_token_details': {'audio': 0, 'cache_read': 0}, 'output_token_details': {'audio': 0, 'reasoning': 0}})]}\n",
      "Calling: {'name': 'tavily_search_results_json', 'args': {'query': 'current weather in Los Angeles'}, 'id': 'call_YKcgn5UDq4yKqE8qZ1CLiLEu', 'type': 'tool_call'}\n",
      "Back to the model!\n",
      "{'messages': [ToolMessage(content='[{\\'title\\': \\'Los Angeles weather in September 2025\\', \\'url\\': \\'https://www.weather25.com/north-america/usa/california/los-angeles?page=month&month=September\\', \\'content\\': \\'| Month | Temperatures | Rainy Days | Dry Days | Snowy Days | Rainfall | Weather | More details |\\\\n ---  ---  ---  --- |\\\\n| January | 21° / 11° | 3 | 28 | 0 | 58 mm | Good | Los Angeles in January |\\\\n| February | 20° / 11° | 2 | 27 | 0 | 56 mm | Good | Los Angeles in February |\\\\n| March | 22° / 12° | 2 | 29 | 0 | 34 mm | Good | Los Angeles in March |\\\\n| April | 24° / 13° | 1 | 29 | 0 | 18 mm | Perfect | Los Angeles in April |\\\\n| May | 25° / 15° | 0 | 31 | 0 | 4 mm | Perfect | Los Angeles in May | [...] Cloudy\\\\nPartly cloudy\\\\nSunny\\\\nSunny\\\\nSunny\\\\nSunny\\\\nSunny\\\\nSunny\\\\nSunny\\\\nSunny\\\\nSunny\\\\nSunny\\\\nSunny\\\\nSunny\\\\nPartly cloudy\\\\nSunny\\\\nSunny\\\\nPartly cloudy\\\\nPartly cloudy\\\\nSunny\\\\nSunny\\\\nOvercast\\\\nSunny\\\\nSunny\\\\nSunny\\\\nSunny\\\\nCloudy\\\\nPartly cloudy\\\\nSunny\\\\nSunny\\\\n\\\\n## Explore the weather in Los Angeles in other months\\\\n\\\\n## Los Angeles annual weather [...] | June | 27° / 17° | 0 | 30 | 0 | 1 mm | Perfect | Los Angeles in June |\\\\n| July | 30° / 20° | 0 | 31 | 0 | 5 mm | Good | Los Angeles in July |\\\\n| August | 31° / 21° | 0 | 31 | 0 | 3 mm | Good | Los Angeles in August |\\\\n| September | 31° / 21° | 0 | 30 | 0 | 4 mm | Good | Los Angeles in September |\\\\n| October | 27° / 18° | 1 | 30 | 0 | 10 mm | Perfect | Los Angeles in October |\\\\n| November | 24° / 14° | 1 | 29 | 0 | 22 mm | Perfect | Los Angeles in November |\\', \\'score\\': 0.62248284}, {\\'title\\': \\'Los Angeles, CA Monthly Weather\\', \\'url\\': \\'https://www.accuweather.com/en/us/los-angeles/90012/september-weather/347625\\', \\'content\\': \"# Los Angeles, CA\\\\n\\\\nLos Angeles\\\\n\\\\nCalifornia\\\\n\\\\n## Around the Globe\\\\n\\\\nAround the Globe\\\\n\\\\n### Hurricane Tracker\\\\n\\\\n### Severe Weather\\\\n\\\\n### Radar & Maps\\\\n\\\\n### News & Features\\\\n\\\\n### Astronomy\\\\n\\\\n### Business\\\\n\\\\n### Climate\\\\n\\\\n### Health\\\\n\\\\n### Recreation\\\\n\\\\n### Sports\\\\n\\\\n### Travel\\\\n\\\\n### Warnings\\\\n\\\\n### Data Suite\\\\n\\\\n### Forensics\\\\n\\\\n### Advertising\\\\n\\\\n### Superior Accuracy™\\\\n\\\\n### Video\\\\n\\\\n### Winter Center\\\\n\\\\n## Monthly\\\\n\\\\n## September\\\\n\\\\n## 2025\\\\n\\\\n## Daily\\\\n\\\\n## Temperature Graph\\\\n\\\\n## Further Ahead\\\\n\\\\nFurther Ahead\\\\n\\\\n### October 2025 [...] Hurricane Katrina by the Numbers, 20 years later\\\\n\\\\n2 days ago\\\\n\\\\nHurricane\\\\n\\\\nLabor Day is here. Where are the hurricanes?\\\\n\\\\n26 minutes ago\\\\n\\\\nFeatured Stories\\\\n\\\\nAstronomy\\\\n\\\\n2 more celestial sights to see before autumn\\'s arrival\\\\n\\\\n2 days ago\\\\n\\\\nTravel\\\\n\\\\nGas hasn’t been this cheap on Labor Day since 2020\\\\n\\\\n2 days ago\\\\n\\\\nWeather News\\\\n\\\\nWhy meteorological, astronomical fall start on different dates\\\\n\\\\n2 days ago\\\\n\\\\nClearing the air: Leaves are falling but it\\'s not autumn yet\\\\n\\\\nLATEST ENTRY [...] ### November 2025\\\\n\\\\n## Around the Globe\\\\n\\\\nAround the Globe\\\\n\\\\n### Hurricane Tracker\\\\n\\\\n### Severe Weather\\\\n\\\\n### Radar & Maps\\\\n\\\\n### News\\\\n\\\\n### Video\\\\n\\\\n### Winter Center\\\\n\\\\nTop Stories\\\\n\\\\nWeather Forecasts\\\\n\\\\nU.S. Labor Day: Who\\'s hot, who\\'s cool and who\\'s getting rained on?\\\\n\\\\n31 minutes ago\\\\n\\\\nWeather Forecasts\\\\n\\\\nPolar air to bring October-like chill to 250 million in U.S.\\\\n\\\\n30 minutes ago\\\\n\\\\nAstronomy\\\\n\\\\nNorthern lights could glow over more than a dozen states Monday night\\\\n\\\\n18 hours ago\\\\n\\\\nHurricane\", \\'score\\': 0.21785328}]', name='tavily_search_results_json', tool_call_id='call_YKcgn5UDq4yKqE8qZ1CLiLEu')]}\n",
      "{'messages': [AIMessage(content='The current weather in Los Angeles is sunny and warm, with temperatures around 31°C (88°F).', additional_kwargs={'refusal': None}, response_metadata={'token_usage': {'completion_tokens': 23, 'prompt_tokens': 1999, 'total_tokens': 2022, 'completion_tokens_details': {'accepted_prediction_tokens': 0, 'audio_tokens': 0, 'reasoning_tokens': 0, 'rejected_prediction_tokens': 0}, 'prompt_tokens_details': {'audio_tokens': 0, 'cached_tokens': 0}}, 'model_name': 'gpt-4o-2024-11-20', 'system_fingerprint': 'fp_ee1d74bde0', 'id': 'chatcmpl-CAt7Y8BY0gCbOEDF2Cb82AixOUjuD', 'service_tier': None, 'prompt_filter_results': [{'prompt_index': 0, 'content_filter_results': {'hate': {'filtered': False, 'severity': 'safe'}, 'jailbreak': {'filtered': False, 'detected': False}, 'self_harm': {'filtered': False, 'severity': 'safe'}, 'sexual': {'filtered': False, 'severity': 'safe'}, 'violence': {'filtered': False, 'severity': 'safe'}}}], 'finish_reason': 'stop', 'logprobs': None, 'content_filter_results': {'hate': {'filtered': False, 'severity': 'safe'}, 'self_harm': {'filtered': False, 'severity': 'safe'}, 'sexual': {'filtered': False, 'severity': 'safe'}, 'violence': {'filtered': False, 'severity': 'safe'}}}, id='run--6d11ba79-5b4f-4642-be60-eb55e47884a0-0', usage_metadata={'input_tokens': 1999, 'output_tokens': 23, 'total_tokens': 2022, 'input_token_details': {'audio': 0, 'cache_read': 0}, 'output_token_details': {'audio': 0, 'reasoning': 0}})]}\n"
     ]
    }
   ],
   "source": [
    "messages = [HumanMessage(content=\"What about in la?\")]\n",
    "#using same thread as above\n",
    "for event in abot.graph.stream({\"messages\": messages}, thread):\n",
    "    for v in event.values():\n",
    "        print(v)"
   ]
  },
  {
   "cell_type": "code",
   "execution_count": 16,
   "id": "32b9cb41",
   "metadata": {},
   "outputs": [
    {
     "name": "stdout",
     "output_type": "stream",
     "text": [
      "[AIMessage(content='', additional_kwargs={'tool_calls': [{'id': 'call_QlyarhzNrcJUhS2oDZcxDoBW', 'function': {'arguments': '{\"query\":\"current weather in San Francisco\"}', 'name': 'tavily_search_results_json'}, 'type': 'function'}], 'refusal': None}, response_metadata={'token_usage': {'completion_tokens': 23, 'prompt_tokens': 151, 'total_tokens': 174, 'completion_tokens_details': {'accepted_prediction_tokens': 0, 'audio_tokens': 0, 'reasoning_tokens': 0, 'rejected_prediction_tokens': 0}, 'prompt_tokens_details': {'audio_tokens': 0, 'cached_tokens': 0}}, 'model_name': 'gpt-4o-2024-11-20', 'system_fingerprint': 'fp_ee1d74bde0', 'id': 'chatcmpl-CA9usJz7jBrJxkBlgtO5kagzAd9ON', 'service_tier': None, 'prompt_filter_results': [{'prompt_index': 0, 'content_filter_results': {'hate': {'filtered': False, 'severity': 'safe'}, 'jailbreak': {'filtered': False, 'detected': False}, 'self_harm': {'filtered': False, 'severity': 'safe'}, 'sexual': {'filtered': False, 'severity': 'safe'}, 'violence': {'filtered': False, 'severity': 'safe'}}}], 'finish_reason': 'tool_calls', 'logprobs': None, 'content_filter_results': {}}, id='run--a1a821dd-a43c-4e2d-b299-e6aac7133f5d-0', tool_calls=[{'name': 'tavily_search_results_json', 'args': {'query': 'current weather in San Francisco'}, 'id': 'call_QlyarhzNrcJUhS2oDZcxDoBW', 'type': 'tool_call'}], usage_metadata={'input_tokens': 151, 'output_tokens': 23, 'total_tokens': 174, 'input_token_details': {'audio': 0, 'cache_read': 0}, 'output_token_details': {'audio': 0, 'reasoning': 0}})]\n",
      "Calling: {'name': 'tavily_search_results_json', 'args': {'query': 'current weather in San Francisco'}, 'id': 'call_QlyarhzNrcJUhS2oDZcxDoBW', 'type': 'tool_call'}\n",
      "Back to the model!\n",
      "[ToolMessage(content='[{\\'title\\': \\'Saturday, August 30, 2025. San Francisco, CA - Weather Forecast\\', \\'url\\': \\'https://weathershogun.com/weather/usa/ca/san-francisco/480/august/2025-08-30\\', \\'content\\': \"WeatherShogun.com\\\\n\\\\n# Weather in San Francisco, California\\\\n\\\\n### Warning: Extreme UV Index Today: 11+\\\\n\\\\nOverexposure to the sun\\'s harmful UV rays can cause sunburn and increase the risk of developing skin cancer, including melanoma. Protect yourself by wearing clothing that covers your skin, sunglasses, and a hat. Apply a broad-spectrum sunscreen with an SPF of 30 or higher every two hours, even on cloudy days. Minimize direct sun exposure during peak hours (10 AM to 4 PM) to reduce the risk. [...] Mostly bright and clear and pleasant.\\\\n\\\\n## San Francisco Weather Forecast Updated\\\\n\\\\n## Weather Forecast History\\\\n\\\\nLast Year\\'s Weather on This Day (August 30, 2024)\\\\n\\\\n### Day\\\\n\\\\n66°\\\\n\\\\n### Night\\\\n\\\\n59°\\\\n\\\\n#### Wind\\\\n\\\\n9 mph\\\\n\\\\n#### UV Index\\\\n\\\\n7\\\\n\\\\n#### Precipitation\\\\n\\\\n0\\\\n\\\\n# Air quality in San Francisco\\\\n\\\\n#### Pollutant Concentrations:\\\\n\\\\n#### Health Recommendations:\\\\n\\\\nWith this level of air quality, you have no limitations. Enjoy the outdoors\\\\n\\\\n© Copyright by WeatherShogun.com\", \\'score\\': 0.8793233}, {\\'title\\': \\'San Francisco weather in August 2025 | Weather25.com\\', \\'url\\': \\'https://www.weather25.com/north-america/usa/california/san-francisco?page=month&month=August\\', \\'content\\': \\'weather25.com\\\\nSearch\\\\nweather in United States\\\\nRemove from your favorite locations\\\\nAdd to my locations\\\\nShare\\\\nweather in United States\\\\n\\\\n# San Francisco weather in August 2025\\\\n\\\\nOvercast\\\\nMist\\\\nFog\\\\nFog\\\\nSunny\\\\nSunny\\\\nSunny\\\\nClear\\\\nClear\\\\nClear\\\\nSunny\\\\nCloudy\\\\nClear\\\\nClear\\\\n\\\\n## The average weather in San Francisco in August\\\\n\\\\nThe temperatures in San Francisco in August are comfortable with low of 14°C and and high up to 25°C. [...] | 17 Sunny 21° /15° | 18 Partly cloudy 20° /14° | 19 Partly cloudy 20° /13° | 20 Partly cloudy 22° /14° | 21 Sunny 20° /14° | 22 Partly cloudy 21° /14° | 23 Partly cloudy 20° /14° |\\\\n| 24 Partly cloudy 20° /14° | 25 Partly cloudy 21° /14° | 26 Sunny 22° /14° | 27 Partly cloudy 22° /14° | 28 Sunny 21° /15° | 29 Overcast 18° /13° | 30 Mist 18° /13° |\\\\n| 31 Fog 17° /12° |  |  |  |  |  |  | [...] Partly cloudy\\\\nPartly cloudy\\\\nSunny\\\\nPartly cloudy\\\\nMist\\\\nSunny\\\\nPartly cloudy\\\\nSunny\\\\nPartly cloudy\\\\nSunny\\\\nSunny\\\\nPartly cloudy\\\\nSunny\\\\nPartly cloudy\\\\nSunny\\\\nSunny\\\\nSunny\\\\nPartly cloudy\\\\nPartly cloudy\\\\nPartly cloudy\\\\nSunny\\\\nPartly cloudy\\\\nPartly cloudy\\\\nPartly cloudy\\\\nPartly cloudy\\\\nSunny\\\\nPartly cloudy\\\\nSunny\\\\nOvercast\\\\nMist\\\\nFog\\\\n\\\\n## Explore the weather in San Francisco in other months\\\\n\\\\n## San Francisco annual weather\\', \\'score\\': 0.85825616}]', name='tavily_search_results_json', tool_call_id='call_QlyarhzNrcJUhS2oDZcxDoBW')]\n",
      "[AIMessage(content=\"The current weather in San Francisco appears to be mostly bright, clear, and pleasant. However, there is an extreme UV index warning (11+), so it's important to take precautions against sun exposure. Temperatures are likely in the range of 18°C to 25°C (64°F to 77°F).\", additional_kwargs={'refusal': None}, response_metadata={'token_usage': {'completion_tokens': 65, 'prompt_tokens': 970, 'total_tokens': 1035, 'completion_tokens_details': {'accepted_prediction_tokens': 0, 'audio_tokens': 0, 'reasoning_tokens': 0, 'rejected_prediction_tokens': 0}, 'prompt_tokens_details': {'audio_tokens': 0, 'cached_tokens': 0}}, 'model_name': 'gpt-4o-2024-11-20', 'system_fingerprint': 'fp_3eed281ddb', 'id': 'chatcmpl-CA9uzwAVkf8RvsGZpgNJF3WHRP6lD', 'service_tier': None, 'prompt_filter_results': [{'prompt_index': 0, 'content_filter_results': {'hate': {'filtered': False, 'severity': 'safe'}, 'jailbreak': {'filtered': False, 'detected': False}, 'self_harm': {'filtered': False, 'severity': 'safe'}, 'sexual': {'filtered': False, 'severity': 'safe'}, 'violence': {'filtered': False, 'severity': 'safe'}}}], 'finish_reason': 'stop', 'logprobs': None, 'content_filter_results': {'hate': {'filtered': False, 'severity': 'safe'}, 'protected_material_code': {'filtered': False, 'detected': False}, 'protected_material_text': {'filtered': False, 'detected': False}, 'self_harm': {'filtered': False, 'severity': 'safe'}, 'sexual': {'filtered': False, 'severity': 'safe'}, 'violence': {'filtered': False, 'severity': 'safe'}}}, id='run--13a7b56c-67b9-439f-9444-c9d6209d4ace-0', usage_metadata={'input_tokens': 970, 'output_tokens': 65, 'total_tokens': 1035, 'input_token_details': {'audio': 0, 'cache_read': 0}, 'output_token_details': {'audio': 0, 'reasoning': 0}})]\n"
     ]
    }
   ],
   "source": [
    "with SqliteSaver.from_conn_string(\":memory:\") as memory:\n",
    "  abot = Agent(llm, [tool], system=prompt, checkpointer=memory)\n",
    "\n",
    "  messages = [HumanMessage(content=\"What is the weather in sf?\")]\n",
    "  thread = {\"configurable\": {\"thread_id\": \"1\"}}\n",
    "  \n",
    "  for event in abot.graph.stream({\"messages\": messages}, thread):\n",
    "      for v in event.values():\n",
    "          print(v['messages'])"
   ]
  }
 ],
 "metadata": {
  "kernelspec": {
   "display_name": ".venv",
   "language": "python",
   "name": "python3"
  },
  "language_info": {
   "codemirror_mode": {
    "name": "ipython",
    "version": 3
   },
   "file_extension": ".py",
   "mimetype": "text/x-python",
   "name": "python",
   "nbconvert_exporter": "python",
   "pygments_lexer": "ipython3",
   "version": "3.13.7"
  }
 },
 "nbformat": 4,
 "nbformat_minor": 5
}
