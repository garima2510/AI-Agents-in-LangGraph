{
 "cells": [
  {
   "cell_type": "code",
   "execution_count": 1,
   "id": "eb61f2bb",
   "metadata": {},
   "outputs": [],
   "source": [
    "import os\n",
    "from dotenv import load_dotenv\n",
    "from tavily import TavilyClient\n",
    "\n",
    "# Load environment variables\n",
    "load_dotenv()\n",
    "\n",
    "tavily_api_key = os.getenv(\"TAVILY_API_KEY\")\n"
   ]
  },
  {
   "cell_type": "code",
   "execution_count": 2,
   "id": "7bc09c9c",
   "metadata": {},
   "outputs": [
    {
     "data": {
      "text/plain": [
       "'The Nvidia Blackwell GPU features fifth-generation Tensor Cores, NVFP4 precision format, and high bandwidth HBM3E memory. It delivers up to 15 petaFLOPS performance. Blackwell is designed for generative AI and large-scale AI models.'"
      ]
     },
     "execution_count": 2,
     "metadata": {},
     "output_type": "execute_result"
    }
   ],
   "source": [
    "client = TavilyClient(api_key=os.environ.get(\"TAVILY_API_KEY\"))\n",
    "\n",
    "# run search\n",
    "result = client.search(\"What is in Nvidia's new Blackwell GPU?\",\n",
    "                       include_answer=True)\n",
    "\n",
    "# print the answer\n",
    "result[\"answer\"]\n"
   ]
  },
  {
   "cell_type": "code",
   "execution_count": null,
   "id": "84d9a01a",
   "metadata": {},
   "outputs": [],
   "source": [
    "#regular search using duck duck go\n",
    "\n",
    "city = \"New Delhi\"\n",
    "\n",
    "query = f\"\"\"\n",
    "    what is the current weather in {city}?\n",
    "    Should I travel there today?\n",
    "    \"weather.com\"\n",
    "\"\"\""
   ]
  },
  {
   "cell_type": "code",
   "execution_count": 11,
   "id": "1590e9d0",
   "metadata": {},
   "outputs": [
    {
     "name": "stdout",
     "output_type": "stream",
     "text": [
      "https://weather.com/weather/tenday/l/c3e96d6cc4965fc54f88296b54449571c4107c73b9638c16aafc83575b4ddf2e\n",
      "https://weather.com/weather/today/l/Block+3+Delhi+India?canonicalCityId=3b20c1938ff88202bb5f59e875f671c4\n",
      "https://weather.com/en-IN/weather/today/l/b37bb211aec6a79795616f3fa4cf1c2bbf424a23a45001f5756fcadff0fde73f?par=samsung_widget_INS&cm_ven=L1_current_weather&theme=samsungLight\n"
     ]
    }
   ],
   "source": [
    "import requests\n",
    "from bs4 import BeautifulSoup\n",
    "from ddgs import DDGS\n",
    "import re\n",
    "\n",
    "ddg = DDGS()\n",
    "\n",
    "def search(query, max_results=3):\n",
    "    try:\n",
    "        results = ddg.text(query, max_results=max_results)\n",
    "        return [i[\"href\"] for i in results]\n",
    "    except Exception as e:\n",
    "        print(f\"returning previous results due to exception reaching ddg.\")\n",
    "        results = [ # cover case where DDG rate limits due to high deeplearning.ai volume\n",
    "            \"https://weather.com/weather/today/l/USCA0987:1:US\",\n",
    "            \"https://weather.com/weather/hourbyhour/l/54f9d8baac32496f6b5497b4bf7a277c3e2e6cc5625de69680e6169e7e38e9a8\",\n",
    "        ]\n",
    "        return results  \n",
    "\n",
    "weather_results = search(query)\n",
    "for i in weather_results:\n",
    "    print(i)"
   ]
  },
  {
   "cell_type": "code",
   "execution_count": 9,
   "id": "fde27436",
   "metadata": {},
   "outputs": [],
   "source": [
    "def scrape_weather_info(url):\n",
    "    \"\"\"Scrape content from the given URL\"\"\"\n",
    "    if not url:\n",
    "        return \"Weather information could not be found.\"\n",
    "    \n",
    "    # fetch data\n",
    "    headers = {'User-Agent': 'Mozilla/5.0'}\n",
    "    response = requests.get(url, headers=headers)\n",
    "    if response.status_code != 200:\n",
    "        return \"Failed to retrieve the webpage.\"\n",
    "\n",
    "    # parse result\n",
    "    soup = BeautifulSoup(response.text, 'html.parser')\n",
    "    return soup\n"
   ]
  },
  {
   "cell_type": "code",
   "execution_count": 19,
   "id": "149e8647",
   "metadata": {},
   "outputs": [
    {
     "name": "stdout",
     "output_type": "stream",
     "text": [
      "Website: https://weather.com/weather/tenday/l/c3e96d6cc4965fc54f88296b54449571c4107c73b9638c16aafc83575b4ddf2e\n",
      "\n",
      "\n",
      "<body><div class=\"appWrapper DaybreakLargeScreen LargeScreen lightTheme twcTheme DaybreakLargeScreen--appWrapper--ZkDop\" id=\"appWrapper\"><div class=\"region-meta\"><div class=\"removeIfEmpty\" id=\"WxuHtmlHead-meta-\"></div></div><div class=\"regionHeaderWrapper DaybreakLargeScreen--stickyHeader--0Pgu8\"><div class=\"regionHeaderInnerWrapper\"><div class=\"adsSectionOuterWrapper\"><div class=\"adsSectionInnerWrapper\"><div class=\"stickyAdPlaceholder\"></div><div class=\"js-branded-background-ads\" id=\"labBG\"></div><div class=\"js-branded-background-ads\" id=\"wx-hero-content\"></div><div class=\"region-stickyAds regionStickyAds\"><div class=\"removeIfEmpty\" id=\"WxuAd-stickyAds-50b69813-b340-4d89-a22d-016d4b682491\"><div class=\"adWrapper BaseAd--adWrapper--ANZ1O BaseAd--hide--hCG8L\"><div class=\"adLabel BaseAd--adLabel--JGSp6\">Advertisement</div><div class=\"ad_module BaseAd--ad_module--ajh9S subs-undefined BaseAd--placeholder--ofteC\" id=\"WX_WindowShade\"></div></div></div><div class=\"removeIfEmpty\" id=\"WxuAd-stickyAds-53dce052-5465-4609-a555-c3a20ab64ab0\"><div class=\"adWrapper BaseAd--adWrapper--ANZ1O BaseAd--card--cqv7t BaseAd--hide--hCG8L\"><div class=\"adLabel BaseAd--adLabel--JGSp6\">Advertisement</div><div class=\"ad_module BaseAd--ad_module--ajh9S subs-undefined BaseAd--placeholder--ofteC\" id=\"WX_Hidden\"></div></div></div><div class=\"removeIfEmpty\" id=\"WxuAd-stickyAds-fe926b10-58bc-448a-ab09-47e692334250\"><div class=\"adWrapper BaseAd--adWrapper--ANZ1O BaseAd--card--cqv7t BaseAd--hide--hCG8L\"><div class=\"adLabel BaseAd--adLabel--JGSp6\">Advertisement</div><div class=\"ad_module BaseAd--ad_module--ajh9S subs-undefined BaseAd--placeholder--ofteC\" id=\"MW_Interstitial\"></div></div></div></div></div></div><div class=\"region-header regionHeader\" id=\"regionHeader\"><div class=\"removeIfEmpty\" id=\"WxuHeaderLargeScreen-header-9944ec87-e4d4-4f18-b23e-ce4a3fd8a3ba\"><header aria-label=\"Menu\" class=\"MainMenuHeader--MainMenuHeader--RBoq7\" role=\"banner\"><div class=\"MainMenuHeader--wrapper--TVg8M\"><div class=\"MainMenuHeader--wrapperLeft--frN1-\"><a class=\"MainMenuHeader--accessibilityLink--bQU4R Button--secondary--dT8G-\" href=\"#MainContent\" target=\"_self\">Skip to Main Content</a><a class=\"MainMenuHeader--accessibilityLink--bQU4R Button--secondary--dT8G-\" href=\"https://www.essentialaccessibility.com/the-weather-channel?utm_source=theweatherchannelhomepage&amp;utm_medium=iconlarge&amp;utm_term=eachannelpage&amp;utm_content=header&amp;utm_campaign=theweatherchannel\" target=\"_self\">Accessibility Help</a><a class=\"Button--default--osTe5 Button--iconOnly--U4gWX\" href=\"/\" target=\"_self\"><span aria-label=\"The Weather Company - Home\" class=\"Icon--iconWrapper--vSeDL\"><svg aria-label=\"The Weather Company - Home\" class=\"MainMenuHeader--twcLogo--MHMAp Icon--icon--ySD-o Icon--lightTheme--Mqfrs\" fill=\"currentColor\" name=\"twc-logo-tm\" viewbox=\"0 0 432.96 399.36\" xmlns=\"http://www.w3.org/2000/svg\">\n",
      "<title>The Weather Channel</title>\n",
      "<path d=\"M152.48 347.3c0 4.02 2.48 6.71 5.9 6.71 2.51 0 5.01-1.3 7.01-3.52l.21-11.03h-.62c-9.31 0-12.5 1.74-12.5 7.84zM165.2 144c0-3.81-.4-5.81-1.61-7.72-1.3-1.99-3.2-3.01-5.9-3.01-5.12 0-8.04 4.02-8.04 11.13v.19h15.54V144h.01zm7.82 109.49c0 4.01 2.52 6.72 5.94 6.72 2.5 0 5.01-1.32 7.01-3.52l.21-11.03h-.6c-9.34.01-12.56 1.73-12.56 7.83zm-34.34-17.25c0-3.81-.41-5.8-1.6-7.7-1.32-2.02-3.22-3.03-5.94-3.03-5.11 0-8 4.03-8 11.14v.19h15.53v-.6h.01zM316 319.32c-5.1 0-8.01 4.02-8.01 11.15v.19h15.54v-.59c0-3.82-.39-5.83-1.59-7.72-1.32-2.02-3.22-3.03-5.94-3.03z\" fill=\"currentColor\"></path>\n",
      "<path d=\"M372.65 228.54c-1.33-.7-2.41-1.01-3.91-1.01-3.02 0-5.74 1.4-8.21 4.3v36.3h-13.46v-34.3c0-6.9-.8-12.13-1.9-15.02l12.02-3.24c1.21 2.11 1.9 4.44 2.12 7.32 1.92-2.59 5.09-5.4 7.63-6.51 1.1-.49 2.9-.81 4.38-.81 2.02 0 2.92.2 5.03 1.11l-3.7 11.86zM360.2 363.13c-5.73 0-10.32-2.69-11.94-7.03-1.01-2.59-1.21-4.18-1.21-11.5v-38.29c0-6.72-.19-10.82-.69-15.45l13.73-3.11c.5 2.81.71 6.14.71 13.33v40c0 8.82.1 10.02.88 11.42.5.89 1.62 1.39 2.72 1.39.5 0 .79 0 1.49-.18l2.3 8.02c-2.29.9-5.08 1.4-7.99 1.4zm-22.42-116.48h-29.67v.44c0 7.91 3.91 12.41 10.83 12.41 4.61 0 8.92-1.71 13.03-5.11l5.21 8.04c-5.91 4.8-12.12 7.1-19.34 7.1-14.73 0-24.25-10.43-24.25-26.55 0-9.24 1.89-15.35 6.4-20.35 4.22-4.72 9.33-6.92 16.14-6.92 5.92 0 11.53 1.99 14.85 5.4 4.7 4.83 6.81 11.76 6.81 22.47v3.07h-.01zm-.32 93.83H307.8v.41c0 7.9 3.92 12.42 10.83 12.42 4.62 0 8.91-1.72 13.02-5.12l5.23 8.04c-5.92 4.8-12.13 7.1-19.35 7.1-14.74 0-24.26-10.43-24.26-26.55 0-9.23 1.9-15.35 6.4-20.35 4.22-4.73 9.33-6.92 16.14-6.92 5.9 0 11.53 2.01 14.84 5.42 4.71 4.8 6.81 11.73 6.81 22.43v3.12zm-50.78-72.34h-13.13v-34.5c0-5.09-1.4-7.01-5.21-7.01-3.31 0-7.63 2.01-10.62 4.73v36.78h-13.63v-59.35c0-4.82-.4-9.61-1-11.73l13.73-3.21c.59 2.81.9 7.61.9 12.52v10.22c0 1.61-.2 3.72-.2 4.32 3.51-3.31 9.31-5.52 14.54-5.52 6.51 0 11.72 2.81 13.33 7.31.99 2.94 1.3 4.63 1.3 9.54v35.9h-.01zm-2.73 93.8h-13.23v-33.38c0-5.81-1.01-7.52-4.51-7.52-2.7 0-6.22 1.82-9.31 4.62v36.28h-13.45v-37.19c0-4.41-.6-8.61-1.79-12.04l11.95-3.4c1.18 2.1 1.88 4.\n"
     ]
    }
   ],
   "source": [
    "# use DuckDuckGo to find websites and take the first result\n",
    "url = weather_results[0]\n",
    "\n",
    "# scrape first wesbsite\n",
    "soup = scrape_weather_info(url)\n",
    "\n",
    "print(f\"Website: {url}\\n\\n\")\n",
    "print(str(soup.body)[:5000]) # limit long outputs"
   ]
  },
  {
   "cell_type": "code",
   "execution_count": 15,
   "id": "fc7f07f1",
   "metadata": {},
   "outputs": [
    {
     "name": "stdout",
     "output_type": "stream",
     "text": [
      "Website: https://weather.com/weather/tenday/l/c3e96d6cc4965fc54f88296b54449571c4107c73b9638c16aafc83575b4ddf2e\n",
      "\n",
      "\n",
      "Recent Locations Weather Forecasts Radar & Maps News & Media Products & Account Lifestyle Specialty Forecasts 10 Day Weather - New Delhi, Delhi, India Tonight Night Cloudy skies early with isolated thunderstorms developing late. Hazy. Low around 80F. Winds light and variable. Chance of rain 30%. Heads-up Enjoy Fall-Like Weather While It Lasts Thu 28 Day Scattered showers and thunderstorms. Hazy. High 89F. Winds ESE at 5 to 10 mph. Chance of rain 50%. Night Scattered thunderstorms. Hazy. Low near 80F. Winds light and variable. Chance of rain 50%. Fri 29 Day Thunderstorms likely in the morning. Then a chance of scattered thunderstorms in the afternoon. Hazy. High 87F. Winds ESE at 5 to 10 mph. Chance of rain 70%. Night Cloudy skies early with thunderstorms developing later at night. Hazy. Low 79F. Winds E at 5 to 10 mph. Chance of rain 70%. Sat 30 Day Thunderstorms likely in the morning. Then a chance of scattered thunderstorms in the afternoon. Hazy. High 88F. Winds E at 5 to 10 mph. Chance of rain 70%. Night Scattered thunderstorms in the evening, then mainly cloudy overnight with thunderstorms likely. Hazy. Low 79F. Winds light and variable. Chance of rain 80%. Sun 31 Day Thunderstorms likely. Hazy. High 86F. Winds ESE at 5 to 10 mph. Chance of rain 80%. Night Thunderstorms. Hazy. Low 77F. Winds light and variable. Chance of rain 90%. Mon 01 Day Thunderstorms likely. Hazy. High 82F. Winds E at 5 to 10 mph. Chance of rain 90%. Night Thunderstorms. Hazy. Low 76F. Winds E at 5 to 10 mph. Chance of rain 80%. Tue 02 Day Thunderstorms. Hazy. High 82F. Winds E at 5 to 10 mph. Chance of rain 80%. Night Rain showers in the evening with thunderstorms developing overnight. Hazy. Low 76F. Winds ENE at 5 to 10 mph. Chance of rain 70%. Wed 03 Day Thunderstorms. Hazy. High 86F. Winds ENE at 5 to 10 mph. Chance of rain 70%. Night Showers early then scattered thunderstorms developing late. Hazy. Low 78F. Winds light and variable. Chance of rain 60%. Thu 04 Day Scattered showers and thunderstorms. Hazy. High 88F. Winds NE at 5 to 10 mph. Chance of rain 60%. Night Partial cloudiness early, with scattered showers and thunderstorms later during the night. Hazy. Low 79F. Winds light and variable. Chance of rain 60%. Fri 05 Day Scattered thunderstorms in the morning becoming more widespread in the afternoon. Hazy. High 88F. Winds NE at 5 to 10 mph. Chance of rain 60%. Night Scattered thunderstorms during the evening becoming more widespread overnight. Hazy. Low 78F. Winds light and variable. Chance of rain 60%. Sat 06 Day Scattered thunderstorms in the morning, then mainly cloudy during the afternoon with thunderstorms likely. Hazy. High 87F. Winds ENE at 5 to 10 mph. Chance of rain 60%. Night Scattered thunderstorms. Hazy. Low 78F. Winds ENE at 5 to 10 mph. Chance of rain 60%. Sun 07 Day Scattered thunderstorms in the morning becoming more widespread in the afternoon. Hazy. High 88F. Winds E at 5 to 10 mph. Chance of rain 60%. Night Scattered thunderstorms during the evening becoming more widespread overnight. Hazy. Low 78F. Winds ENE at 5 to 10 mph. Chance of rain 60%. Mon 08 Day Scattered thunderstorms in the morning, then mainly cloudy during the afternoon with thunderstorms likely. Hazy. High 87F. Winds E at 5 to 10 mph. Chance of rain 60%. Night Showers and scattered thunderstorms. Hazy. Low 78F. Winds E at 5 to 10 mph. Chance of rain 60%. Tue 09 Day Variable clouds with scattered thunderstorms. Hazy. High 87F. Winds E at 5 to 10 mph. Chance of rain 60%. Night Cloudy with occasional showers. Hazy. Low 78F. Winds light and variable. Chance of rain 50%. Wed 10 Day Variable clouds with scattered thunderstorms. Hazy. High 89F. Winds NNE at 5 to 10 mph. Chance of rain 50%. Night Mostly cloudy skies early, then partly cloudy after midnight. Hazy. Low 78F. Winds light and variable. Don't Miss Radar Summer And Your Skin Home, Garage & Garden Travel Seasonal Hub 20 Years Since Katrina Sun & Moon When To Visit, What To Do Product Reviews & Deals Keep Cool While Outdoors With This Practical Labor Day Deal Summer Shedding? Here Are The Best Pet Hair Removers A Beginner’s Guide To Vitamin C Serums Storm Prep Essentials: Lighters, Radios, And Other Necessities Stay Safe Air Quality Index Members of sensitive groups may experience health effects. The general public is not likely to be affected. Health & Activities Seasonal Allergies and Pollen Count Forecast No pollen detected in your area We recognize our responsibility to use data and technology for good. We may use or share your data with our data vendors. Take control of your data. The Weather Channel is the world's most accurate forecaster according to ForecastWatch, Global and Regional Weather Forecast Accuracy Overview , 2021-2024, commissioned by The Weather Company . Weather Channel © The Weather Company, LLC 2025\n"
     ]
    }
   ],
   "source": [
    "# extract text\n",
    "weather_data = []\n",
    "for tag in soup.find_all(['h1', 'h2', 'h3', 'p']):\n",
    "    text = tag.get_text(\" \", strip=True)\n",
    "    weather_data.append(text)\n",
    "\n",
    "# combine all elements into a single string\n",
    "weather_data = \"\\n\".join(weather_data)\n",
    "\n",
    "# remove all spaces from the combined text\n",
    "weather_data = re.sub(r'\\s+', ' ', weather_data)\n",
    "    \n",
    "print(f\"Website: {url}\\n\\n\")\n",
    "print(weather_data)"
   ]
  },
  {
   "cell_type": "code",
   "execution_count": 16,
   "id": "3625e844",
   "metadata": {},
   "outputs": [
    {
     "name": "stdout",
     "output_type": "stream",
     "text": [
      "{'location': {'name': 'New Delhi', 'region': 'Delhi', 'country': 'India', 'lat': 28.6, 'lon': 77.2, 'tz_id': 'Asia/Kolkata', 'localtime_epoch': 1756304028, 'localtime': '2025-08-27 19:43'}, 'current': {'last_updated_epoch': 1756303200, 'last_updated': '2025-08-27 19:30', 'temp_c': 28.0, 'temp_f': 82.4, 'is_day': 0, 'condition': {'text': 'Mist', 'icon': '//cdn.weatherapi.com/weather/64x64/night/143.png', 'code': 1030}, 'wind_mph': 6.3, 'wind_kph': 10.1, 'wind_degree': 106, 'wind_dir': 'ESE', 'pressure_mb': 1002.0, 'pressure_in': 29.59, 'precip_mm': 0.0, 'precip_in': 0.0, 'humidity': 89, 'cloud': 75, 'feelslike_c': 29.6, 'feelslike_f': 85.3, 'windchill_c': 32.1, 'windchill_f': 89.7, 'heatindex_c': 37.1, 'heatindex_f': 98.8, 'dewpoint_c': 23.0, 'dewpoint_f': 73.4, 'vis_km': 3.2, 'vis_miles': 1.0, 'uv': 0.0, 'gust_mph': 8.7, 'gust_kph': 14.1}}\n"
     ]
    }
   ],
   "source": [
    "#as visible its lot of HTML parsing.\n",
    "#now trying agentic search\n",
    "\n",
    "# run search\n",
    "result = client.search(query, max_results=1)\n",
    "\n",
    "# print first result\n",
    "data = result[\"results\"][0][\"content\"]\n",
    "\n",
    "print(data)"
   ]
  },
  {
   "cell_type": "code",
   "execution_count": 17,
   "id": "720e17a8",
   "metadata": {},
   "outputs": [
    {
     "name": "stdout",
     "output_type": "stream",
     "text": [
      "{\u001b[37m\u001b[39;49;00m\n",
      "\u001b[37m    \u001b[39;49;00m\u001b[94m\"location\"\u001b[39;49;00m:\u001b[37m \u001b[39;49;00m{\u001b[37m\u001b[39;49;00m\n",
      "\u001b[37m        \u001b[39;49;00m\u001b[94m\"name\"\u001b[39;49;00m:\u001b[37m \u001b[39;49;00m\u001b[33m\"New Delhi\"\u001b[39;49;00m,\u001b[37m\u001b[39;49;00m\n",
      "\u001b[37m        \u001b[39;49;00m\u001b[94m\"region\"\u001b[39;49;00m:\u001b[37m \u001b[39;49;00m\u001b[33m\"Delhi\"\u001b[39;49;00m,\u001b[37m\u001b[39;49;00m\n",
      "\u001b[37m        \u001b[39;49;00m\u001b[94m\"country\"\u001b[39;49;00m:\u001b[37m \u001b[39;49;00m\u001b[33m\"India\"\u001b[39;49;00m,\u001b[37m\u001b[39;49;00m\n",
      "\u001b[37m        \u001b[39;49;00m\u001b[94m\"lat\"\u001b[39;49;00m:\u001b[37m \u001b[39;49;00m\u001b[34m28.6\u001b[39;49;00m,\u001b[37m\u001b[39;49;00m\n",
      "\u001b[37m        \u001b[39;49;00m\u001b[94m\"lon\"\u001b[39;49;00m:\u001b[37m \u001b[39;49;00m\u001b[34m77.2\u001b[39;49;00m,\u001b[37m\u001b[39;49;00m\n",
      "\u001b[37m        \u001b[39;49;00m\u001b[94m\"tz_id\"\u001b[39;49;00m:\u001b[37m \u001b[39;49;00m\u001b[33m\"Asia/Kolkata\"\u001b[39;49;00m,\u001b[37m\u001b[39;49;00m\n",
      "\u001b[37m        \u001b[39;49;00m\u001b[94m\"localtime_epoch\"\u001b[39;49;00m:\u001b[37m \u001b[39;49;00m\u001b[34m1756304028\u001b[39;49;00m,\u001b[37m\u001b[39;49;00m\n",
      "\u001b[37m        \u001b[39;49;00m\u001b[94m\"localtime\"\u001b[39;49;00m:\u001b[37m \u001b[39;49;00m\u001b[33m\"2025-08-27 19:43\"\u001b[39;49;00m\u001b[37m\u001b[39;49;00m\n",
      "\u001b[37m    \u001b[39;49;00m},\u001b[37m\u001b[39;49;00m\n",
      "\u001b[37m    \u001b[39;49;00m\u001b[94m\"current\"\u001b[39;49;00m:\u001b[37m \u001b[39;49;00m{\u001b[37m\u001b[39;49;00m\n",
      "\u001b[37m        \u001b[39;49;00m\u001b[94m\"last_updated_epoch\"\u001b[39;49;00m:\u001b[37m \u001b[39;49;00m\u001b[34m1756303200\u001b[39;49;00m,\u001b[37m\u001b[39;49;00m\n",
      "\u001b[37m        \u001b[39;49;00m\u001b[94m\"last_updated\"\u001b[39;49;00m:\u001b[37m \u001b[39;49;00m\u001b[33m\"2025-08-27 19:30\"\u001b[39;49;00m,\u001b[37m\u001b[39;49;00m\n",
      "\u001b[37m        \u001b[39;49;00m\u001b[94m\"temp_c\"\u001b[39;49;00m:\u001b[37m \u001b[39;49;00m\u001b[34m28.0\u001b[39;49;00m,\u001b[37m\u001b[39;49;00m\n",
      "\u001b[37m        \u001b[39;49;00m\u001b[94m\"temp_f\"\u001b[39;49;00m:\u001b[37m \u001b[39;49;00m\u001b[34m82.4\u001b[39;49;00m,\u001b[37m\u001b[39;49;00m\n",
      "\u001b[37m        \u001b[39;49;00m\u001b[94m\"is_day\"\u001b[39;49;00m:\u001b[37m \u001b[39;49;00m\u001b[34m0\u001b[39;49;00m,\u001b[37m\u001b[39;49;00m\n",
      "\u001b[37m        \u001b[39;49;00m\u001b[94m\"condition\"\u001b[39;49;00m:\u001b[37m \u001b[39;49;00m{\u001b[37m\u001b[39;49;00m\n",
      "\u001b[37m            \u001b[39;49;00m\u001b[94m\"text\"\u001b[39;49;00m:\u001b[37m \u001b[39;49;00m\u001b[33m\"Mist\"\u001b[39;49;00m,\u001b[37m\u001b[39;49;00m\n",
      "\u001b[37m            \u001b[39;49;00m\u001b[94m\"icon\"\u001b[39;49;00m:\u001b[37m \u001b[39;49;00m\u001b[33m\"//cdn.weatherapi.com/weather/64x64/night/143.png\"\u001b[39;49;00m,\u001b[37m\u001b[39;49;00m\n",
      "\u001b[37m            \u001b[39;49;00m\u001b[94m\"code\"\u001b[39;49;00m:\u001b[37m \u001b[39;49;00m\u001b[34m1030\u001b[39;49;00m\u001b[37m\u001b[39;49;00m\n",
      "\u001b[37m        \u001b[39;49;00m},\u001b[37m\u001b[39;49;00m\n",
      "\u001b[37m        \u001b[39;49;00m\u001b[94m\"wind_mph\"\u001b[39;49;00m:\u001b[37m \u001b[39;49;00m\u001b[34m6.3\u001b[39;49;00m,\u001b[37m\u001b[39;49;00m\n",
      "\u001b[37m        \u001b[39;49;00m\u001b[94m\"wind_kph\"\u001b[39;49;00m:\u001b[37m \u001b[39;49;00m\u001b[34m10.1\u001b[39;49;00m,\u001b[37m\u001b[39;49;00m\n",
      "\u001b[37m        \u001b[39;49;00m\u001b[94m\"wind_degree\"\u001b[39;49;00m:\u001b[37m \u001b[39;49;00m\u001b[34m106\u001b[39;49;00m,\u001b[37m\u001b[39;49;00m\n",
      "\u001b[37m        \u001b[39;49;00m\u001b[94m\"wind_dir\"\u001b[39;49;00m:\u001b[37m \u001b[39;49;00m\u001b[33m\"ESE\"\u001b[39;49;00m,\u001b[37m\u001b[39;49;00m\n",
      "\u001b[37m        \u001b[39;49;00m\u001b[94m\"pressure_mb\"\u001b[39;49;00m:\u001b[37m \u001b[39;49;00m\u001b[34m1002.0\u001b[39;49;00m,\u001b[37m\u001b[39;49;00m\n",
      "\u001b[37m        \u001b[39;49;00m\u001b[94m\"pressure_in\"\u001b[39;49;00m:\u001b[37m \u001b[39;49;00m\u001b[34m29.59\u001b[39;49;00m,\u001b[37m\u001b[39;49;00m\n",
      "\u001b[37m        \u001b[39;49;00m\u001b[94m\"precip_mm\"\u001b[39;49;00m:\u001b[37m \u001b[39;49;00m\u001b[34m0.0\u001b[39;49;00m,\u001b[37m\u001b[39;49;00m\n",
      "\u001b[37m        \u001b[39;49;00m\u001b[94m\"precip_in\"\u001b[39;49;00m:\u001b[37m \u001b[39;49;00m\u001b[34m0.0\u001b[39;49;00m,\u001b[37m\u001b[39;49;00m\n",
      "\u001b[37m        \u001b[39;49;00m\u001b[94m\"humidity\"\u001b[39;49;00m:\u001b[37m \u001b[39;49;00m\u001b[34m89\u001b[39;49;00m,\u001b[37m\u001b[39;49;00m\n",
      "\u001b[37m        \u001b[39;49;00m\u001b[94m\"cloud\"\u001b[39;49;00m:\u001b[37m \u001b[39;49;00m\u001b[34m75\u001b[39;49;00m,\u001b[37m\u001b[39;49;00m\n",
      "\u001b[37m        \u001b[39;49;00m\u001b[94m\"feelslike_c\"\u001b[39;49;00m:\u001b[37m \u001b[39;49;00m\u001b[34m29.6\u001b[39;49;00m,\u001b[37m\u001b[39;49;00m\n",
      "\u001b[37m        \u001b[39;49;00m\u001b[94m\"feelslike_f\"\u001b[39;49;00m:\u001b[37m \u001b[39;49;00m\u001b[34m85.3\u001b[39;49;00m,\u001b[37m\u001b[39;49;00m\n",
      "\u001b[37m        \u001b[39;49;00m\u001b[94m\"windchill_c\"\u001b[39;49;00m:\u001b[37m \u001b[39;49;00m\u001b[34m32.1\u001b[39;49;00m,\u001b[37m\u001b[39;49;00m\n",
      "\u001b[37m        \u001b[39;49;00m\u001b[94m\"windchill_f\"\u001b[39;49;00m:\u001b[37m \u001b[39;49;00m\u001b[34m89.7\u001b[39;49;00m,\u001b[37m\u001b[39;49;00m\n",
      "\u001b[37m        \u001b[39;49;00m\u001b[94m\"heatindex_c\"\u001b[39;49;00m:\u001b[37m \u001b[39;49;00m\u001b[34m37.1\u001b[39;49;00m,\u001b[37m\u001b[39;49;00m\n",
      "\u001b[37m        \u001b[39;49;00m\u001b[94m\"heatindex_f\"\u001b[39;49;00m:\u001b[37m \u001b[39;49;00m\u001b[34m98.8\u001b[39;49;00m,\u001b[37m\u001b[39;49;00m\n",
      "\u001b[37m        \u001b[39;49;00m\u001b[94m\"dewpoint_c\"\u001b[39;49;00m:\u001b[37m \u001b[39;49;00m\u001b[34m23.0\u001b[39;49;00m,\u001b[37m\u001b[39;49;00m\n",
      "\u001b[37m        \u001b[39;49;00m\u001b[94m\"dewpoint_f\"\u001b[39;49;00m:\u001b[37m \u001b[39;49;00m\u001b[34m73.4\u001b[39;49;00m,\u001b[37m\u001b[39;49;00m\n",
      "\u001b[37m        \u001b[39;49;00m\u001b[94m\"vis_km\"\u001b[39;49;00m:\u001b[37m \u001b[39;49;00m\u001b[34m3.2\u001b[39;49;00m,\u001b[37m\u001b[39;49;00m\n",
      "\u001b[37m        \u001b[39;49;00m\u001b[94m\"vis_miles\"\u001b[39;49;00m:\u001b[37m \u001b[39;49;00m\u001b[34m1.0\u001b[39;49;00m,\u001b[37m\u001b[39;49;00m\n",
      "\u001b[37m        \u001b[39;49;00m\u001b[94m\"uv\"\u001b[39;49;00m:\u001b[37m \u001b[39;49;00m\u001b[34m0.0\u001b[39;49;00m,\u001b[37m\u001b[39;49;00m\n",
      "\u001b[37m        \u001b[39;49;00m\u001b[94m\"gust_mph\"\u001b[39;49;00m:\u001b[37m \u001b[39;49;00m\u001b[34m8.7\u001b[39;49;00m,\u001b[37m\u001b[39;49;00m\n",
      "\u001b[37m        \u001b[39;49;00m\u001b[94m\"gust_kph\"\u001b[39;49;00m:\u001b[37m \u001b[39;49;00m\u001b[34m14.1\u001b[39;49;00m\u001b[37m\u001b[39;49;00m\n",
      "\u001b[37m    \u001b[39;49;00m}\u001b[37m\u001b[39;49;00m\n",
      "}\u001b[37m\u001b[39;49;00m\n",
      "\n"
     ]
    }
   ],
   "source": [
    "#formatting to json for agents \n",
    "import json\n",
    "from pygments import highlight, lexers, formatters\n",
    "\n",
    "# parse JSON\n",
    "parsed_json = json.loads(data.replace(\"'\", '\"'))\n",
    "\n",
    "# pretty print JSON with syntax highlighting\n",
    "formatted_json = json.dumps(parsed_json, indent=4)\n",
    "colorful_json = highlight(formatted_json,\n",
    "                          lexers.JsonLexer(),\n",
    "                          formatters.TerminalFormatter())\n",
    "\n",
    "print(colorful_json)\n"
   ]
  },
  {
   "cell_type": "code",
   "execution_count": null,
   "id": "94d3ef23",
   "metadata": {},
   "outputs": [],
   "source": []
  }
 ],
 "metadata": {
  "kernelspec": {
   "display_name": ".venv",
   "language": "python",
   "name": "python3"
  },
  "language_info": {
   "codemirror_mode": {
    "name": "ipython",
    "version": 3
   },
   "file_extension": ".py",
   "mimetype": "text/x-python",
   "name": "python",
   "nbconvert_exporter": "python",
   "pygments_lexer": "ipython3",
   "version": "3.13.7"
  }
 },
 "nbformat": 4,
 "nbformat_minor": 5
}
