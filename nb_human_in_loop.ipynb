{
 "cells": [
  {
   "cell_type": "code",
   "execution_count": 5,
   "id": "e69ffeb2",
   "metadata": {},
   "outputs": [],
   "source": [
    "import os\n",
    "from dotenv import load_dotenv\n",
    "from langchain_openai import AzureChatOpenAI\n",
    "from langgraph.graph import StateGraph, END\n",
    "from typing import TypedDict, Annotated\n",
    "import operator\n",
    "from langchain_core.messages import AnyMessage, SystemMessage, HumanMessage, ToolMessage\n",
    "from langchain_community.tools.tavily_search import TavilySearchResults\n",
    "from langgraph.checkpoint.sqlite import SqliteSaver\n",
    "import sqlite3\n",
    "\n",
    "# Load environment variables\n",
    "load_dotenv()\n",
    "\n",
    "# Get Azure OpenAI configuration from environment variables\n",
    "azure_openai_api_key = os.getenv(\"AZURE_OPENAI_KEY\")\n",
    "azure_openai_endpoint = os.getenv(\"AZURE_OPENAI_ENDPOINT\")\n",
    "azure_openai_api_version = os.getenv(\"AZURE_OPENAI_VERSION\")\n",
    "azure_openai_deployment_name = os.getenv(\"AZURE_OPENAI_DEPLOYMENT_NAME\")\n",
    "azure_openai_embedding_deployment_name = os.getenv(\"AZURE_OPENAI_EmBEDDING_DEPLOYMENT_NAME \")\n",
    "\n",
    "llm = AzureChatOpenAI(\n",
    "    azure_deployment=azure_openai_deployment_name,\n",
    "    api_version=azure_openai_api_version,\n",
    "    api_key=azure_openai_api_key,\n",
    "    temperature=0\n",
    ")\n",
    "\n",
    "#create a tavily api key and use in environment file\n",
    "tool = TavilySearchResults(max_results=2)\n",
    "\n"
   ]
  },
  {
   "cell_type": "code",
   "execution_count": 6,
   "id": "be949fca",
   "metadata": {},
   "outputs": [],
   "source": [
    "from uuid import uuid4\n",
    "from langchain_core.messages import AnyMessage, SystemMessage, HumanMessage, AIMessage\n",
    "\n",
    "\"\"\"\n",
    "In previous examples we've annotated the `messages` state key\n",
    "with the default `operator.add` or `+` reducer, which always\n",
    "appends new messages to the end of the existing messages array.\n",
    "\n",
    "Now, to support replacing existing messages, we annotate the\n",
    "`messages` key with a customer reducer function, which replaces\n",
    "messages with the same `id`, and appends them otherwise.\n",
    "\"\"\"\n",
    "def reduce_messages(left: list[AnyMessage], right: list[AnyMessage]) -> list[AnyMessage]:\n",
    "    # assign ids to messages that don't have them\n",
    "    for message in right:\n",
    "        if not message.id:\n",
    "            message.id = str(uuid4())\n",
    "    # merge the new messages with the existing messages\n",
    "    merged = left.copy()\n",
    "    for message in right:\n",
    "        for i, existing in enumerate(merged):\n",
    "            # replace any existing messages with the same id\n",
    "            if existing.id == message.id:\n",
    "                merged[i] = message\n",
    "                break\n",
    "        else:\n",
    "            # append any new messages to the end\n",
    "            merged.append(message)\n",
    "    return merged\n",
    "\n",
    "class AgentState(TypedDict):\n",
    "    messages: Annotated[list[AnyMessage], reduce_messages]"
   ]
  },
  {
   "cell_type": "code",
   "execution_count": 7,
   "id": "06d236bd",
   "metadata": {},
   "outputs": [],
   "source": [
    "class Agent:\n",
    "    def __init__(self, model, tools, checkpointer=None, system=\"\"):\n",
    "        self.system = system\n",
    "        graph = StateGraph(AgentState)\n",
    "        graph.add_node(\"llm\", self.call_openai)\n",
    "        graph.add_node(\"action\", self.take_action)\n",
    "        graph.add_conditional_edges(\"llm\", self.exists_action, {True: \"action\", False: END})\n",
    "        graph.add_edge(\"action\", \"llm\")\n",
    "        graph.set_entry_point(\"llm\")\n",
    "        self.graph = graph.compile(checkpointer=checkpointer, interrupt_before=[\"action\"]) #human in the loop\n",
    "        self.tools = {t.name: t for t in tools}\n",
    "        self.model = model.bind_tools(tools)\n",
    "\n",
    "    def call_openai(self, state: AgentState):\n",
    "        messages = state['messages']\n",
    "        if self.system:\n",
    "            messages = [SystemMessage(content=self.system)] + messages\n",
    "        message = self.model.invoke(messages)\n",
    "        return {'messages': [message]}\n",
    "\n",
    "    def exists_action(self, state: AgentState):\n",
    "        result = state['messages'][-1]\n",
    "        return len(result.tool_calls) > 0\n",
    "\n",
    "    def take_action(self, state: AgentState):\n",
    "        tool_calls = state['messages'][-1].tool_calls\n",
    "        results = []\n",
    "        for t in tool_calls:\n",
    "            print(f\"Calling: {t}\")\n",
    "            result = self.tools[t['name']].invoke(t['args'])\n",
    "            results.append(ToolMessage(tool_call_id=t['id'], name=t['name'], content=str(result)))\n",
    "        print(\"Back to the model!\")\n",
    "        return {'messages': results}"
   ]
  },
  {
   "cell_type": "code",
   "execution_count": 8,
   "id": "b0f3fc7c",
   "metadata": {},
   "outputs": [],
   "source": [
    "prompt = \"\"\"You are a smart research assistant. Use the search engine to look up information. \\\n",
    "You are allowed to make multiple calls (either together or in sequence). \\\n",
    "Only look up information when you are sure of what you want. \\\n",
    "If you need to look up some information before asking a follow up question, you are allowed to do that!\n",
    "\"\"\"\n",
    "\n",
    "sqlite_conn = sqlite3.connect('checkpoint.sqlite', check_same_thread=False)\n",
    "memory = SqliteSaver(sqlite_conn)\n",
    "\n",
    "abot = Agent(llm, [tool], system=prompt, checkpointer=memory)"
   ]
  },
  {
   "cell_type": "code",
   "execution_count": 9,
   "id": "baf69f48",
   "metadata": {},
   "outputs": [
    {
     "name": "stdout",
     "output_type": "stream",
     "text": [
      "{'messages': [AIMessage(content='', additional_kwargs={'tool_calls': [{'id': 'call_3i5vTVAfLmMzy43oZZGYr9Fu', 'function': {'arguments': '{\"query\":\"current weather in San Francisco\"}', 'name': 'tavily_search_results_json'}, 'type': 'function'}], 'refusal': None}, response_metadata={'token_usage': {'completion_tokens': 23, 'prompt_tokens': 1169, 'total_tokens': 1192, 'completion_tokens_details': {'accepted_prediction_tokens': 0, 'audio_tokens': 0, 'reasoning_tokens': 0, 'rejected_prediction_tokens': 0}, 'prompt_tokens_details': {'audio_tokens': 0, 'cached_tokens': 0}}, 'model_name': 'gpt-4o-2024-11-20', 'system_fingerprint': 'fp_3eed281ddb', 'id': 'chatcmpl-CAuvkooaubHhn9tkqHdhoGeG6sOkq', 'service_tier': None, 'prompt_filter_results': [{'prompt_index': 0, 'content_filter_results': {'hate': {'filtered': False, 'severity': 'safe'}, 'jailbreak': {'filtered': False, 'detected': False}, 'self_harm': {'filtered': False, 'severity': 'safe'}, 'sexual': {'filtered': False, 'severity': 'safe'}, 'violence': {'filtered': False, 'severity': 'safe'}}}], 'finish_reason': 'tool_calls', 'logprobs': None, 'content_filter_results': {}}, id='run--6a93ce54-7694-496d-883d-d69ee8cf06d5-0', tool_calls=[{'name': 'tavily_search_results_json', 'args': {'query': 'current weather in San Francisco'}, 'id': 'call_3i5vTVAfLmMzy43oZZGYr9Fu', 'type': 'tool_call'}], usage_metadata={'input_tokens': 1169, 'output_tokens': 23, 'total_tokens': 1192, 'input_token_details': {'audio': 0, 'cache_read': 0}, 'output_token_details': {'audio': 0, 'reasoning': 0}})]}\n",
      "()\n"
     ]
    }
   ],
   "source": [
    "messages = [HumanMessage(content=\"Whats the weather in SF?\")]\n",
    "thread = {\"configurable\": {\"thread_id\": \"1\"}}\n",
    "for event in abot.graph.stream({\"messages\": messages}, thread):\n",
    "    for v in event.values():\n",
    "        print(v)\n",
    "\n",
    "#you can see in results below that the tool is not called and it stops"
   ]
  },
  {
   "cell_type": "code",
   "execution_count": 10,
   "id": "8bffba3a",
   "metadata": {},
   "outputs": [
    {
     "data": {
      "text/plain": [
       "StateSnapshot(values={'messages': [HumanMessage(content='Whats the weather in SF?', additional_kwargs={}, response_metadata={}, id='cf13e1f7-335f-468c-99a5-31f074775885'), AIMessage(content='', additional_kwargs={'tool_calls': [{'id': 'call_iBMcQwAPkbQq88V3FYGfSKHI', 'function': {'arguments': '{\"query\":\"current weather in San Francisco\"}', 'name': 'tavily_search_results_json'}, 'type': 'function'}], 'refusal': None}, response_metadata={'token_usage': {'completion_tokens': 23, 'prompt_tokens': 150, 'total_tokens': 173, 'completion_tokens_details': {'accepted_prediction_tokens': 0, 'audio_tokens': 0, 'reasoning_tokens': 0, 'rejected_prediction_tokens': 0}, 'prompt_tokens_details': {'audio_tokens': 0, 'cached_tokens': 0}}, 'model_name': 'gpt-4o-2024-11-20', 'system_fingerprint': 'fp_3eed281ddb', 'id': 'chatcmpl-CAunBY8UZfUwF7zd4IS7NhLCpi40E', 'service_tier': None, 'prompt_filter_results': [{'prompt_index': 0, 'content_filter_results': {'hate': {'filtered': False, 'severity': 'safe'}, 'jailbreak': {'filtered': False, 'detected': False}, 'self_harm': {'filtered': False, 'severity': 'safe'}, 'sexual': {'filtered': False, 'severity': 'safe'}, 'violence': {'filtered': False, 'severity': 'safe'}}}], 'finish_reason': 'tool_calls', 'logprobs': None, 'content_filter_results': {}}, id='run--16fd555e-0423-4035-839a-1d70d5f10e30-0', tool_calls=[{'name': 'tavily_search_results_json', 'args': {'query': 'current weather in San Francisco'}, 'id': 'call_iBMcQwAPkbQq88V3FYGfSKHI', 'type': 'tool_call'}], usage_metadata={'input_tokens': 150, 'output_tokens': 23, 'total_tokens': 173, 'input_token_details': {'audio': 0, 'cache_read': 0}, 'output_token_details': {'audio': 0, 'reasoning': 0}}), ToolMessage(content=\"[{'title': 'San Francisco weather in September 2025 | Weather25.com', 'url': 'https://www.weather25.com/north-america/usa/california/san-francisco?page=month&month=September', 'content': '| Month | Temperatures | Rainy Days | Dry Days | Snowy Days | Rainfall | Weather | More details |\\\\n ---  ---  ---  --- |\\\\n| January | 15° / 7° | 4 | 27 | 0 | 63 mm | Good | San Francisco in January |\\\\n| February | 16° / 7° | 4 | 24 | 0 | 61 mm | Good | San Francisco in February |\\\\n| March | 17° / 8° | 5 | 26 | 0 | 62 mm | Good | San Francisco in March |\\\\n| April | 18° / 9° | 2 | 28 | 0 | 22 mm | Good | San Francisco in April |\\\\n| May | 20° / 10° | 1 | 30 | 0 | 13 mm | Good | San Francisco in May | [...] Mist\\\\nFog\\\\nFog\\\\nPatchy rain possible\\\\nCloudy\\\\nSunny\\\\nSunny\\\\nPartly cloudy\\\\nPartly cloudy\\\\nSunny\\\\nSunny\\\\nSunny\\\\nPartly cloudy\\\\nSunny\\\\nPartly cloudy\\\\nPartly cloudy\\\\nPartly cloudy\\\\nMist\\\\nSunny\\\\nSunny\\\\nSunny\\\\nPartly cloudy\\\\nSunny\\\\nMist\\\\nPartly cloudy\\\\nPartly cloudy\\\\nCloudy\\\\nSunny\\\\nPartly cloudy\\\\nSunny\\\\n\\\\n## Explore the weather in San Francisco in other months\\\\n\\\\n## San Francisco annual weather [...] | June | 23° / 12° | 0 | 30 | 0 | 6 mm | Perfect | San Francisco in June |\\\\n| July | 25° / 14° | 0 | 31 | 0 | 3 mm | Perfect | San Francisco in July |\\\\n| August | 25° / 14° | 0 | 31 | 0 | 3 mm | Perfect | San Francisco in August |\\\\n| September | 25° / 14° | 0 | 30 | 0 | 4 mm | Perfect | San Francisco in September |\\\\n| October | 23° / 13° | 1 | 30 | 0 | 26 mm | Perfect | San Francisco in October |\\\\n| November | 18° / 10° | 3 | 27 | 0 | 37 mm | Good | San Francisco in November |', 'score': 0.65835214}, {'title': 'Weather Forecast and Conditions for San Francisco, CA', 'url': 'https://weather.com/weather/today/l/USCA0987:1:US', 'content': '© The Weather Company, LLC 2025 [...] Partly cloudy skies. Low 58F. Winds light and variable.\\\\n\\\\n## Mon 01\\\\n\\\\n## Day\\\\n\\\\nA few clouds early, otherwise mostly sunny. High 78F. Winds W at 10 to 20 mph.\\\\n\\\\n## Night\\\\n\\\\nPartly cloudy skies. Low 58F. Winds SW at 10 to 15 mph.\\\\n\\\\n## Tue 02\\\\n\\\\n## Day\\\\n\\\\nIntervals of clouds and sunshine. High 71F. Winds WSW at 10 to 20 mph.\\\\n\\\\n## Night\\\\n\\\\nMainly cloudy. Low 58F. Winds WSW at 10 to 20 mph.\\\\n\\\\n## Wed 03\\\\n\\\\n## Day\\\\n\\\\nCloudy skies early will become partly cloudy later in the day. High 71F. Winds W at 10 to 20 mph. [...] ## Night\\\\n\\\\nCloudy skies early with areas of fog developing after midnight. Low 57F. Winds W at 10 to 15 mph.\\\\n\\\\n## Radar\\\\n\\\\n## Travel\\\\n\\\\n## We Love Our Critters\\\\n\\\\n## Summer And Your Skin\\\\n\\\\n## Home, Garage & Garden\\\\n\\\\n## The Rhythm Of Resilience\\\\n\\\\n## Keeping You Healthy\\\\n\\\\n## Product Reviews & Deals\\\\n\\\\nundefined\\\\n\\\\nLast Call For Summer Savings: Labor Day Weekend Deals\\\\n\\\\nundefined\\\\n\\\\nMake A Splash With This 4.8-Star Stand Up Paddleboard Sale\\\\n\\\\nundefined\\\\n\\\\nHot Weather Heroes: Best Countertop Ice Makers\\\\n\\\\nundefined', 'score': 0.48850358}]\", name='tavily_search_results_json', id='366df00e-8a94-4430-8f4d-38a9927c4de4', tool_call_id='call_iBMcQwAPkbQq88V3FYGfSKHI'), AIMessage(content='The current weather in San Francisco includes partly cloudy skies with temperatures around 71°F during the day and lows of about 58°F at night. Winds are light to moderate, ranging from 10 to 20 mph.', additional_kwargs={'refusal': None}, response_metadata={'token_usage': {'completion_tokens': 46, 'prompt_tokens': 1111, 'total_tokens': 1157, 'completion_tokens_details': {'accepted_prediction_tokens': 0, 'audio_tokens': 0, 'reasoning_tokens': 0, 'rejected_prediction_tokens': 0}, 'prompt_tokens_details': {'audio_tokens': 0, 'cached_tokens': 0}}, 'model_name': 'gpt-4o-2024-11-20', 'system_fingerprint': 'fp_3eed281ddb', 'id': 'chatcmpl-CAupQR6Cz9fdNXLyvz8hNGVRjkC4e', 'service_tier': None, 'prompt_filter_results': [{'prompt_index': 0, 'content_filter_results': {'hate': {'filtered': False, 'severity': 'safe'}, 'jailbreak': {'filtered': False, 'detected': False}, 'self_harm': {'filtered': False, 'severity': 'safe'}, 'sexual': {'filtered': False, 'severity': 'safe'}, 'violence': {'filtered': False, 'severity': 'safe'}}}], 'finish_reason': 'stop', 'logprobs': None, 'content_filter_results': {'hate': {'filtered': False, 'severity': 'safe'}, 'self_harm': {'filtered': False, 'severity': 'safe'}, 'sexual': {'filtered': False, 'severity': 'safe'}, 'violence': {'filtered': False, 'severity': 'safe'}}}, id='run--c53a145f-0cab-4c3e-8bd2-97e1c630ef2d-0', usage_metadata={'input_tokens': 1111, 'output_tokens': 46, 'total_tokens': 1157, 'input_token_details': {'audio': 0, 'cache_read': 0}, 'output_token_details': {'audio': 0, 'reasoning': 0}}), HumanMessage(content='Whats the weather in SF?', additional_kwargs={}, response_metadata={}, id='e5216393-4c2b-4e79-a583-8263f123cb63'), AIMessage(content='', additional_kwargs={'tool_calls': [{'id': 'call_3i5vTVAfLmMzy43oZZGYr9Fu', 'function': {'arguments': '{\"query\":\"current weather in San Francisco\"}', 'name': 'tavily_search_results_json'}, 'type': 'function'}], 'refusal': None}, response_metadata={'token_usage': {'completion_tokens': 23, 'prompt_tokens': 1169, 'total_tokens': 1192, 'completion_tokens_details': {'accepted_prediction_tokens': 0, 'audio_tokens': 0, 'reasoning_tokens': 0, 'rejected_prediction_tokens': 0}, 'prompt_tokens_details': {'audio_tokens': 0, 'cached_tokens': 0}}, 'model_name': 'gpt-4o-2024-11-20', 'system_fingerprint': 'fp_3eed281ddb', 'id': 'chatcmpl-CAuvkooaubHhn9tkqHdhoGeG6sOkq', 'service_tier': None, 'prompt_filter_results': [{'prompt_index': 0, 'content_filter_results': {'hate': {'filtered': False, 'severity': 'safe'}, 'jailbreak': {'filtered': False, 'detected': False}, 'self_harm': {'filtered': False, 'severity': 'safe'}, 'sexual': {'filtered': False, 'severity': 'safe'}, 'violence': {'filtered': False, 'severity': 'safe'}}}], 'finish_reason': 'tool_calls', 'logprobs': None, 'content_filter_results': {}}, id='run--6a93ce54-7694-496d-883d-d69ee8cf06d5-0', tool_calls=[{'name': 'tavily_search_results_json', 'args': {'query': 'current weather in San Francisco'}, 'id': 'call_3i5vTVAfLmMzy43oZZGYr9Fu', 'type': 'tool_call'}], usage_metadata={'input_tokens': 1169, 'output_tokens': 23, 'total_tokens': 1192, 'input_token_details': {'audio': 0, 'cache_read': 0}, 'output_token_details': {'audio': 0, 'reasoning': 0}})]}, next=('action',), config={'configurable': {'thread_id': '1', 'checkpoint_ns': '', 'checkpoint_id': '1f087144-36db-681d-8006-16a7f6c76179'}}, metadata={'source': 'loop', 'step': 6, 'parents': {}}, created_at='2025-09-01T09:15:54.884481+00:00', parent_config={'configurable': {'thread_id': '1', 'checkpoint_ns': '', 'checkpoint_id': '1f087144-2e40-6481-8005-6999d61090d0'}}, tasks=(PregelTask(id='89608d5c-e009-4a9c-4109-6565b55e05e7', name='action', path=('__pregel_pull', 'action'), error=None, interrupts=(), state=None, result=None),), interrupts=())"
      ]
     },
     "execution_count": 10,
     "metadata": {},
     "output_type": "execute_result"
    }
   ],
   "source": [
    "#check the state of the graph in  this point of time\n",
    "abot.graph.get_state(thread)"
   ]
  },
  {
   "cell_type": "code",
   "execution_count": 11,
   "id": "7e92990d",
   "metadata": {},
   "outputs": [
    {
     "data": {
      "text/plain": [
       "('action',)"
      ]
     },
     "execution_count": 11,
     "metadata": {},
     "output_type": "execute_result"
    }
   ],
   "source": [
    "#see here that next step is to call an action\n",
    "abot.graph.get_state(thread).next"
   ]
  },
  {
   "cell_type": "code",
   "execution_count": 12,
   "id": "bf7cb5a6",
   "metadata": {},
   "outputs": [
    {
     "name": "stdout",
     "output_type": "stream",
     "text": [
      "Calling: {'name': 'tavily_search_results_json', 'args': {'query': 'current weather in San Francisco'}, 'id': 'call_3i5vTVAfLmMzy43oZZGYr9Fu', 'type': 'tool_call'}\n",
      "Back to the model!\n",
      "{'messages': [ToolMessage(content='[{\\'title\\': \\'San Francisco weather in September 2025 | Weather25.com\\', \\'url\\': \\'https://www.weather25.com/north-america/usa/california/san-francisco?page=month&month=September\\', \\'content\\': \\'| Month | Temperatures | Rainy Days | Dry Days | Snowy Days | Rainfall | Weather | More details |\\\\n ---  ---  ---  --- |\\\\n| January | 15° / 7° | 4 | 27 | 0 | 63 mm | Good | San Francisco in January |\\\\n| February | 16° / 7° | 4 | 24 | 0 | 61 mm | Good | San Francisco in February |\\\\n| March | 17° / 8° | 5 | 26 | 0 | 62 mm | Good | San Francisco in March |\\\\n| April | 18° / 9° | 2 | 28 | 0 | 22 mm | Good | San Francisco in April |\\\\n| May | 20° / 10° | 1 | 30 | 0 | 13 mm | Good | San Francisco in May | [...] Mist\\\\nFog\\\\nFog\\\\nPatchy rain possible\\\\nCloudy\\\\nSunny\\\\nSunny\\\\nPartly cloudy\\\\nPartly cloudy\\\\nSunny\\\\nSunny\\\\nSunny\\\\nPartly cloudy\\\\nSunny\\\\nPartly cloudy\\\\nPartly cloudy\\\\nPartly cloudy\\\\nMist\\\\nSunny\\\\nSunny\\\\nSunny\\\\nPartly cloudy\\\\nSunny\\\\nMist\\\\nPartly cloudy\\\\nPartly cloudy\\\\nCloudy\\\\nSunny\\\\nPartly cloudy\\\\nSunny\\\\n\\\\n## Explore the weather in San Francisco in other months\\\\n\\\\n## San Francisco annual weather [...] | June | 23° / 12° | 0 | 30 | 0 | 6 mm | Perfect | San Francisco in June |\\\\n| July | 25° / 14° | 0 | 31 | 0 | 3 mm | Perfect | San Francisco in July |\\\\n| August | 25° / 14° | 0 | 31 | 0 | 3 mm | Perfect | San Francisco in August |\\\\n| September | 25° / 14° | 0 | 30 | 0 | 4 mm | Perfect | San Francisco in September |\\\\n| October | 23° / 13° | 1 | 30 | 0 | 26 mm | Perfect | San Francisco in October |\\\\n| November | 18° / 10° | 3 | 27 | 0 | 37 mm | Good | San Francisco in November |\\', \\'score\\': 0.6580885}, {\\'title\\': \\'Weather Forecast and Conditions for San Francisco, CA\\', \\'url\\': \\'https://weather.com/weather/today/l/USCA0987:1:US\\', \\'content\\': \"© The Weather Company, LLC 2025 [...] ## Recent Locations\\\\n\\\\n## Weather Forecasts\\\\n\\\\n## Radar & Maps\\\\n\\\\n## News & Media\\\\n\\\\n## Products & Account\\\\n\\\\n## Lifestyle\\\\n\\\\n### Specialty Forecasts\\\\n\\\\n# San Francisco, CA\\\\n\\\\n## Weather Today in San Francisco, CA\\\\n\\\\n6:40 am\\\\n\\\\n7:38 pm\\\\n\\\\n# Hourly Weather-San Francisco, CA\\\\n\\\\n## Now\\\\n\\\\nMostly Clear\\\\n\\\\n## 4 am\\\\n\\\\nMostly Clear\\\\n\\\\n## 5 am\\\\n\\\\nPartly Cloudy\\\\n\\\\n## 6 am\\\\n\\\\nPartly Cloudy\\\\n\\\\nChart small gif\\\\n\\\\n## Don\\'t Miss\\\\n\\\\n## Seasonal Hub\\\\n\\\\n# 10 Day Weather-San Francisco, CA\\\\n\\\\n## Tonight\\\\n\\\\n## Night\\\\n\\\\nSome clouds. Low 57F. Winds light and variable. [...] ## Mon 01\\\\n\\\\n## Day\\\\n\\\\nPartly cloudy skies. High 77F. Winds W at 10 to 20 mph.\\\\n\\\\n## Night\\\\n\\\\nMostly clear skies. Low 57F. Winds WSW at 10 to 15 mph.\\\\n\\\\n## Tue 02\\\\n\\\\n## Day\\\\n\\\\nIntervals of clouds and sunshine. High near 70F. Winds WSW at 10 to 20 mph.\\\\n\\\\n## Night\\\\n\\\\nCloudy. Low 58F. Winds WSW at 10 to 20 mph.\\\\n\\\\n## Wed 03\\\\n\\\\n## Day\\\\n\\\\nCloudy skies early, then partly cloudy in the afternoon. High near 70F. Winds W at 10 to 20 mph.\\\\n\\\\n## Night\", \\'score\\': 0.4882108}]', name='tavily_search_results_json', id='6622c60c-8a50-499f-a0fd-6eb4bc04fbce', tool_call_id='call_3i5vTVAfLmMzy43oZZGYr9Fu')]}\n",
      "{'messages': [AIMessage(content='The current weather in San Francisco is partly cloudy with daytime highs around 70-77°F and nighttime lows near 57-58°F. Winds are moderate, ranging from 10 to 20 mph.', additional_kwargs={'refusal': None}, response_metadata={'token_usage': {'completion_tokens': 43, 'prompt_tokens': 2147, 'total_tokens': 2190, 'completion_tokens_details': {'accepted_prediction_tokens': 0, 'audio_tokens': 0, 'reasoning_tokens': 0, 'rejected_prediction_tokens': 0}, 'prompt_tokens_details': {'audio_tokens': 0, 'cached_tokens': 0}}, 'model_name': 'gpt-4o-2024-11-20', 'system_fingerprint': 'fp_ee1d74bde0', 'id': 'chatcmpl-CAuvz0H6nJhuei0xu9rMlRbigHUje', 'service_tier': None, 'prompt_filter_results': [{'prompt_index': 0, 'content_filter_results': {'hate': {'filtered': False, 'severity': 'safe'}, 'jailbreak': {'filtered': False, 'detected': False}, 'self_harm': {'filtered': False, 'severity': 'safe'}, 'sexual': {'filtered': False, 'severity': 'safe'}, 'violence': {'filtered': False, 'severity': 'safe'}}}], 'finish_reason': 'stop', 'logprobs': None, 'content_filter_results': {'hate': {'filtered': False, 'severity': 'safe'}, 'self_harm': {'filtered': False, 'severity': 'safe'}, 'sexual': {'filtered': False, 'severity': 'safe'}, 'violence': {'filtered': False, 'severity': 'safe'}}}, id='run--b5ac0c1d-9bf5-4cf4-bb17-0eef0b5cef98-0', usage_metadata={'input_tokens': 2147, 'output_tokens': 43, 'total_tokens': 2190, 'input_token_details': {'audio': 0, 'cache_read': 0}, 'output_token_details': {'audio': 0, 'reasoning': 0}})]}\n"
     ]
    }
   ],
   "source": [
    "#to continue without the interrupt, pass None. Now tool is called\n",
    "for event in abot.graph.stream(None, thread):\n",
    "    for v in event.values():\n",
    "        print(v)"
   ]
  },
  {
   "cell_type": "code",
   "execution_count": 13,
   "id": "b80c4b13",
   "metadata": {},
   "outputs": [
    {
     "data": {
      "text/plain": [
       "StateSnapshot(values={'messages': [HumanMessage(content='Whats the weather in SF?', additional_kwargs={}, response_metadata={}, id='cf13e1f7-335f-468c-99a5-31f074775885'), AIMessage(content='', additional_kwargs={'tool_calls': [{'id': 'call_iBMcQwAPkbQq88V3FYGfSKHI', 'function': {'arguments': '{\"query\":\"current weather in San Francisco\"}', 'name': 'tavily_search_results_json'}, 'type': 'function'}], 'refusal': None}, response_metadata={'token_usage': {'completion_tokens': 23, 'prompt_tokens': 150, 'total_tokens': 173, 'completion_tokens_details': {'accepted_prediction_tokens': 0, 'audio_tokens': 0, 'reasoning_tokens': 0, 'rejected_prediction_tokens': 0}, 'prompt_tokens_details': {'audio_tokens': 0, 'cached_tokens': 0}}, 'model_name': 'gpt-4o-2024-11-20', 'system_fingerprint': 'fp_3eed281ddb', 'id': 'chatcmpl-CAunBY8UZfUwF7zd4IS7NhLCpi40E', 'service_tier': None, 'prompt_filter_results': [{'prompt_index': 0, 'content_filter_results': {'hate': {'filtered': False, 'severity': 'safe'}, 'jailbreak': {'filtered': False, 'detected': False}, 'self_harm': {'filtered': False, 'severity': 'safe'}, 'sexual': {'filtered': False, 'severity': 'safe'}, 'violence': {'filtered': False, 'severity': 'safe'}}}], 'finish_reason': 'tool_calls', 'logprobs': None, 'content_filter_results': {}}, id='run--16fd555e-0423-4035-839a-1d70d5f10e30-0', tool_calls=[{'name': 'tavily_search_results_json', 'args': {'query': 'current weather in San Francisco'}, 'id': 'call_iBMcQwAPkbQq88V3FYGfSKHI', 'type': 'tool_call'}], usage_metadata={'input_tokens': 150, 'output_tokens': 23, 'total_tokens': 173, 'input_token_details': {'audio': 0, 'cache_read': 0}, 'output_token_details': {'audio': 0, 'reasoning': 0}}), ToolMessage(content=\"[{'title': 'San Francisco weather in September 2025 | Weather25.com', 'url': 'https://www.weather25.com/north-america/usa/california/san-francisco?page=month&month=September', 'content': '| Month | Temperatures | Rainy Days | Dry Days | Snowy Days | Rainfall | Weather | More details |\\\\n ---  ---  ---  --- |\\\\n| January | 15° / 7° | 4 | 27 | 0 | 63 mm | Good | San Francisco in January |\\\\n| February | 16° / 7° | 4 | 24 | 0 | 61 mm | Good | San Francisco in February |\\\\n| March | 17° / 8° | 5 | 26 | 0 | 62 mm | Good | San Francisco in March |\\\\n| April | 18° / 9° | 2 | 28 | 0 | 22 mm | Good | San Francisco in April |\\\\n| May | 20° / 10° | 1 | 30 | 0 | 13 mm | Good | San Francisco in May | [...] Mist\\\\nFog\\\\nFog\\\\nPatchy rain possible\\\\nCloudy\\\\nSunny\\\\nSunny\\\\nPartly cloudy\\\\nPartly cloudy\\\\nSunny\\\\nSunny\\\\nSunny\\\\nPartly cloudy\\\\nSunny\\\\nPartly cloudy\\\\nPartly cloudy\\\\nPartly cloudy\\\\nMist\\\\nSunny\\\\nSunny\\\\nSunny\\\\nPartly cloudy\\\\nSunny\\\\nMist\\\\nPartly cloudy\\\\nPartly cloudy\\\\nCloudy\\\\nSunny\\\\nPartly cloudy\\\\nSunny\\\\n\\\\n## Explore the weather in San Francisco in other months\\\\n\\\\n## San Francisco annual weather [...] | June | 23° / 12° | 0 | 30 | 0 | 6 mm | Perfect | San Francisco in June |\\\\n| July | 25° / 14° | 0 | 31 | 0 | 3 mm | Perfect | San Francisco in July |\\\\n| August | 25° / 14° | 0 | 31 | 0 | 3 mm | Perfect | San Francisco in August |\\\\n| September | 25° / 14° | 0 | 30 | 0 | 4 mm | Perfect | San Francisco in September |\\\\n| October | 23° / 13° | 1 | 30 | 0 | 26 mm | Perfect | San Francisco in October |\\\\n| November | 18° / 10° | 3 | 27 | 0 | 37 mm | Good | San Francisco in November |', 'score': 0.65835214}, {'title': 'Weather Forecast and Conditions for San Francisco, CA', 'url': 'https://weather.com/weather/today/l/USCA0987:1:US', 'content': '© The Weather Company, LLC 2025 [...] Partly cloudy skies. Low 58F. Winds light and variable.\\\\n\\\\n## Mon 01\\\\n\\\\n## Day\\\\n\\\\nA few clouds early, otherwise mostly sunny. High 78F. Winds W at 10 to 20 mph.\\\\n\\\\n## Night\\\\n\\\\nPartly cloudy skies. Low 58F. Winds SW at 10 to 15 mph.\\\\n\\\\n## Tue 02\\\\n\\\\n## Day\\\\n\\\\nIntervals of clouds and sunshine. High 71F. Winds WSW at 10 to 20 mph.\\\\n\\\\n## Night\\\\n\\\\nMainly cloudy. Low 58F. Winds WSW at 10 to 20 mph.\\\\n\\\\n## Wed 03\\\\n\\\\n## Day\\\\n\\\\nCloudy skies early will become partly cloudy later in the day. High 71F. Winds W at 10 to 20 mph. [...] ## Night\\\\n\\\\nCloudy skies early with areas of fog developing after midnight. Low 57F. Winds W at 10 to 15 mph.\\\\n\\\\n## Radar\\\\n\\\\n## Travel\\\\n\\\\n## We Love Our Critters\\\\n\\\\n## Summer And Your Skin\\\\n\\\\n## Home, Garage & Garden\\\\n\\\\n## The Rhythm Of Resilience\\\\n\\\\n## Keeping You Healthy\\\\n\\\\n## Product Reviews & Deals\\\\n\\\\nundefined\\\\n\\\\nLast Call For Summer Savings: Labor Day Weekend Deals\\\\n\\\\nundefined\\\\n\\\\nMake A Splash With This 4.8-Star Stand Up Paddleboard Sale\\\\n\\\\nundefined\\\\n\\\\nHot Weather Heroes: Best Countertop Ice Makers\\\\n\\\\nundefined', 'score': 0.48850358}]\", name='tavily_search_results_json', id='366df00e-8a94-4430-8f4d-38a9927c4de4', tool_call_id='call_iBMcQwAPkbQq88V3FYGfSKHI'), AIMessage(content='The current weather in San Francisco includes partly cloudy skies with temperatures around 71°F during the day and lows of about 58°F at night. Winds are light to moderate, ranging from 10 to 20 mph.', additional_kwargs={'refusal': None}, response_metadata={'token_usage': {'completion_tokens': 46, 'prompt_tokens': 1111, 'total_tokens': 1157, 'completion_tokens_details': {'accepted_prediction_tokens': 0, 'audio_tokens': 0, 'reasoning_tokens': 0, 'rejected_prediction_tokens': 0}, 'prompt_tokens_details': {'audio_tokens': 0, 'cached_tokens': 0}}, 'model_name': 'gpt-4o-2024-11-20', 'system_fingerprint': 'fp_3eed281ddb', 'id': 'chatcmpl-CAupQR6Cz9fdNXLyvz8hNGVRjkC4e', 'service_tier': None, 'prompt_filter_results': [{'prompt_index': 0, 'content_filter_results': {'hate': {'filtered': False, 'severity': 'safe'}, 'jailbreak': {'filtered': False, 'detected': False}, 'self_harm': {'filtered': False, 'severity': 'safe'}, 'sexual': {'filtered': False, 'severity': 'safe'}, 'violence': {'filtered': False, 'severity': 'safe'}}}], 'finish_reason': 'stop', 'logprobs': None, 'content_filter_results': {'hate': {'filtered': False, 'severity': 'safe'}, 'self_harm': {'filtered': False, 'severity': 'safe'}, 'sexual': {'filtered': False, 'severity': 'safe'}, 'violence': {'filtered': False, 'severity': 'safe'}}}, id='run--c53a145f-0cab-4c3e-8bd2-97e1c630ef2d-0', usage_metadata={'input_tokens': 1111, 'output_tokens': 46, 'total_tokens': 1157, 'input_token_details': {'audio': 0, 'cache_read': 0}, 'output_token_details': {'audio': 0, 'reasoning': 0}}), HumanMessage(content='Whats the weather in SF?', additional_kwargs={}, response_metadata={}, id='e5216393-4c2b-4e79-a583-8263f123cb63'), AIMessage(content='', additional_kwargs={'tool_calls': [{'id': 'call_3i5vTVAfLmMzy43oZZGYr9Fu', 'function': {'arguments': '{\"query\":\"current weather in San Francisco\"}', 'name': 'tavily_search_results_json'}, 'type': 'function'}], 'refusal': None}, response_metadata={'token_usage': {'completion_tokens': 23, 'prompt_tokens': 1169, 'total_tokens': 1192, 'completion_tokens_details': {'accepted_prediction_tokens': 0, 'audio_tokens': 0, 'reasoning_tokens': 0, 'rejected_prediction_tokens': 0}, 'prompt_tokens_details': {'audio_tokens': 0, 'cached_tokens': 0}}, 'model_name': 'gpt-4o-2024-11-20', 'system_fingerprint': 'fp_3eed281ddb', 'id': 'chatcmpl-CAuvkooaubHhn9tkqHdhoGeG6sOkq', 'service_tier': None, 'prompt_filter_results': [{'prompt_index': 0, 'content_filter_results': {'hate': {'filtered': False, 'severity': 'safe'}, 'jailbreak': {'filtered': False, 'detected': False}, 'self_harm': {'filtered': False, 'severity': 'safe'}, 'sexual': {'filtered': False, 'severity': 'safe'}, 'violence': {'filtered': False, 'severity': 'safe'}}}], 'finish_reason': 'tool_calls', 'logprobs': None, 'content_filter_results': {}}, id='run--6a93ce54-7694-496d-883d-d69ee8cf06d5-0', tool_calls=[{'name': 'tavily_search_results_json', 'args': {'query': 'current weather in San Francisco'}, 'id': 'call_3i5vTVAfLmMzy43oZZGYr9Fu', 'type': 'tool_call'}], usage_metadata={'input_tokens': 1169, 'output_tokens': 23, 'total_tokens': 1192, 'input_token_details': {'audio': 0, 'cache_read': 0}, 'output_token_details': {'audio': 0, 'reasoning': 0}}), ToolMessage(content='[{\\'title\\': \\'San Francisco weather in September 2025 | Weather25.com\\', \\'url\\': \\'https://www.weather25.com/north-america/usa/california/san-francisco?page=month&month=September\\', \\'content\\': \\'| Month | Temperatures | Rainy Days | Dry Days | Snowy Days | Rainfall | Weather | More details |\\\\n ---  ---  ---  --- |\\\\n| January | 15° / 7° | 4 | 27 | 0 | 63 mm | Good | San Francisco in January |\\\\n| February | 16° / 7° | 4 | 24 | 0 | 61 mm | Good | San Francisco in February |\\\\n| March | 17° / 8° | 5 | 26 | 0 | 62 mm | Good | San Francisco in March |\\\\n| April | 18° / 9° | 2 | 28 | 0 | 22 mm | Good | San Francisco in April |\\\\n| May | 20° / 10° | 1 | 30 | 0 | 13 mm | Good | San Francisco in May | [...] Mist\\\\nFog\\\\nFog\\\\nPatchy rain possible\\\\nCloudy\\\\nSunny\\\\nSunny\\\\nPartly cloudy\\\\nPartly cloudy\\\\nSunny\\\\nSunny\\\\nSunny\\\\nPartly cloudy\\\\nSunny\\\\nPartly cloudy\\\\nPartly cloudy\\\\nPartly cloudy\\\\nMist\\\\nSunny\\\\nSunny\\\\nSunny\\\\nPartly cloudy\\\\nSunny\\\\nMist\\\\nPartly cloudy\\\\nPartly cloudy\\\\nCloudy\\\\nSunny\\\\nPartly cloudy\\\\nSunny\\\\n\\\\n## Explore the weather in San Francisco in other months\\\\n\\\\n## San Francisco annual weather [...] | June | 23° / 12° | 0 | 30 | 0 | 6 mm | Perfect | San Francisco in June |\\\\n| July | 25° / 14° | 0 | 31 | 0 | 3 mm | Perfect | San Francisco in July |\\\\n| August | 25° / 14° | 0 | 31 | 0 | 3 mm | Perfect | San Francisco in August |\\\\n| September | 25° / 14° | 0 | 30 | 0 | 4 mm | Perfect | San Francisco in September |\\\\n| October | 23° / 13° | 1 | 30 | 0 | 26 mm | Perfect | San Francisco in October |\\\\n| November | 18° / 10° | 3 | 27 | 0 | 37 mm | Good | San Francisco in November |\\', \\'score\\': 0.6580885}, {\\'title\\': \\'Weather Forecast and Conditions for San Francisco, CA\\', \\'url\\': \\'https://weather.com/weather/today/l/USCA0987:1:US\\', \\'content\\': \"© The Weather Company, LLC 2025 [...] ## Recent Locations\\\\n\\\\n## Weather Forecasts\\\\n\\\\n## Radar & Maps\\\\n\\\\n## News & Media\\\\n\\\\n## Products & Account\\\\n\\\\n## Lifestyle\\\\n\\\\n### Specialty Forecasts\\\\n\\\\n# San Francisco, CA\\\\n\\\\n## Weather Today in San Francisco, CA\\\\n\\\\n6:40 am\\\\n\\\\n7:38 pm\\\\n\\\\n# Hourly Weather-San Francisco, CA\\\\n\\\\n## Now\\\\n\\\\nMostly Clear\\\\n\\\\n## 4 am\\\\n\\\\nMostly Clear\\\\n\\\\n## 5 am\\\\n\\\\nPartly Cloudy\\\\n\\\\n## 6 am\\\\n\\\\nPartly Cloudy\\\\n\\\\nChart small gif\\\\n\\\\n## Don\\'t Miss\\\\n\\\\n## Seasonal Hub\\\\n\\\\n# 10 Day Weather-San Francisco, CA\\\\n\\\\n## Tonight\\\\n\\\\n## Night\\\\n\\\\nSome clouds. Low 57F. Winds light and variable. [...] ## Mon 01\\\\n\\\\n## Day\\\\n\\\\nPartly cloudy skies. High 77F. Winds W at 10 to 20 mph.\\\\n\\\\n## Night\\\\n\\\\nMostly clear skies. Low 57F. Winds WSW at 10 to 15 mph.\\\\n\\\\n## Tue 02\\\\n\\\\n## Day\\\\n\\\\nIntervals of clouds and sunshine. High near 70F. Winds WSW at 10 to 20 mph.\\\\n\\\\n## Night\\\\n\\\\nCloudy. Low 58F. Winds WSW at 10 to 20 mph.\\\\n\\\\n## Wed 03\\\\n\\\\n## Day\\\\n\\\\nCloudy skies early, then partly cloudy in the afternoon. High near 70F. Winds W at 10 to 20 mph.\\\\n\\\\n## Night\", \\'score\\': 0.4882108}]', name='tavily_search_results_json', id='6622c60c-8a50-499f-a0fd-6eb4bc04fbce', tool_call_id='call_3i5vTVAfLmMzy43oZZGYr9Fu'), AIMessage(content='The current weather in San Francisco is partly cloudy with daytime highs around 70-77°F and nighttime lows near 57-58°F. Winds are moderate, ranging from 10 to 20 mph.', additional_kwargs={'refusal': None}, response_metadata={'token_usage': {'completion_tokens': 43, 'prompt_tokens': 2147, 'total_tokens': 2190, 'completion_tokens_details': {'accepted_prediction_tokens': 0, 'audio_tokens': 0, 'reasoning_tokens': 0, 'rejected_prediction_tokens': 0}, 'prompt_tokens_details': {'audio_tokens': 0, 'cached_tokens': 0}}, 'model_name': 'gpt-4o-2024-11-20', 'system_fingerprint': 'fp_ee1d74bde0', 'id': 'chatcmpl-CAuvz0H6nJhuei0xu9rMlRbigHUje', 'service_tier': None, 'prompt_filter_results': [{'prompt_index': 0, 'content_filter_results': {'hate': {'filtered': False, 'severity': 'safe'}, 'jailbreak': {'filtered': False, 'detected': False}, 'self_harm': {'filtered': False, 'severity': 'safe'}, 'sexual': {'filtered': False, 'severity': 'safe'}, 'violence': {'filtered': False, 'severity': 'safe'}}}], 'finish_reason': 'stop', 'logprobs': None, 'content_filter_results': {'hate': {'filtered': False, 'severity': 'safe'}, 'self_harm': {'filtered': False, 'severity': 'safe'}, 'sexual': {'filtered': False, 'severity': 'safe'}, 'violence': {'filtered': False, 'severity': 'safe'}}}, id='run--b5ac0c1d-9bf5-4cf4-bb17-0eef0b5cef98-0', usage_metadata={'input_tokens': 2147, 'output_tokens': 43, 'total_tokens': 2190, 'input_token_details': {'audio': 0, 'cache_read': 0}, 'output_token_details': {'audio': 0, 'reasoning': 0}})]}, next=(), config={'configurable': {'thread_id': '1', 'checkpoint_ns': '', 'checkpoint_id': '1f087144-c6c1-6505-8008-ad6d1b1c1206'}}, metadata={'source': 'loop', 'step': 8, 'parents': {}}, created_at='2025-09-01T09:16:09.973246+00:00', parent_config={'configurable': {'thread_id': '1', 'checkpoint_ns': '', 'checkpoint_id': '1f087144-bc8b-6f80-8007-b2eb68cdb460'}}, tasks=(), interrupts=())"
      ]
     },
     "execution_count": 13,
     "metadata": {},
     "output_type": "execute_result"
    }
   ],
   "source": [
    "abot.graph.get_state(thread)"
   ]
  },
  {
   "cell_type": "code",
   "execution_count": 14,
   "id": "cbeb8553",
   "metadata": {},
   "outputs": [
    {
     "data": {
      "text/plain": [
       "()"
      ]
     },
     "execution_count": 14,
     "metadata": {},
     "output_type": "execute_result"
    }
   ],
   "source": [
    "abot.graph.get_state(thread).next\n",
    "#since action is called, there is nothing in it"
   ]
  },
  {
   "cell_type": "code",
   "execution_count": 17,
   "id": "e1a90e12",
   "metadata": {},
   "outputs": [
    {
     "name": "stdout",
     "output_type": "stream",
     "text": [
      "{'messages': [AIMessage(content='', additional_kwargs={'tool_calls': [{'id': 'call_LorbEMLVxTPcA3aMqRoA7ipP', 'function': {'arguments': '{\"query\":\"current weather in Los Angeles\"}', 'name': 'tavily_search_results_json'}, 'type': 'function'}], 'refusal': None}, response_metadata={'token_usage': {'completion_tokens': 23, 'prompt_tokens': 150, 'total_tokens': 173, 'completion_tokens_details': {'accepted_prediction_tokens': 0, 'audio_tokens': 0, 'reasoning_tokens': 0, 'rejected_prediction_tokens': 0}, 'prompt_tokens_details': {'audio_tokens': 0, 'cached_tokens': 0}}, 'model_name': 'gpt-4o-2024-11-20', 'system_fingerprint': 'fp_ee1d74bde0', 'id': 'chatcmpl-CAuwjg2TNzX6sbpB5lUaQagyCOtY4', 'service_tier': None, 'prompt_filter_results': [{'prompt_index': 0, 'content_filter_results': {'hate': {'filtered': False, 'severity': 'safe'}, 'jailbreak': {'filtered': False, 'detected': False}, 'self_harm': {'filtered': False, 'severity': 'safe'}, 'sexual': {'filtered': False, 'severity': 'safe'}, 'violence': {'filtered': False, 'severity': 'safe'}}}], 'finish_reason': 'tool_calls', 'logprobs': None, 'content_filter_results': {}}, id='run--2b1c2dcb-21a5-45cf-93f9-f2bbc82fc67d-0', tool_calls=[{'name': 'tavily_search_results_json', 'args': {'query': 'current weather in Los Angeles'}, 'id': 'call_LorbEMLVxTPcA3aMqRoA7ipP', 'type': 'tool_call'}], usage_metadata={'input_tokens': 150, 'output_tokens': 23, 'total_tokens': 173, 'input_token_details': {'audio': 0, 'cache_read': 0}, 'output_token_details': {'audio': 0, 'reasoning': 0}})]}\n",
      "()\n",
      "\n",
      " StateSnapshot(values={'messages': [HumanMessage(content='Whats the weather in LA?', additional_kwargs={}, response_metadata={}, id='d2ce6cff-ee30-4731-85a6-18d8adb3e936'), AIMessage(content='', additional_kwargs={'tool_calls': [{'id': 'call_LorbEMLVxTPcA3aMqRoA7ipP', 'function': {'arguments': '{\"query\":\"current weather in Los Angeles\"}', 'name': 'tavily_search_results_json'}, 'type': 'function'}], 'refusal': None}, response_metadata={'token_usage': {'completion_tokens': 23, 'prompt_tokens': 150, 'total_tokens': 173, 'completion_tokens_details': {'accepted_prediction_tokens': 0, 'audio_tokens': 0, 'reasoning_tokens': 0, 'rejected_prediction_tokens': 0}, 'prompt_tokens_details': {'audio_tokens': 0, 'cached_tokens': 0}}, 'model_name': 'gpt-4o-2024-11-20', 'system_fingerprint': 'fp_ee1d74bde0', 'id': 'chatcmpl-CAuwjg2TNzX6sbpB5lUaQagyCOtY4', 'service_tier': None, 'prompt_filter_results': [{'prompt_index': 0, 'content_filter_results': {'hate': {'filtered': False, 'severity': 'safe'}, 'jailbreak': {'filtered': False, 'detected': False}, 'self_harm': {'filtered': False, 'severity': 'safe'}, 'sexual': {'filtered': False, 'severity': 'safe'}, 'violence': {'filtered': False, 'severity': 'safe'}}}], 'finish_reason': 'tool_calls', 'logprobs': None, 'content_filter_results': {}}, id='run--2b1c2dcb-21a5-45cf-93f9-f2bbc82fc67d-0', tool_calls=[{'name': 'tavily_search_results_json', 'args': {'query': 'current weather in Los Angeles'}, 'id': 'call_LorbEMLVxTPcA3aMqRoA7ipP', 'type': 'tool_call'}], usage_metadata={'input_tokens': 150, 'output_tokens': 23, 'total_tokens': 173, 'input_token_details': {'audio': 0, 'cache_read': 0}, 'output_token_details': {'audio': 0, 'reasoning': 0}})]}, next=('action',), config={'configurable': {'thread_id': '22', 'checkpoint_ns': '', 'checkpoint_id': '1f087146-7b2a-6c86-8001-3899e2880a49'}}, metadata={'source': 'loop', 'step': 1, 'parents': {}}, created_at='2025-09-01T09:16:55.734361+00:00', parent_config={'configurable': {'thread_id': '22', 'checkpoint_ns': '', 'checkpoint_id': '1f087146-72ff-654d-8000-f7cfbb88c8f1'}}, tasks=(PregelTask(id='d21ab0ae-10b6-e833-e3e4-a9b2ceccee60', name='action', path=('__pregel_pull', 'action'), error=None, interrupts=(), state=None, result=None),), interrupts=()) \n",
      "\n",
      "Calling: {'name': 'tavily_search_results_json', 'args': {'query': 'current weather in Los Angeles'}, 'id': 'call_LorbEMLVxTPcA3aMqRoA7ipP', 'type': 'tool_call'}\n",
      "Back to the model!\n",
      "{'messages': [ToolMessage(content='[{\\'title\\': \\'Los Angeles weather in September 2025\\', \\'url\\': \\'https://www.weather25.com/north-america/usa/california/los-angeles?page=month&month=September\\', \\'content\\': \\'| Month | Temperatures | Rainy Days | Dry Days | Snowy Days | Rainfall | Weather | More details |\\\\n ---  ---  ---  --- |\\\\n| January | 21° / 11° | 3 | 28 | 0 | 58 mm | Good | Los Angeles in January |\\\\n| February | 20° / 11° | 2 | 27 | 0 | 56 mm | Good | Los Angeles in February |\\\\n| March | 22° / 12° | 2 | 29 | 0 | 34 mm | Good | Los Angeles in March |\\\\n| April | 24° / 13° | 1 | 29 | 0 | 18 mm | Perfect | Los Angeles in April |\\\\n| May | 25° / 15° | 0 | 31 | 0 | 4 mm | Perfect | Los Angeles in May | [...] Cloudy\\\\nPartly cloudy\\\\nSunny\\\\nSunny\\\\nSunny\\\\nSunny\\\\nSunny\\\\nSunny\\\\nSunny\\\\nSunny\\\\nSunny\\\\nSunny\\\\nSunny\\\\nSunny\\\\nPartly cloudy\\\\nSunny\\\\nSunny\\\\nPartly cloudy\\\\nPartly cloudy\\\\nSunny\\\\nSunny\\\\nOvercast\\\\nSunny\\\\nSunny\\\\nSunny\\\\nSunny\\\\nCloudy\\\\nPartly cloudy\\\\nSunny\\\\nSunny\\\\n\\\\n## Explore the weather in Los Angeles in other months\\\\n\\\\n## Los Angeles annual weather [...] | June | 27° / 17° | 0 | 30 | 0 | 1 mm | Perfect | Los Angeles in June |\\\\n| July | 30° / 20° | 0 | 31 | 0 | 5 mm | Good | Los Angeles in July |\\\\n| August | 31° / 21° | 0 | 31 | 0 | 3 mm | Good | Los Angeles in August |\\\\n| September | 31° / 21° | 0 | 30 | 0 | 4 mm | Good | Los Angeles in September |\\\\n| October | 27° / 18° | 1 | 30 | 0 | 10 mm | Perfect | Los Angeles in October |\\\\n| November | 24° / 14° | 1 | 29 | 0 | 22 mm | Perfect | Los Angeles in November |\\', \\'score\\': 0.62248284}, {\\'title\\': \\'Los Angeles, CA Monthly Weather\\', \\'url\\': \\'https://www.accuweather.com/en/us/los-angeles/90012/september-weather/347625\\', \\'content\\': \"# Los Angeles, CA\\\\n\\\\nLos Angeles\\\\n\\\\nCalifornia\\\\n\\\\n## Around the Globe\\\\n\\\\nAround the Globe\\\\n\\\\n### Hurricane Tracker\\\\n\\\\n### Severe Weather\\\\n\\\\n### Radar & Maps\\\\n\\\\n### News & Features\\\\n\\\\n### Astronomy\\\\n\\\\n### Business\\\\n\\\\n### Climate\\\\n\\\\n### Health\\\\n\\\\n### Recreation\\\\n\\\\n### Sports\\\\n\\\\n### Travel\\\\n\\\\n### Warnings\\\\n\\\\n### Data Suite\\\\n\\\\n### Forensics\\\\n\\\\n### Advertising\\\\n\\\\n### Superior Accuracy™\\\\n\\\\n### Video\\\\n\\\\n### Winter Center\\\\n\\\\n## Monthly\\\\n\\\\n## September\\\\n\\\\n## 2025\\\\n\\\\n## Daily\\\\n\\\\n## Temperature Graph\\\\n\\\\n## Further Ahead\\\\n\\\\nFurther Ahead\\\\n\\\\n### October 2025 [...] Hurricane Katrina by the Numbers, 20 years later\\\\n\\\\n2 days ago\\\\n\\\\nHurricane\\\\n\\\\nLabor Day is here. Where are the hurricanes?\\\\n\\\\n47 minutes ago\\\\n\\\\nFeatured Stories\\\\n\\\\nAstronomy\\\\n\\\\n2 more celestial sights to see before autumn\\'s arrival\\\\n\\\\n2 days ago\\\\n\\\\nTravel\\\\n\\\\nGas hasn’t been this cheap on Labor Day since 2020\\\\n\\\\n2 days ago\\\\n\\\\nWeather News\\\\n\\\\nWhy meteorological, astronomical fall start on different dates\\\\n\\\\n2 days ago\\\\n\\\\nClearing the air: Leaves are falling but it\\'s not autumn yet\\\\n\\\\nLATEST ENTRY [...] ### November 2025\\\\n\\\\n## Around the Globe\\\\n\\\\nAround the Globe\\\\n\\\\n### Hurricane Tracker\\\\n\\\\n### Severe Weather\\\\n\\\\n### Radar & Maps\\\\n\\\\n### News\\\\n\\\\n### Video\\\\n\\\\n### Winter Center\\\\n\\\\nTop Stories\\\\n\\\\nWeather Forecasts\\\\n\\\\nU.S. Labor Day: Who\\'s hot, who\\'s cool and who\\'s getting rained on?\\\\n\\\\n47 minutes ago\\\\n\\\\nWeather Forecasts\\\\n\\\\nPolar air to bring October-like chill to 250 million in U.S.\\\\n\\\\n47 minutes ago\\\\n\\\\nAstronomy\\\\n\\\\nNorthern lights could glow over more than a dozen states Monday night\\\\n\\\\n20 hours ago\\\\n\\\\nHurricane\", \\'score\\': 0.21785328}]', name='tavily_search_results_json', id='c3ae0517-61e8-4834-9fa7-4e17acf03241', tool_call_id='call_LorbEMLVxTPcA3aMqRoA7ipP')]}\n",
      "{'messages': [AIMessage(content=\"I couldn't find the exact current weather in Los Angeles. Would you like me to refine the search or look for a specific weather service?\", additional_kwargs={'refusal': None}, response_metadata={'token_usage': {'completion_tokens': 29, 'prompt_tokens': 1179, 'total_tokens': 1208, 'completion_tokens_details': {'accepted_prediction_tokens': 0, 'audio_tokens': 0, 'reasoning_tokens': 0, 'rejected_prediction_tokens': 0}, 'prompt_tokens_details': {'audio_tokens': 0, 'cached_tokens': 0}}, 'model_name': 'gpt-4o-2024-11-20', 'system_fingerprint': 'fp_3eed281ddb', 'id': 'chatcmpl-CAuwsaFG2w2MRMhGt1zPXF040fDxO', 'service_tier': None, 'prompt_filter_results': [{'prompt_index': 0, 'content_filter_results': {'hate': {'filtered': False, 'severity': 'safe'}, 'jailbreak': {'filtered': False, 'detected': False}, 'self_harm': {'filtered': False, 'severity': 'safe'}, 'sexual': {'filtered': False, 'severity': 'safe'}, 'violence': {'filtered': False, 'severity': 'safe'}}}], 'finish_reason': 'stop', 'logprobs': None, 'content_filter_results': {'hate': {'filtered': False, 'severity': 'safe'}, 'self_harm': {'filtered': False, 'severity': 'safe'}, 'sexual': {'filtered': False, 'severity': 'safe'}, 'violence': {'filtered': False, 'severity': 'safe'}}}, id='run--c30c3910-c2e2-43e6-a6f2-e8c92ce42fa8-0', usage_metadata={'input_tokens': 1179, 'output_tokens': 29, 'total_tokens': 1208, 'input_token_details': {'audio': 0, 'cache_read': 0}, 'output_token_details': {'audio': 0, 'reasoning': 0}})]}\n"
     ]
    }
   ],
   "source": [
    "#we can combine it to get input from user to decide if to proceed or not\n",
    "messages = [HumanMessage(\"Whats the weather in LA?\")]\n",
    "#changed the id of the thread\n",
    "thread = {\"configurable\": {\"thread_id\": \"22\"}}\n",
    "for event in abot.graph.stream({\"messages\": messages}, thread):\n",
    "    for v in event.values():\n",
    "        print(v)\n",
    "while abot.graph.get_state(thread).next:\n",
    "    print(\"\\n\", abot.graph.get_state(thread),\"\\n\")\n",
    "    _input = input(\"proceed?\")\n",
    "    if _input != \"y\":\n",
    "        print(\"aborting\")\n",
    "        break\n",
    "    for event in abot.graph.stream(None, thread):\n",
    "        for v in event.values():\n",
    "            print(v)"
   ]
  },
  {
   "cell_type": "code",
   "execution_count": 18,
   "id": "59866a29",
   "metadata": {},
   "outputs": [
    {
     "name": "stdout",
     "output_type": "stream",
     "text": [
      "{'messages': [AIMessage(content='', additional_kwargs={'tool_calls': [{'id': 'call_NdXIgEZKWMHUiCr9pEjnV91F', 'function': {'arguments': '{\"query\":\"current weather in Los Angeles\"}', 'name': 'tavily_search_results_json'}, 'type': 'function'}], 'refusal': None}, response_metadata={'token_usage': {'completion_tokens': 23, 'prompt_tokens': 150, 'total_tokens': 173, 'completion_tokens_details': {'accepted_prediction_tokens': 0, 'audio_tokens': 0, 'reasoning_tokens': 0, 'rejected_prediction_tokens': 0}, 'prompt_tokens_details': {'audio_tokens': 0, 'cached_tokens': 0}}, 'model_name': 'gpt-4o-2024-11-20', 'system_fingerprint': 'fp_ee1d74bde0', 'id': 'chatcmpl-CAv01ZKly0IOnyuUpLmrTIB0zAlST', 'service_tier': None, 'prompt_filter_results': [{'prompt_index': 0, 'content_filter_results': {'hate': {'filtered': False, 'severity': 'safe'}, 'jailbreak': {'filtered': False, 'detected': False}, 'self_harm': {'filtered': False, 'severity': 'safe'}, 'sexual': {'filtered': False, 'severity': 'safe'}, 'violence': {'filtered': False, 'severity': 'safe'}}}], 'finish_reason': 'tool_calls', 'logprobs': None, 'content_filter_results': {}}, id='run--4f6d3c86-cf4a-4cbc-bd65-6db09659354b-0', tool_calls=[{'name': 'tavily_search_results_json', 'args': {'query': 'current weather in Los Angeles'}, 'id': 'call_NdXIgEZKWMHUiCr9pEjnV91F', 'type': 'tool_call'}], usage_metadata={'input_tokens': 150, 'output_tokens': 23, 'total_tokens': 173, 'input_token_details': {'audio': 0, 'cache_read': 0}, 'output_token_details': {'audio': 0, 'reasoning': 0}})]}\n",
      "()\n"
     ]
    }
   ],
   "source": [
    "#STATE MODIFICATION\n",
    "messages = [HumanMessage(\"Whats the weather in LA?\")]\n",
    "thread = {\"configurable\": {\"thread_id\": \"3\"}}\n",
    "for event in abot.graph.stream({\"messages\": messages}, thread):\n",
    "    for v in event.values():\n",
    "        print(v)"
   ]
  },
  {
   "cell_type": "code",
   "execution_count": null,
   "id": "122d3777",
   "metadata": {},
   "outputs": [
    {
     "data": {
      "text/plain": [
       "StateSnapshot(values={'messages': [HumanMessage(content='Whats the weather in LA?', additional_kwargs={}, response_metadata={}, id='8174d289-918e-48ea-80a1-36a3f36543a6'), AIMessage(content='', additional_kwargs={'tool_calls': [{'id': 'call_NdXIgEZKWMHUiCr9pEjnV91F', 'function': {'arguments': '{\"query\":\"current weather in Los Angeles\"}', 'name': 'tavily_search_results_json'}, 'type': 'function'}], 'refusal': None}, response_metadata={'token_usage': {'completion_tokens': 23, 'prompt_tokens': 150, 'total_tokens': 173, 'completion_tokens_details': {'accepted_prediction_tokens': 0, 'audio_tokens': 0, 'reasoning_tokens': 0, 'rejected_prediction_tokens': 0}, 'prompt_tokens_details': {'audio_tokens': 0, 'cached_tokens': 0}}, 'model_name': 'gpt-4o-2024-11-20', 'system_fingerprint': 'fp_ee1d74bde0', 'id': 'chatcmpl-CAv01ZKly0IOnyuUpLmrTIB0zAlST', 'service_tier': None, 'prompt_filter_results': [{'prompt_index': 0, 'content_filter_results': {'hate': {'filtered': False, 'severity': 'safe'}, 'jailbreak': {'filtered': False, 'detected': False}, 'self_harm': {'filtered': False, 'severity': 'safe'}, 'sexual': {'filtered': False, 'severity': 'safe'}, 'violence': {'filtered': False, 'severity': 'safe'}}}], 'finish_reason': 'tool_calls', 'logprobs': None, 'content_filter_results': {}}, id='run--4f6d3c86-cf4a-4cbc-bd65-6db09659354b-0', tool_calls=[{'name': 'tavily_search_results_json', 'args': {'query': 'current weather in Los Angeles'}, 'id': 'call_NdXIgEZKWMHUiCr9pEjnV91F', 'type': 'tool_call'}], usage_metadata={'input_tokens': 150, 'output_tokens': 23, 'total_tokens': 173, 'input_token_details': {'audio': 0, 'cache_read': 0}, 'output_token_details': {'audio': 0, 'reasoning': 0}})]}, next=('action',), config={'configurable': {'thread_id': '3', 'checkpoint_ns': '', 'checkpoint_id': '1f08714e-154d-6e4e-8001-9bd0577306e4'}}, metadata={'source': 'loop', 'step': 1, 'parents': {}}, created_at='2025-09-01T09:20:19.801638+00:00', parent_config={'configurable': {'thread_id': '3', 'checkpoint_ns': '', 'checkpoint_id': '1f08714e-0db0-6b54-8000-47a71eb45e12'}}, tasks=(PregelTask(id='071d91df-30d2-eb92-4427-02e6f6e37584', name='action', path=('__pregel_pull', 'action'), error=None, interrupts=(), state=None, result=None),), interrupts=())"
      ]
     },
     "execution_count": 19,
     "metadata": {},
     "output_type": "execute_result"
    }
   ],
   "source": [
    "#the current state\n",
    "abot.graph.get_state(thread)"
   ]
  },
  {
   "cell_type": "code",
   "execution_count": 20,
   "id": "313607cd",
   "metadata": {},
   "outputs": [
    {
     "data": {
      "text/plain": [
       "AIMessage(content='', additional_kwargs={'tool_calls': [{'id': 'call_NdXIgEZKWMHUiCr9pEjnV91F', 'function': {'arguments': '{\"query\":\"current weather in Los Angeles\"}', 'name': 'tavily_search_results_json'}, 'type': 'function'}], 'refusal': None}, response_metadata={'token_usage': {'completion_tokens': 23, 'prompt_tokens': 150, 'total_tokens': 173, 'completion_tokens_details': {'accepted_prediction_tokens': 0, 'audio_tokens': 0, 'reasoning_tokens': 0, 'rejected_prediction_tokens': 0}, 'prompt_tokens_details': {'audio_tokens': 0, 'cached_tokens': 0}}, 'model_name': 'gpt-4o-2024-11-20', 'system_fingerprint': 'fp_ee1d74bde0', 'id': 'chatcmpl-CAv01ZKly0IOnyuUpLmrTIB0zAlST', 'service_tier': None, 'prompt_filter_results': [{'prompt_index': 0, 'content_filter_results': {'hate': {'filtered': False, 'severity': 'safe'}, 'jailbreak': {'filtered': False, 'detected': False}, 'self_harm': {'filtered': False, 'severity': 'safe'}, 'sexual': {'filtered': False, 'severity': 'safe'}, 'violence': {'filtered': False, 'severity': 'safe'}}}], 'finish_reason': 'tool_calls', 'logprobs': None, 'content_filter_results': {}}, id='run--4f6d3c86-cf4a-4cbc-bd65-6db09659354b-0', tool_calls=[{'name': 'tavily_search_results_json', 'args': {'query': 'current weather in Los Angeles'}, 'id': 'call_NdXIgEZKWMHUiCr9pEjnV91F', 'type': 'tool_call'}], usage_metadata={'input_tokens': 150, 'output_tokens': 23, 'total_tokens': 173, 'input_token_details': {'audio': 0, 'cache_read': 0}, 'output_token_details': {'audio': 0, 'reasoning': 0}})"
      ]
     },
     "execution_count": 20,
     "metadata": {},
     "output_type": "execute_result"
    }
   ],
   "source": [
    "#lets modify it to ask weather somewhere else\n",
    "current_values = abot.graph.get_state(thread)\n",
    "current_values.values['messages'][-1]"
   ]
  },
  {
   "cell_type": "code",
   "execution_count": 21,
   "id": "b446eef2",
   "metadata": {},
   "outputs": [
    {
     "data": {
      "text/plain": [
       "[{'name': 'tavily_search_results_json',\n",
       "  'args': {'query': 'current weather in Los Angeles'},\n",
       "  'id': 'call_NdXIgEZKWMHUiCr9pEjnV91F',\n",
       "  'type': 'tool_call'}]"
      ]
     },
     "execution_count": 21,
     "metadata": {},
     "output_type": "execute_result"
    }
   ],
   "source": [
    "current_values.values['messages'][-1].tool_calls"
   ]
  },
  {
   "cell_type": "code",
   "execution_count": 22,
   "id": "20f3d867",
   "metadata": {},
   "outputs": [
    {
     "data": {
      "text/plain": [
       "{'configurable': {'thread_id': '3',\n",
       "  'checkpoint_ns': '',\n",
       "  'checkpoint_id': '1f087153-75ad-6434-8002-f7481452cbb7'}}"
      ]
     },
     "execution_count": 22,
     "metadata": {},
     "output_type": "execute_result"
    }
   ],
   "source": [
    "#lets update the above tool call\n",
    "_id = current_values.values['messages'][-1].tool_calls[0]['id']\n",
    "current_values.values['messages'][-1].tool_calls = [\n",
    "    {'name': 'tavily_search_results_json',\n",
    "  'args': {'query': 'current weather in Louisiana'},\n",
    "  'id': _id}\n",
    "]\n",
    "abot.graph.update_state(thread, current_values.values)"
   ]
  },
  {
   "cell_type": "code",
   "execution_count": 23,
   "id": "7da033ba",
   "metadata": {},
   "outputs": [
    {
     "data": {
      "text/plain": [
       "StateSnapshot(values={'messages': [HumanMessage(content='Whats the weather in LA?', additional_kwargs={}, response_metadata={}, id='8174d289-918e-48ea-80a1-36a3f36543a6'), AIMessage(content='', additional_kwargs={'tool_calls': [{'id': 'call_NdXIgEZKWMHUiCr9pEjnV91F', 'function': {'arguments': '{\"query\":\"current weather in Los Angeles\"}', 'name': 'tavily_search_results_json'}, 'type': 'function'}], 'refusal': None}, response_metadata={'token_usage': {'completion_tokens': 23, 'prompt_tokens': 150, 'total_tokens': 173, 'completion_tokens_details': {'accepted_prediction_tokens': 0, 'audio_tokens': 0, 'reasoning_tokens': 0, 'rejected_prediction_tokens': 0}, 'prompt_tokens_details': {'audio_tokens': 0, 'cached_tokens': 0}}, 'model_name': 'gpt-4o-2024-11-20', 'system_fingerprint': 'fp_ee1d74bde0', 'id': 'chatcmpl-CAv01ZKly0IOnyuUpLmrTIB0zAlST', 'service_tier': None, 'prompt_filter_results': [{'prompt_index': 0, 'content_filter_results': {'hate': {'filtered': False, 'severity': 'safe'}, 'jailbreak': {'filtered': False, 'detected': False}, 'self_harm': {'filtered': False, 'severity': 'safe'}, 'sexual': {'filtered': False, 'severity': 'safe'}, 'violence': {'filtered': False, 'severity': 'safe'}}}], 'finish_reason': 'tool_calls', 'logprobs': None, 'content_filter_results': {}}, id='run--4f6d3c86-cf4a-4cbc-bd65-6db09659354b-0', tool_calls=[{'name': 'tavily_search_results_json', 'args': {'query': 'current weather in Louisiana'}, 'id': 'call_NdXIgEZKWMHUiCr9pEjnV91F', 'type': 'tool_call'}], usage_metadata={'input_tokens': 150, 'output_tokens': 23, 'total_tokens': 173, 'input_token_details': {'audio': 0, 'cache_read': 0}, 'output_token_details': {'audio': 0, 'reasoning': 0}})]}, next=('action',), config={'configurable': {'thread_id': '3', 'checkpoint_ns': '', 'checkpoint_id': '1f087153-75ad-6434-8002-f7481452cbb7'}}, metadata={'source': 'update', 'step': 2, 'parents': {}}, created_at='2025-09-01T09:22:44.124758+00:00', parent_config={'configurable': {'thread_id': '3', 'checkpoint_ns': '', 'checkpoint_id': '1f08714e-154d-6e4e-8001-9bd0577306e4'}}, tasks=(PregelTask(id='3d8971c6-82d6-258a-f648-fc1e783a9ad8', name='action', path=('__pregel_pull', 'action'), error=None, interrupts=(), state=None, result=None),), interrupts=())"
      ]
     },
     "execution_count": 23,
     "metadata": {},
     "output_type": "execute_result"
    }
   ],
   "source": [
    "abot.graph.get_state(thread)"
   ]
  },
  {
   "cell_type": "code",
   "execution_count": 24,
   "id": "2a75852a",
   "metadata": {},
   "outputs": [
    {
     "name": "stdout",
     "output_type": "stream",
     "text": [
      "Calling: {'name': 'tavily_search_results_json', 'args': {'query': 'current weather in Louisiana'}, 'id': 'call_NdXIgEZKWMHUiCr9pEjnV91F', 'type': 'tool_call'}\n",
      "Back to the model!\n",
      "{'messages': [ToolMessage(content='[{\\'title\\': \\'Louisiana weather in September 2025 | Weather25.com\\', \\'url\\': \\'https://www.weather25.com/north-america/usa/louisiana?page=month&month=September\\', \\'content\\': \\'| Month | Temperatures | Rainy Days | Dry Days | Snowy Days | Rainfall | Weather | More details |\\\\n ---  ---  ---  --- |\\\\n| January | 16° / 9° | 4 | 27 | 0 | 53 mm | Good | Louisiana in January |\\\\n| February | 19° / 12° | 4 | 24 | 0 | 60 mm | Good | Louisiana in February |\\\\n| March | 22° / 15° | 4 | 27 | 0 | 65 mm | Good | Louisiana in March |\\\\n| April | 25° / 18° | 4 | 26 | 0 | 56 mm | Perfect | Louisiana in April |\\\\n| May | 29° / 21° | 7 | 24 | 0 | 85 mm | Ok | Louisiana in May | [...] Overcast\\\\nPartly cloudy\\\\nModerate or heavy rain shower\\\\nSunny\\\\nPartly cloudy\\\\nSunny\\\\nPartly cloudy\\\\nSunny\\\\nLight rain shower\\\\nModerate or heavy rain shower\\\\nLight rain\\\\nLight rain shower\\\\nLight rain shower\\\\nModerate rain at times\\\\nLight rain shower\\\\nPatchy rain possible\\\\nPartly cloudy\\\\nThundery outbreaks possible\\\\nLight rain shower\\\\nLight rain shower\\\\nModerate or heavy rain shower\\\\nSunny\\\\nSunny\\\\nPartly cloudy\\\\nPartly cloudy\\\\nSunny\\\\nPartly cloudy\\\\nPatchy rain possible\\\\nLight rain shower\\\\nSunny [...] The weather in Louisiana in September is very hot. The average temperatures are between 24°C and 31°C, drinking water regularly is advisable.\\\\n\\\\nYou can expect rain for roughly half of the month of September in Louisiana. We’re expecting roughly 8 to 15 days of rain, so your rubber boots and umbrella are going to see plenty of use this month if you’re keen on staying dry.\\\\n\\\\nOur weather forecast can give you a great sense of what weather to expect in Louisiana in September 2025.\\', \\'score\\': 0.67527276}, {\\'title\\': \\'New Orleans, LA Monthly Weather - AccuWeather\\', \\'url\\': \\'https://www.accuweather.com/en/us/new-orleans/70112/september-weather/348585\\', \\'content\\': \"# New Orleans, LA\\\\n\\\\nNew Orleans\\\\n\\\\nLouisiana\\\\n\\\\n## Around the Globe\\\\n\\\\nAround the Globe\\\\n\\\\n### Hurricane Tracker\\\\n\\\\n### Severe Weather\\\\n\\\\n### Radar & Maps\\\\n\\\\n### News & Features\\\\n\\\\n### Astronomy\\\\n\\\\n### Business\\\\n\\\\n### Climate\\\\n\\\\n### Health\\\\n\\\\n### Recreation\\\\n\\\\n### Sports\\\\n\\\\n### Travel\\\\n\\\\n### Warnings\\\\n\\\\n### Data Suite\\\\n\\\\n### Forensics\\\\n\\\\n### Advertising\\\\n\\\\n### Superior Accuracy™\\\\n\\\\n### Video\\\\n\\\\n### Winter Center\\\\n\\\\n## Monthly\\\\n\\\\n## September\\\\n\\\\n## 2025\\\\n\\\\n## Daily\\\\n\\\\n## Temperature Graph\\\\n\\\\n## Further Ahead\\\\n\\\\nFurther Ahead\\\\n\\\\n### October 2025 [...] Hurricane Katrina by the Numbers, 20 years later\\\\n\\\\n2 days ago\\\\n\\\\nHurricane\\\\n\\\\nLabor Day is here. Where are the hurricanes?\\\\n\\\\n53 minutes ago\\\\n\\\\nFeatured Stories\\\\n\\\\nAstronomy\\\\n\\\\n2 more celestial sights to see before autumn\\'s arrival\\\\n\\\\n2 days ago\\\\n\\\\nTravel\\\\n\\\\nGas hasn’t been this cheap on Labor Day since 2020\\\\n\\\\n2 days ago\\\\n\\\\nWeather News\\\\n\\\\nWhy meteorological, astronomical fall start on different dates\\\\n\\\\n2 days ago\\\\n\\\\nClearing the air: Leaves are falling but it\\'s not autumn yet\\\\n\\\\nLATEST ENTRY [...] ### November 2025\\\\n\\\\n## Around the Globe\\\\n\\\\nAround the Globe\\\\n\\\\n### Hurricane Tracker\\\\n\\\\n### Severe Weather\\\\n\\\\n### Radar & Maps\\\\n\\\\n### News\\\\n\\\\n### Video\\\\n\\\\n### Winter Center\\\\n\\\\nTop Stories\\\\n\\\\nWeather Forecasts\\\\n\\\\nU.S. Labor Day: Who\\'s hot, who\\'s cool and who\\'s getting rained on?\\\\n\\\\n53 minutes ago\\\\n\\\\nWeather Forecasts\\\\n\\\\nPolar air to bring October-like chill to 250 million in U.S.\\\\n\\\\n53 minutes ago\\\\n\\\\nAstronomy\\\\n\\\\nNorthern lights could glow over more than a dozen states Monday night\\\\n\\\\n20 hours ago\\\\n\\\\nHurricane\", \\'score\\': 0.21324643}]', name='tavily_search_results_json', id='c5a86448-68a7-4104-a8fe-8abc9f0c2740', tool_call_id='call_NdXIgEZKWMHUiCr9pEjnV91F')]}\n",
      "{'messages': [AIMessage(content='It seems I misunderstood your query earlier. Are you asking about the weather in Los Angeles, California (LA), or Louisiana? Let me clarify and provide the correct information.', additional_kwargs={'refusal': None}, response_metadata={'token_usage': {'completion_tokens': 36, 'prompt_tokens': 1119, 'total_tokens': 1155, 'completion_tokens_details': {'accepted_prediction_tokens': 0, 'audio_tokens': 0, 'reasoning_tokens': 0, 'rejected_prediction_tokens': 0}, 'prompt_tokens_details': {'audio_tokens': 0, 'cached_tokens': 0}}, 'model_name': 'gpt-4o-2024-11-20', 'system_fingerprint': 'fp_ee1d74bde0', 'id': 'chatcmpl-CAv2nSsE7ZbBTUzbjvn84VNHJyuQ6', 'service_tier': None, 'prompt_filter_results': [{'prompt_index': 0, 'content_filter_results': {'hate': {'filtered': False, 'severity': 'safe'}, 'jailbreak': {'filtered': False, 'detected': False}, 'self_harm': {'filtered': False, 'severity': 'safe'}, 'sexual': {'filtered': False, 'severity': 'safe'}, 'violence': {'filtered': False, 'severity': 'safe'}}}], 'finish_reason': 'stop', 'logprobs': None, 'content_filter_results': {'hate': {'filtered': False, 'severity': 'safe'}, 'self_harm': {'filtered': False, 'severity': 'safe'}, 'sexual': {'filtered': False, 'severity': 'safe'}, 'violence': {'filtered': False, 'severity': 'safe'}}}, id='run--f0ff13f0-b6fd-4b47-9e27-c1543688d8cd-0', usage_metadata={'input_tokens': 1119, 'output_tokens': 36, 'total_tokens': 1155, 'input_token_details': {'audio': 0, 'cache_read': 0}, 'output_token_details': {'audio': 0, 'reasoning': 0}})]}\n"
     ]
    }
   ],
   "source": [
    "for event in abot.graph.stream(None, thread):\n",
    "    for v in event.values():\n",
    "        print(v)"
   ]
  },
  {
   "cell_type": "code",
   "execution_count": 25,
   "id": "a9f91180",
   "metadata": {},
   "outputs": [
    {
     "name": "stdout",
     "output_type": "stream",
     "text": [
      "StateSnapshot(values={'messages': [HumanMessage(content='Whats the weather in LA?', additional_kwargs={}, response_metadata={}, id='8174d289-918e-48ea-80a1-36a3f36543a6'), AIMessage(content='', additional_kwargs={'tool_calls': [{'id': 'call_NdXIgEZKWMHUiCr9pEjnV91F', 'function': {'arguments': '{\"query\":\"current weather in Los Angeles\"}', 'name': 'tavily_search_results_json'}, 'type': 'function'}], 'refusal': None}, response_metadata={'token_usage': {'completion_tokens': 23, 'prompt_tokens': 150, 'total_tokens': 173, 'completion_tokens_details': {'accepted_prediction_tokens': 0, 'audio_tokens': 0, 'reasoning_tokens': 0, 'rejected_prediction_tokens': 0}, 'prompt_tokens_details': {'audio_tokens': 0, 'cached_tokens': 0}}, 'model_name': 'gpt-4o-2024-11-20', 'system_fingerprint': 'fp_ee1d74bde0', 'id': 'chatcmpl-CAv01ZKly0IOnyuUpLmrTIB0zAlST', 'service_tier': None, 'prompt_filter_results': [{'prompt_index': 0, 'content_filter_results': {'hate': {'filtered': False, 'severity': 'safe'}, 'jailbreak': {'filtered': False, 'detected': False}, 'self_harm': {'filtered': False, 'severity': 'safe'}, 'sexual': {'filtered': False, 'severity': 'safe'}, 'violence': {'filtered': False, 'severity': 'safe'}}}], 'finish_reason': 'tool_calls', 'logprobs': None, 'content_filter_results': {}}, id='run--4f6d3c86-cf4a-4cbc-bd65-6db09659354b-0', tool_calls=[{'name': 'tavily_search_results_json', 'args': {'query': 'current weather in Louisiana'}, 'id': 'call_NdXIgEZKWMHUiCr9pEjnV91F', 'type': 'tool_call'}], usage_metadata={'input_tokens': 150, 'output_tokens': 23, 'total_tokens': 173, 'input_token_details': {'audio': 0, 'cache_read': 0}, 'output_token_details': {'audio': 0, 'reasoning': 0}}), ToolMessage(content='[{\\'title\\': \\'Louisiana weather in September 2025 | Weather25.com\\', \\'url\\': \\'https://www.weather25.com/north-america/usa/louisiana?page=month&month=September\\', \\'content\\': \\'| Month | Temperatures | Rainy Days | Dry Days | Snowy Days | Rainfall | Weather | More details |\\\\n ---  ---  ---  --- |\\\\n| January | 16° / 9° | 4 | 27 | 0 | 53 mm | Good | Louisiana in January |\\\\n| February | 19° / 12° | 4 | 24 | 0 | 60 mm | Good | Louisiana in February |\\\\n| March | 22° / 15° | 4 | 27 | 0 | 65 mm | Good | Louisiana in March |\\\\n| April | 25° / 18° | 4 | 26 | 0 | 56 mm | Perfect | Louisiana in April |\\\\n| May | 29° / 21° | 7 | 24 | 0 | 85 mm | Ok | Louisiana in May | [...] Overcast\\\\nPartly cloudy\\\\nModerate or heavy rain shower\\\\nSunny\\\\nPartly cloudy\\\\nSunny\\\\nPartly cloudy\\\\nSunny\\\\nLight rain shower\\\\nModerate or heavy rain shower\\\\nLight rain\\\\nLight rain shower\\\\nLight rain shower\\\\nModerate rain at times\\\\nLight rain shower\\\\nPatchy rain possible\\\\nPartly cloudy\\\\nThundery outbreaks possible\\\\nLight rain shower\\\\nLight rain shower\\\\nModerate or heavy rain shower\\\\nSunny\\\\nSunny\\\\nPartly cloudy\\\\nPartly cloudy\\\\nSunny\\\\nPartly cloudy\\\\nPatchy rain possible\\\\nLight rain shower\\\\nSunny [...] The weather in Louisiana in September is very hot. The average temperatures are between 24°C and 31°C, drinking water regularly is advisable.\\\\n\\\\nYou can expect rain for roughly half of the month of September in Louisiana. We’re expecting roughly 8 to 15 days of rain, so your rubber boots and umbrella are going to see plenty of use this month if you’re keen on staying dry.\\\\n\\\\nOur weather forecast can give you a great sense of what weather to expect in Louisiana in September 2025.\\', \\'score\\': 0.67527276}, {\\'title\\': \\'New Orleans, LA Monthly Weather - AccuWeather\\', \\'url\\': \\'https://www.accuweather.com/en/us/new-orleans/70112/september-weather/348585\\', \\'content\\': \"# New Orleans, LA\\\\n\\\\nNew Orleans\\\\n\\\\nLouisiana\\\\n\\\\n## Around the Globe\\\\n\\\\nAround the Globe\\\\n\\\\n### Hurricane Tracker\\\\n\\\\n### Severe Weather\\\\n\\\\n### Radar & Maps\\\\n\\\\n### News & Features\\\\n\\\\n### Astronomy\\\\n\\\\n### Business\\\\n\\\\n### Climate\\\\n\\\\n### Health\\\\n\\\\n### Recreation\\\\n\\\\n### Sports\\\\n\\\\n### Travel\\\\n\\\\n### Warnings\\\\n\\\\n### Data Suite\\\\n\\\\n### Forensics\\\\n\\\\n### Advertising\\\\n\\\\n### Superior Accuracy™\\\\n\\\\n### Video\\\\n\\\\n### Winter Center\\\\n\\\\n## Monthly\\\\n\\\\n## September\\\\n\\\\n## 2025\\\\n\\\\n## Daily\\\\n\\\\n## Temperature Graph\\\\n\\\\n## Further Ahead\\\\n\\\\nFurther Ahead\\\\n\\\\n### October 2025 [...] Hurricane Katrina by the Numbers, 20 years later\\\\n\\\\n2 days ago\\\\n\\\\nHurricane\\\\n\\\\nLabor Day is here. Where are the hurricanes?\\\\n\\\\n53 minutes ago\\\\n\\\\nFeatured Stories\\\\n\\\\nAstronomy\\\\n\\\\n2 more celestial sights to see before autumn\\'s arrival\\\\n\\\\n2 days ago\\\\n\\\\nTravel\\\\n\\\\nGas hasn’t been this cheap on Labor Day since 2020\\\\n\\\\n2 days ago\\\\n\\\\nWeather News\\\\n\\\\nWhy meteorological, astronomical fall start on different dates\\\\n\\\\n2 days ago\\\\n\\\\nClearing the air: Leaves are falling but it\\'s not autumn yet\\\\n\\\\nLATEST ENTRY [...] ### November 2025\\\\n\\\\n## Around the Globe\\\\n\\\\nAround the Globe\\\\n\\\\n### Hurricane Tracker\\\\n\\\\n### Severe Weather\\\\n\\\\n### Radar & Maps\\\\n\\\\n### News\\\\n\\\\n### Video\\\\n\\\\n### Winter Center\\\\n\\\\nTop Stories\\\\n\\\\nWeather Forecasts\\\\n\\\\nU.S. Labor Day: Who\\'s hot, who\\'s cool and who\\'s getting rained on?\\\\n\\\\n53 minutes ago\\\\n\\\\nWeather Forecasts\\\\n\\\\nPolar air to bring October-like chill to 250 million in U.S.\\\\n\\\\n53 minutes ago\\\\n\\\\nAstronomy\\\\n\\\\nNorthern lights could glow over more than a dozen states Monday night\\\\n\\\\n20 hours ago\\\\n\\\\nHurricane\", \\'score\\': 0.21324643}]', name='tavily_search_results_json', id='c5a86448-68a7-4104-a8fe-8abc9f0c2740', tool_call_id='call_NdXIgEZKWMHUiCr9pEjnV91F'), AIMessage(content='It seems I misunderstood your query earlier. Are you asking about the weather in Los Angeles, California (LA), or Louisiana? Let me clarify and provide the correct information.', additional_kwargs={'refusal': None}, response_metadata={'token_usage': {'completion_tokens': 36, 'prompt_tokens': 1119, 'total_tokens': 1155, 'completion_tokens_details': {'accepted_prediction_tokens': 0, 'audio_tokens': 0, 'reasoning_tokens': 0, 'rejected_prediction_tokens': 0}, 'prompt_tokens_details': {'audio_tokens': 0, 'cached_tokens': 0}}, 'model_name': 'gpt-4o-2024-11-20', 'system_fingerprint': 'fp_ee1d74bde0', 'id': 'chatcmpl-CAv2nSsE7ZbBTUzbjvn84VNHJyuQ6', 'service_tier': None, 'prompt_filter_results': [{'prompt_index': 0, 'content_filter_results': {'hate': {'filtered': False, 'severity': 'safe'}, 'jailbreak': {'filtered': False, 'detected': False}, 'self_harm': {'filtered': False, 'severity': 'safe'}, 'sexual': {'filtered': False, 'severity': 'safe'}, 'violence': {'filtered': False, 'severity': 'safe'}}}], 'finish_reason': 'stop', 'logprobs': None, 'content_filter_results': {'hate': {'filtered': False, 'severity': 'safe'}, 'self_harm': {'filtered': False, 'severity': 'safe'}, 'sexual': {'filtered': False, 'severity': 'safe'}, 'violence': {'filtered': False, 'severity': 'safe'}}}, id='run--f0ff13f0-b6fd-4b47-9e27-c1543688d8cd-0', usage_metadata={'input_tokens': 1119, 'output_tokens': 36, 'total_tokens': 1155, 'input_token_details': {'audio': 0, 'cache_read': 0}, 'output_token_details': {'audio': 0, 'reasoning': 0}})]}, next=(), config={'configurable': {'thread_id': '3', 'checkpoint_ns': '', 'checkpoint_id': '1f087154-7f06-641a-8004-fe3e1d63d0ef'}}, metadata={'source': 'loop', 'step': 4, 'parents': {}}, created_at='2025-09-01T09:23:11.948467+00:00', parent_config={'configurable': {'thread_id': '3', 'checkpoint_ns': '', 'checkpoint_id': '1f087154-762b-6b83-8003-f9efd63c8a3a'}}, tasks=(), interrupts=())\n",
      "--\n",
      "StateSnapshot(values={'messages': [HumanMessage(content='Whats the weather in LA?', additional_kwargs={}, response_metadata={}, id='8174d289-918e-48ea-80a1-36a3f36543a6'), AIMessage(content='', additional_kwargs={'tool_calls': [{'id': 'call_NdXIgEZKWMHUiCr9pEjnV91F', 'function': {'arguments': '{\"query\":\"current weather in Los Angeles\"}', 'name': 'tavily_search_results_json'}, 'type': 'function'}], 'refusal': None}, response_metadata={'token_usage': {'completion_tokens': 23, 'prompt_tokens': 150, 'total_tokens': 173, 'completion_tokens_details': {'accepted_prediction_tokens': 0, 'audio_tokens': 0, 'reasoning_tokens': 0, 'rejected_prediction_tokens': 0}, 'prompt_tokens_details': {'audio_tokens': 0, 'cached_tokens': 0}}, 'model_name': 'gpt-4o-2024-11-20', 'system_fingerprint': 'fp_ee1d74bde0', 'id': 'chatcmpl-CAv01ZKly0IOnyuUpLmrTIB0zAlST', 'service_tier': None, 'prompt_filter_results': [{'prompt_index': 0, 'content_filter_results': {'hate': {'filtered': False, 'severity': 'safe'}, 'jailbreak': {'filtered': False, 'detected': False}, 'self_harm': {'filtered': False, 'severity': 'safe'}, 'sexual': {'filtered': False, 'severity': 'safe'}, 'violence': {'filtered': False, 'severity': 'safe'}}}], 'finish_reason': 'tool_calls', 'logprobs': None, 'content_filter_results': {}}, id='run--4f6d3c86-cf4a-4cbc-bd65-6db09659354b-0', tool_calls=[{'name': 'tavily_search_results_json', 'args': {'query': 'current weather in Louisiana'}, 'id': 'call_NdXIgEZKWMHUiCr9pEjnV91F', 'type': 'tool_call'}], usage_metadata={'input_tokens': 150, 'output_tokens': 23, 'total_tokens': 173, 'input_token_details': {'audio': 0, 'cache_read': 0}, 'output_token_details': {'audio': 0, 'reasoning': 0}}), ToolMessage(content='[{\\'title\\': \\'Louisiana weather in September 2025 | Weather25.com\\', \\'url\\': \\'https://www.weather25.com/north-america/usa/louisiana?page=month&month=September\\', \\'content\\': \\'| Month | Temperatures | Rainy Days | Dry Days | Snowy Days | Rainfall | Weather | More details |\\\\n ---  ---  ---  --- |\\\\n| January | 16° / 9° | 4 | 27 | 0 | 53 mm | Good | Louisiana in January |\\\\n| February | 19° / 12° | 4 | 24 | 0 | 60 mm | Good | Louisiana in February |\\\\n| March | 22° / 15° | 4 | 27 | 0 | 65 mm | Good | Louisiana in March |\\\\n| April | 25° / 18° | 4 | 26 | 0 | 56 mm | Perfect | Louisiana in April |\\\\n| May | 29° / 21° | 7 | 24 | 0 | 85 mm | Ok | Louisiana in May | [...] Overcast\\\\nPartly cloudy\\\\nModerate or heavy rain shower\\\\nSunny\\\\nPartly cloudy\\\\nSunny\\\\nPartly cloudy\\\\nSunny\\\\nLight rain shower\\\\nModerate or heavy rain shower\\\\nLight rain\\\\nLight rain shower\\\\nLight rain shower\\\\nModerate rain at times\\\\nLight rain shower\\\\nPatchy rain possible\\\\nPartly cloudy\\\\nThundery outbreaks possible\\\\nLight rain shower\\\\nLight rain shower\\\\nModerate or heavy rain shower\\\\nSunny\\\\nSunny\\\\nPartly cloudy\\\\nPartly cloudy\\\\nSunny\\\\nPartly cloudy\\\\nPatchy rain possible\\\\nLight rain shower\\\\nSunny [...] The weather in Louisiana in September is very hot. The average temperatures are between 24°C and 31°C, drinking water regularly is advisable.\\\\n\\\\nYou can expect rain for roughly half of the month of September in Louisiana. We’re expecting roughly 8 to 15 days of rain, so your rubber boots and umbrella are going to see plenty of use this month if you’re keen on staying dry.\\\\n\\\\nOur weather forecast can give you a great sense of what weather to expect in Louisiana in September 2025.\\', \\'score\\': 0.67527276}, {\\'title\\': \\'New Orleans, LA Monthly Weather - AccuWeather\\', \\'url\\': \\'https://www.accuweather.com/en/us/new-orleans/70112/september-weather/348585\\', \\'content\\': \"# New Orleans, LA\\\\n\\\\nNew Orleans\\\\n\\\\nLouisiana\\\\n\\\\n## Around the Globe\\\\n\\\\nAround the Globe\\\\n\\\\n### Hurricane Tracker\\\\n\\\\n### Severe Weather\\\\n\\\\n### Radar & Maps\\\\n\\\\n### News & Features\\\\n\\\\n### Astronomy\\\\n\\\\n### Business\\\\n\\\\n### Climate\\\\n\\\\n### Health\\\\n\\\\n### Recreation\\\\n\\\\n### Sports\\\\n\\\\n### Travel\\\\n\\\\n### Warnings\\\\n\\\\n### Data Suite\\\\n\\\\n### Forensics\\\\n\\\\n### Advertising\\\\n\\\\n### Superior Accuracy™\\\\n\\\\n### Video\\\\n\\\\n### Winter Center\\\\n\\\\n## Monthly\\\\n\\\\n## September\\\\n\\\\n## 2025\\\\n\\\\n## Daily\\\\n\\\\n## Temperature Graph\\\\n\\\\n## Further Ahead\\\\n\\\\nFurther Ahead\\\\n\\\\n### October 2025 [...] Hurricane Katrina by the Numbers, 20 years later\\\\n\\\\n2 days ago\\\\n\\\\nHurricane\\\\n\\\\nLabor Day is here. Where are the hurricanes?\\\\n\\\\n53 minutes ago\\\\n\\\\nFeatured Stories\\\\n\\\\nAstronomy\\\\n\\\\n2 more celestial sights to see before autumn\\'s arrival\\\\n\\\\n2 days ago\\\\n\\\\nTravel\\\\n\\\\nGas hasn’t been this cheap on Labor Day since 2020\\\\n\\\\n2 days ago\\\\n\\\\nWeather News\\\\n\\\\nWhy meteorological, astronomical fall start on different dates\\\\n\\\\n2 days ago\\\\n\\\\nClearing the air: Leaves are falling but it\\'s not autumn yet\\\\n\\\\nLATEST ENTRY [...] ### November 2025\\\\n\\\\n## Around the Globe\\\\n\\\\nAround the Globe\\\\n\\\\n### Hurricane Tracker\\\\n\\\\n### Severe Weather\\\\n\\\\n### Radar & Maps\\\\n\\\\n### News\\\\n\\\\n### Video\\\\n\\\\n### Winter Center\\\\n\\\\nTop Stories\\\\n\\\\nWeather Forecasts\\\\n\\\\nU.S. Labor Day: Who\\'s hot, who\\'s cool and who\\'s getting rained on?\\\\n\\\\n53 minutes ago\\\\n\\\\nWeather Forecasts\\\\n\\\\nPolar air to bring October-like chill to 250 million in U.S.\\\\n\\\\n53 minutes ago\\\\n\\\\nAstronomy\\\\n\\\\nNorthern lights could glow over more than a dozen states Monday night\\\\n\\\\n20 hours ago\\\\n\\\\nHurricane\", \\'score\\': 0.21324643}]', name='tavily_search_results_json', id='c5a86448-68a7-4104-a8fe-8abc9f0c2740', tool_call_id='call_NdXIgEZKWMHUiCr9pEjnV91F')]}, next=('llm',), config={'configurable': {'thread_id': '3', 'checkpoint_ns': '', 'checkpoint_id': '1f087154-762b-6b83-8003-f9efd63c8a3a'}}, metadata={'source': 'loop', 'step': 3, 'parents': {}}, created_at='2025-09-01T09:23:11.020093+00:00', parent_config={'configurable': {'thread_id': '3', 'checkpoint_ns': '', 'checkpoint_id': '1f087153-75ad-6434-8002-f7481452cbb7'}}, tasks=(PregelTask(id='6e4445a0-59d9-bc1a-ca79-b9fb48dedd7d', name='llm', path=('__pregel_pull', 'llm'), error=None, interrupts=(), state=None, result={'messages': [AIMessage(content='It seems I misunderstood your query earlier. Are you asking about the weather in Los Angeles, California (LA), or Louisiana? Let me clarify and provide the correct information.', additional_kwargs={'refusal': None}, response_metadata={'token_usage': {'completion_tokens': 36, 'prompt_tokens': 1119, 'total_tokens': 1155, 'completion_tokens_details': {'accepted_prediction_tokens': 0, 'audio_tokens': 0, 'reasoning_tokens': 0, 'rejected_prediction_tokens': 0}, 'prompt_tokens_details': {'audio_tokens': 0, 'cached_tokens': 0}}, 'model_name': 'gpt-4o-2024-11-20', 'system_fingerprint': 'fp_ee1d74bde0', 'id': 'chatcmpl-CAv2nSsE7ZbBTUzbjvn84VNHJyuQ6', 'service_tier': None, 'prompt_filter_results': [{'prompt_index': 0, 'content_filter_results': {'hate': {'filtered': False, 'severity': 'safe'}, 'jailbreak': {'filtered': False, 'detected': False}, 'self_harm': {'filtered': False, 'severity': 'safe'}, 'sexual': {'filtered': False, 'severity': 'safe'}, 'violence': {'filtered': False, 'severity': 'safe'}}}], 'finish_reason': 'stop', 'logprobs': None, 'content_filter_results': {'hate': {'filtered': False, 'severity': 'safe'}, 'self_harm': {'filtered': False, 'severity': 'safe'}, 'sexual': {'filtered': False, 'severity': 'safe'}, 'violence': {'filtered': False, 'severity': 'safe'}}}, id='run--f0ff13f0-b6fd-4b47-9e27-c1543688d8cd-0', usage_metadata={'input_tokens': 1119, 'output_tokens': 36, 'total_tokens': 1155, 'input_token_details': {'audio': 0, 'cache_read': 0}, 'output_token_details': {'audio': 0, 'reasoning': 0}})]}),), interrupts=())\n",
      "--\n",
      "StateSnapshot(values={'messages': [HumanMessage(content='Whats the weather in LA?', additional_kwargs={}, response_metadata={}, id='8174d289-918e-48ea-80a1-36a3f36543a6'), AIMessage(content='', additional_kwargs={'tool_calls': [{'id': 'call_NdXIgEZKWMHUiCr9pEjnV91F', 'function': {'arguments': '{\"query\":\"current weather in Los Angeles\"}', 'name': 'tavily_search_results_json'}, 'type': 'function'}], 'refusal': None}, response_metadata={'token_usage': {'completion_tokens': 23, 'prompt_tokens': 150, 'total_tokens': 173, 'completion_tokens_details': {'accepted_prediction_tokens': 0, 'audio_tokens': 0, 'reasoning_tokens': 0, 'rejected_prediction_tokens': 0}, 'prompt_tokens_details': {'audio_tokens': 0, 'cached_tokens': 0}}, 'model_name': 'gpt-4o-2024-11-20', 'system_fingerprint': 'fp_ee1d74bde0', 'id': 'chatcmpl-CAv01ZKly0IOnyuUpLmrTIB0zAlST', 'service_tier': None, 'prompt_filter_results': [{'prompt_index': 0, 'content_filter_results': {'hate': {'filtered': False, 'severity': 'safe'}, 'jailbreak': {'filtered': False, 'detected': False}, 'self_harm': {'filtered': False, 'severity': 'safe'}, 'sexual': {'filtered': False, 'severity': 'safe'}, 'violence': {'filtered': False, 'severity': 'safe'}}}], 'finish_reason': 'tool_calls', 'logprobs': None, 'content_filter_results': {}}, id='run--4f6d3c86-cf4a-4cbc-bd65-6db09659354b-0', tool_calls=[{'name': 'tavily_search_results_json', 'args': {'query': 'current weather in Louisiana'}, 'id': 'call_NdXIgEZKWMHUiCr9pEjnV91F', 'type': 'tool_call'}], usage_metadata={'input_tokens': 150, 'output_tokens': 23, 'total_tokens': 173, 'input_token_details': {'audio': 0, 'cache_read': 0}, 'output_token_details': {'audio': 0, 'reasoning': 0}})]}, next=('action',), config={'configurable': {'thread_id': '3', 'checkpoint_ns': '', 'checkpoint_id': '1f087153-75ad-6434-8002-f7481452cbb7'}}, metadata={'source': 'update', 'step': 2, 'parents': {}}, created_at='2025-09-01T09:22:44.124758+00:00', parent_config={'configurable': {'thread_id': '3', 'checkpoint_ns': '', 'checkpoint_id': '1f08714e-154d-6e4e-8001-9bd0577306e4'}}, tasks=(PregelTask(id='3d8971c6-82d6-258a-f648-fc1e783a9ad8', name='action', path=('__pregel_pull', 'action'), error=None, interrupts=(), state=None, result={'messages': [ToolMessage(content='[{\\'title\\': \\'Louisiana weather in September 2025 | Weather25.com\\', \\'url\\': \\'https://www.weather25.com/north-america/usa/louisiana?page=month&month=September\\', \\'content\\': \\'| Month | Temperatures | Rainy Days | Dry Days | Snowy Days | Rainfall | Weather | More details |\\\\n ---  ---  ---  --- |\\\\n| January | 16° / 9° | 4 | 27 | 0 | 53 mm | Good | Louisiana in January |\\\\n| February | 19° / 12° | 4 | 24 | 0 | 60 mm | Good | Louisiana in February |\\\\n| March | 22° / 15° | 4 | 27 | 0 | 65 mm | Good | Louisiana in March |\\\\n| April | 25° / 18° | 4 | 26 | 0 | 56 mm | Perfect | Louisiana in April |\\\\n| May | 29° / 21° | 7 | 24 | 0 | 85 mm | Ok | Louisiana in May | [...] Overcast\\\\nPartly cloudy\\\\nModerate or heavy rain shower\\\\nSunny\\\\nPartly cloudy\\\\nSunny\\\\nPartly cloudy\\\\nSunny\\\\nLight rain shower\\\\nModerate or heavy rain shower\\\\nLight rain\\\\nLight rain shower\\\\nLight rain shower\\\\nModerate rain at times\\\\nLight rain shower\\\\nPatchy rain possible\\\\nPartly cloudy\\\\nThundery outbreaks possible\\\\nLight rain shower\\\\nLight rain shower\\\\nModerate or heavy rain shower\\\\nSunny\\\\nSunny\\\\nPartly cloudy\\\\nPartly cloudy\\\\nSunny\\\\nPartly cloudy\\\\nPatchy rain possible\\\\nLight rain shower\\\\nSunny [...] The weather in Louisiana in September is very hot. The average temperatures are between 24°C and 31°C, drinking water regularly is advisable.\\\\n\\\\nYou can expect rain for roughly half of the month of September in Louisiana. We’re expecting roughly 8 to 15 days of rain, so your rubber boots and umbrella are going to see plenty of use this month if you’re keen on staying dry.\\\\n\\\\nOur weather forecast can give you a great sense of what weather to expect in Louisiana in September 2025.\\', \\'score\\': 0.67527276}, {\\'title\\': \\'New Orleans, LA Monthly Weather - AccuWeather\\', \\'url\\': \\'https://www.accuweather.com/en/us/new-orleans/70112/september-weather/348585\\', \\'content\\': \"# New Orleans, LA\\\\n\\\\nNew Orleans\\\\n\\\\nLouisiana\\\\n\\\\n## Around the Globe\\\\n\\\\nAround the Globe\\\\n\\\\n### Hurricane Tracker\\\\n\\\\n### Severe Weather\\\\n\\\\n### Radar & Maps\\\\n\\\\n### News & Features\\\\n\\\\n### Astronomy\\\\n\\\\n### Business\\\\n\\\\n### Climate\\\\n\\\\n### Health\\\\n\\\\n### Recreation\\\\n\\\\n### Sports\\\\n\\\\n### Travel\\\\n\\\\n### Warnings\\\\n\\\\n### Data Suite\\\\n\\\\n### Forensics\\\\n\\\\n### Advertising\\\\n\\\\n### Superior Accuracy™\\\\n\\\\n### Video\\\\n\\\\n### Winter Center\\\\n\\\\n## Monthly\\\\n\\\\n## September\\\\n\\\\n## 2025\\\\n\\\\n## Daily\\\\n\\\\n## Temperature Graph\\\\n\\\\n## Further Ahead\\\\n\\\\nFurther Ahead\\\\n\\\\n### October 2025 [...] Hurricane Katrina by the Numbers, 20 years later\\\\n\\\\n2 days ago\\\\n\\\\nHurricane\\\\n\\\\nLabor Day is here. Where are the hurricanes?\\\\n\\\\n53 minutes ago\\\\n\\\\nFeatured Stories\\\\n\\\\nAstronomy\\\\n\\\\n2 more celestial sights to see before autumn\\'s arrival\\\\n\\\\n2 days ago\\\\n\\\\nTravel\\\\n\\\\nGas hasn’t been this cheap on Labor Day since 2020\\\\n\\\\n2 days ago\\\\n\\\\nWeather News\\\\n\\\\nWhy meteorological, astronomical fall start on different dates\\\\n\\\\n2 days ago\\\\n\\\\nClearing the air: Leaves are falling but it\\'s not autumn yet\\\\n\\\\nLATEST ENTRY [...] ### November 2025\\\\n\\\\n## Around the Globe\\\\n\\\\nAround the Globe\\\\n\\\\n### Hurricane Tracker\\\\n\\\\n### Severe Weather\\\\n\\\\n### Radar & Maps\\\\n\\\\n### News\\\\n\\\\n### Video\\\\n\\\\n### Winter Center\\\\n\\\\nTop Stories\\\\n\\\\nWeather Forecasts\\\\n\\\\nU.S. Labor Day: Who\\'s hot, who\\'s cool and who\\'s getting rained on?\\\\n\\\\n53 minutes ago\\\\n\\\\nWeather Forecasts\\\\n\\\\nPolar air to bring October-like chill to 250 million in U.S.\\\\n\\\\n53 minutes ago\\\\n\\\\nAstronomy\\\\n\\\\nNorthern lights could glow over more than a dozen states Monday night\\\\n\\\\n20 hours ago\\\\n\\\\nHurricane\", \\'score\\': 0.21324643}]', name='tavily_search_results_json', tool_call_id='call_NdXIgEZKWMHUiCr9pEjnV91F')]}),), interrupts=())\n",
      "--\n",
      "StateSnapshot(values={'messages': [HumanMessage(content='Whats the weather in LA?', additional_kwargs={}, response_metadata={}, id='8174d289-918e-48ea-80a1-36a3f36543a6'), AIMessage(content='', additional_kwargs={'tool_calls': [{'id': 'call_NdXIgEZKWMHUiCr9pEjnV91F', 'function': {'arguments': '{\"query\":\"current weather in Los Angeles\"}', 'name': 'tavily_search_results_json'}, 'type': 'function'}], 'refusal': None}, response_metadata={'token_usage': {'completion_tokens': 23, 'prompt_tokens': 150, 'total_tokens': 173, 'completion_tokens_details': {'accepted_prediction_tokens': 0, 'audio_tokens': 0, 'reasoning_tokens': 0, 'rejected_prediction_tokens': 0}, 'prompt_tokens_details': {'audio_tokens': 0, 'cached_tokens': 0}}, 'model_name': 'gpt-4o-2024-11-20', 'system_fingerprint': 'fp_ee1d74bde0', 'id': 'chatcmpl-CAv01ZKly0IOnyuUpLmrTIB0zAlST', 'service_tier': None, 'prompt_filter_results': [{'prompt_index': 0, 'content_filter_results': {'hate': {'filtered': False, 'severity': 'safe'}, 'jailbreak': {'filtered': False, 'detected': False}, 'self_harm': {'filtered': False, 'severity': 'safe'}, 'sexual': {'filtered': False, 'severity': 'safe'}, 'violence': {'filtered': False, 'severity': 'safe'}}}], 'finish_reason': 'tool_calls', 'logprobs': None, 'content_filter_results': {}}, id='run--4f6d3c86-cf4a-4cbc-bd65-6db09659354b-0', tool_calls=[{'name': 'tavily_search_results_json', 'args': {'query': 'current weather in Los Angeles'}, 'id': 'call_NdXIgEZKWMHUiCr9pEjnV91F', 'type': 'tool_call'}], usage_metadata={'input_tokens': 150, 'output_tokens': 23, 'total_tokens': 173, 'input_token_details': {'audio': 0, 'cache_read': 0}, 'output_token_details': {'audio': 0, 'reasoning': 0}})]}, next=('action',), config={'configurable': {'thread_id': '3', 'checkpoint_ns': '', 'checkpoint_id': '1f08714e-154d-6e4e-8001-9bd0577306e4'}}, metadata={'source': 'loop', 'step': 1, 'parents': {}}, created_at='2025-09-01T09:20:19.801638+00:00', parent_config={'configurable': {'thread_id': '3', 'checkpoint_ns': '', 'checkpoint_id': '1f08714e-0db0-6b54-8000-47a71eb45e12'}}, tasks=(PregelTask(id='071d91df-30d2-eb92-4427-02e6f6e37584', name='action', path=('__pregel_pull', 'action'), error=None, interrupts=(), state=None, result=None),), interrupts=())\n",
      "--\n",
      "StateSnapshot(values={'messages': [HumanMessage(content='Whats the weather in LA?', additional_kwargs={}, response_metadata={}, id='8174d289-918e-48ea-80a1-36a3f36543a6')]}, next=('llm',), config={'configurable': {'thread_id': '3', 'checkpoint_ns': '', 'checkpoint_id': '1f08714e-0db0-6b54-8000-47a71eb45e12'}}, metadata={'source': 'loop', 'step': 0, 'parents': {}}, created_at='2025-09-01T09:20:19.003263+00:00', parent_config={'configurable': {'thread_id': '3', 'checkpoint_ns': '', 'checkpoint_id': '1f08714e-0dad-6fe8-bfff-4a2d09fb06b9'}}, tasks=(PregelTask(id='2ecf1713-526e-5335-2301-4f5972fd8fc7', name='llm', path=('__pregel_pull', 'llm'), error=None, interrupts=(), state=None, result={'messages': [AIMessage(content='', additional_kwargs={'tool_calls': [{'id': 'call_NdXIgEZKWMHUiCr9pEjnV91F', 'function': {'arguments': '{\"query\":\"current weather in Los Angeles\"}', 'name': 'tavily_search_results_json'}, 'type': 'function'}], 'refusal': None}, response_metadata={'token_usage': {'completion_tokens': 23, 'prompt_tokens': 150, 'total_tokens': 173, 'completion_tokens_details': {'accepted_prediction_tokens': 0, 'audio_tokens': 0, 'reasoning_tokens': 0, 'rejected_prediction_tokens': 0}, 'prompt_tokens_details': {'audio_tokens': 0, 'cached_tokens': 0}}, 'model_name': 'gpt-4o-2024-11-20', 'system_fingerprint': 'fp_ee1d74bde0', 'id': 'chatcmpl-CAv01ZKly0IOnyuUpLmrTIB0zAlST', 'service_tier': None, 'prompt_filter_results': [{'prompt_index': 0, 'content_filter_results': {'hate': {'filtered': False, 'severity': 'safe'}, 'jailbreak': {'filtered': False, 'detected': False}, 'self_harm': {'filtered': False, 'severity': 'safe'}, 'sexual': {'filtered': False, 'severity': 'safe'}, 'violence': {'filtered': False, 'severity': 'safe'}}}], 'finish_reason': 'tool_calls', 'logprobs': None, 'content_filter_results': {}}, id='run--4f6d3c86-cf4a-4cbc-bd65-6db09659354b-0', tool_calls=[{'name': 'tavily_search_results_json', 'args': {'query': 'current weather in Los Angeles'}, 'id': 'call_NdXIgEZKWMHUiCr9pEjnV91F', 'type': 'tool_call'}], usage_metadata={'input_tokens': 150, 'output_tokens': 23, 'total_tokens': 173, 'input_token_details': {'audio': 0, 'cache_read': 0}, 'output_token_details': {'audio': 0, 'reasoning': 0}})]}),), interrupts=())\n",
      "--\n",
      "StateSnapshot(values={'messages': []}, next=('__start__',), config={'configurable': {'thread_id': '3', 'checkpoint_ns': '', 'checkpoint_id': '1f08714e-0dad-6fe8-bfff-4a2d09fb06b9'}}, metadata={'source': 'input', 'step': -1, 'parents': {}}, created_at='2025-09-01T09:20:19.002153+00:00', parent_config=None, tasks=(PregelTask(id='666aaa23-35f0-abc2-9a77-6c5a0154f780', name='__start__', path=('__pregel_pull', '__start__'), error=None, interrupts=(), state=None, result={'messages': [HumanMessage(content='Whats the weather in LA?', additional_kwargs={}, response_metadata={}, id='8174d289-918e-48ea-80a1-36a3f36543a6')]}),), interrupts=())\n",
      "--\n"
     ]
    }
   ],
   "source": [
    "#time travel to check all states\n",
    "states = []\n",
    "for state in abot.graph.get_state_history(thread):\n",
    "    print(state)\n",
    "    print('--')\n",
    "    states.append(state)"
   ]
  },
  {
   "cell_type": "code",
   "execution_count": 26,
   "id": "98d4dc72",
   "metadata": {},
   "outputs": [
    {
     "data": {
      "text/plain": [
       "StateSnapshot(values={'messages': [HumanMessage(content='Whats the weather in LA?', additional_kwargs={}, response_metadata={}, id='8174d289-918e-48ea-80a1-36a3f36543a6'), AIMessage(content='', additional_kwargs={'tool_calls': [{'id': 'call_NdXIgEZKWMHUiCr9pEjnV91F', 'function': {'arguments': '{\"query\":\"current weather in Los Angeles\"}', 'name': 'tavily_search_results_json'}, 'type': 'function'}], 'refusal': None}, response_metadata={'token_usage': {'completion_tokens': 23, 'prompt_tokens': 150, 'total_tokens': 173, 'completion_tokens_details': {'accepted_prediction_tokens': 0, 'audio_tokens': 0, 'reasoning_tokens': 0, 'rejected_prediction_tokens': 0}, 'prompt_tokens_details': {'audio_tokens': 0, 'cached_tokens': 0}}, 'model_name': 'gpt-4o-2024-11-20', 'system_fingerprint': 'fp_ee1d74bde0', 'id': 'chatcmpl-CAv01ZKly0IOnyuUpLmrTIB0zAlST', 'service_tier': None, 'prompt_filter_results': [{'prompt_index': 0, 'content_filter_results': {'hate': {'filtered': False, 'severity': 'safe'}, 'jailbreak': {'filtered': False, 'detected': False}, 'self_harm': {'filtered': False, 'severity': 'safe'}, 'sexual': {'filtered': False, 'severity': 'safe'}, 'violence': {'filtered': False, 'severity': 'safe'}}}], 'finish_reason': 'tool_calls', 'logprobs': None, 'content_filter_results': {}}, id='run--4f6d3c86-cf4a-4cbc-bd65-6db09659354b-0', tool_calls=[{'name': 'tavily_search_results_json', 'args': {'query': 'current weather in Los Angeles'}, 'id': 'call_NdXIgEZKWMHUiCr9pEjnV91F', 'type': 'tool_call'}], usage_metadata={'input_tokens': 150, 'output_tokens': 23, 'total_tokens': 173, 'input_token_details': {'audio': 0, 'cache_read': 0}, 'output_token_details': {'audio': 0, 'reasoning': 0}})]}, next=('action',), config={'configurable': {'thread_id': '3', 'checkpoint_ns': '', 'checkpoint_id': '1f08714e-154d-6e4e-8001-9bd0577306e4'}}, metadata={'source': 'loop', 'step': 1, 'parents': {}}, created_at='2025-09-01T09:20:19.801638+00:00', parent_config={'configurable': {'thread_id': '3', 'checkpoint_ns': '', 'checkpoint_id': '1f08714e-0db0-6b54-8000-47a71eb45e12'}}, tasks=(PregelTask(id='071d91df-30d2-eb92-4427-02e6f6e37584', name='action', path=('__pregel_pull', 'action'), error=None, interrupts=(), state=None, result=None),), interrupts=())"
      ]
     },
     "execution_count": 26,
     "metadata": {},
     "output_type": "execute_result"
    }
   ],
   "source": [
    "to_replay = states[-3]\n",
    "to_replay"
   ]
  },
  {
   "cell_type": "code",
   "execution_count": 27,
   "id": "4b096903",
   "metadata": {},
   "outputs": [
    {
     "name": "stdout",
     "output_type": "stream",
     "text": [
      "Calling: {'name': 'tavily_search_results_json', 'args': {'query': 'current weather in Los Angeles'}, 'id': 'call_NdXIgEZKWMHUiCr9pEjnV91F', 'type': 'tool_call'}\n",
      "Back to the model!\n",
      "{'messages': [ToolMessage(content='[{\\'title\\': \\'Monday, September 1, 2025. Los Angeles, CA - Weather Forecast\\', \\'url\\': \\'https://weathershogun.com/weather/usa/ca/los-angeles/451/september/2025-09-01\\', \\'content\\': \"WeatherShogun.com\\\\n\\\\n# Weather in Los Angeles, California\\\\n\\\\n### Warning: Extreme UV Index Today: 11+\\\\n\\\\nOverexposure to the sun\\'s harmful UV rays can cause sunburn and increase the risk of developing skin cancer, including melanoma. Protect yourself by wearing clothing that covers your skin, sunglasses, and a hat. Apply a broad-spectrum sunscreen with an SPF of 30 or higher every two hours, even on cloudy days. Minimize direct sun exposure during peak hours (10 AM to 4 PM) to reduce the risk. [...] Very warm with plenty of bright sunlight.\\\\n\\\\n## Los Angeles Weather Forecast Updated\\\\n\\\\n## Weather Forecast History\\\\n\\\\nLast Year\\'s Weather on This Day (September 1, 2024)\\\\n\\\\n### Day\\\\n\\\\n86°\\\\n\\\\n### Night\\\\n\\\\n63°\\\\n\\\\n#### Wind\\\\n\\\\n6 mph\\\\n\\\\n#### UV Index\\\\n\\\\n8\\\\n\\\\n#### Precipitation\\\\n\\\\n1\\\\n\\\\n# Air quality in Los Angeles\\\\n\\\\n#### Pollutant Concentrations:\\\\n\\\\n#### Health Recommendations:\\\\n\\\\nAir quality is currently in the acceptable range. However, sensitive individuals should be aware of potential risks from certain pollutants. [...] © Copyright by WeatherShogun.com\", \\'score\\': 0.8479807}, {\\'title\\': \\'Los Angeles weather in September 2025\\', \\'url\\': \\'https://www.weather25.com/north-america/usa/california/los-angeles?page=month&month=September\\', \\'content\\': \\'| Month | Temperatures | Rainy Days | Dry Days | Snowy Days | Rainfall | Weather | More details |\\\\n ---  ---  ---  --- |\\\\n| January | 21° / 11° | 3 | 28 | 0 | 58 mm | Good | Los Angeles in January |\\\\n| February | 20° / 11° | 2 | 27 | 0 | 56 mm | Good | Los Angeles in February |\\\\n| March | 22° / 12° | 2 | 29 | 0 | 34 mm | Good | Los Angeles in March |\\\\n| April | 24° / 13° | 1 | 29 | 0 | 18 mm | Perfect | Los Angeles in April |\\\\n| May | 25° / 15° | 0 | 31 | 0 | 4 mm | Perfect | Los Angeles in May | [...] Cloudy\\\\nPartly cloudy\\\\nSunny\\\\nSunny\\\\nSunny\\\\nSunny\\\\nSunny\\\\nSunny\\\\nSunny\\\\nSunny\\\\nSunny\\\\nSunny\\\\nSunny\\\\nSunny\\\\nPartly cloudy\\\\nSunny\\\\nSunny\\\\nPartly cloudy\\\\nPartly cloudy\\\\nSunny\\\\nSunny\\\\nOvercast\\\\nSunny\\\\nSunny\\\\nSunny\\\\nSunny\\\\nCloudy\\\\nPartly cloudy\\\\nSunny\\\\nSunny\\\\n\\\\n## Explore the weather in Los Angeles in other months\\\\n\\\\n## Los Angeles annual weather [...] | June | 27° / 17° | 0 | 30 | 0 | 1 mm | Perfect | Los Angeles in June |\\\\n| July | 30° / 20° | 0 | 31 | 0 | 5 mm | Good | Los Angeles in July |\\\\n| August | 31° / 21° | 0 | 31 | 0 | 3 mm | Good | Los Angeles in August |\\\\n| September | 31° / 21° | 0 | 30 | 0 | 4 mm | Good | Los Angeles in September |\\\\n| October | 27° / 18° | 1 | 30 | 0 | 10 mm | Perfect | Los Angeles in October |\\\\n| November | 24° / 14° | 1 | 29 | 0 | 22 mm | Perfect | Los Angeles in November |\\', \\'score\\': 0.62248284}]', name='tavily_search_results_json', id='f6a25f21-999f-42b3-8cbc-c4279789ca1a', tool_call_id='call_NdXIgEZKWMHUiCr9pEjnV91F')]}\n",
      "{'messages': [AIMessage(content=\"The current weather in Los Angeles is very warm with plenty of bright sunlight. The temperature is around 86°F during the day and 63°F at night. The UV index is extremely high at 11+, so it's important to take precautions against sun exposure.\", additional_kwargs={'refusal': None}, response_metadata={'token_usage': {'completion_tokens': 54, 'prompt_tokens': 1043, 'total_tokens': 1097, 'completion_tokens_details': {'accepted_prediction_tokens': 0, 'audio_tokens': 0, 'reasoning_tokens': 0, 'rejected_prediction_tokens': 0}, 'prompt_tokens_details': {'audio_tokens': 0, 'cached_tokens': 0}}, 'model_name': 'gpt-4o-2024-11-20', 'system_fingerprint': 'fp_ee1d74bde0', 'id': 'chatcmpl-CAv5uGY1jAv0L9U1C3mw0hAaU94zc', 'service_tier': None, 'prompt_filter_results': [{'prompt_index': 0, 'content_filter_results': {'hate': {'filtered': False, 'severity': 'safe'}, 'jailbreak': {'filtered': False, 'detected': False}, 'self_harm': {'filtered': False, 'severity': 'safe'}, 'sexual': {'filtered': False, 'severity': 'safe'}, 'violence': {'filtered': False, 'severity': 'safe'}}}], 'finish_reason': 'stop', 'logprobs': None, 'content_filter_results': {'hate': {'filtered': False, 'severity': 'safe'}, 'self_harm': {'filtered': False, 'severity': 'safe'}, 'sexual': {'filtered': False, 'severity': 'safe'}, 'violence': {'filtered': False, 'severity': 'safe'}}}, id='run--f967f54d-25fd-461d-837e-c6f4fe6c09b0-0', usage_metadata={'input_tokens': 1043, 'output_tokens': 54, 'total_tokens': 1097, 'input_token_details': {'audio': 0, 'cache_read': 0}, 'output_token_details': {'audio': 0, 'reasoning': 0}})]}\n"
     ]
    }
   ],
   "source": [
    "#to resume from previous state we can do below\n",
    "for event in abot.graph.stream(None, to_replay.config):\n",
    "    for k, v in event.items():\n",
    "        print(v)"
   ]
  },
  {
   "cell_type": "code",
   "execution_count": 29,
   "id": "e2717809",
   "metadata": {},
   "outputs": [],
   "source": [
    "#we can also go back in time and edit the state. Previously we edited the last state\n",
    "to_replay\n",
    "_id = to_replay.values['messages'][-1].tool_calls[0]['id']\n",
    "to_replay.values['messages'][-1].tool_calls = [{'name': 'tavily_search_results_json',\n",
    "  'args': {'query': 'current weather in LA, accuweather'},\n",
    "  'id': _id}]"
   ]
  },
  {
   "cell_type": "code",
   "execution_count": 30,
   "id": "f54f46d6",
   "metadata": {},
   "outputs": [],
   "source": [
    "branch_state = abot.graph.update_state(to_replay.config, to_replay.values)"
   ]
  },
  {
   "cell_type": "code",
   "execution_count": 31,
   "id": "17b234e1",
   "metadata": {},
   "outputs": [
    {
     "name": "stdout",
     "output_type": "stream",
     "text": [
      "Calling: {'name': 'tavily_search_results_json', 'args': {'query': 'current weather in LA, accuweather'}, 'id': 'call_NdXIgEZKWMHUiCr9pEjnV91F', 'type': 'tool_call'}\n",
      "Back to the model!\n",
      "{'messages': [ToolMessage(content='[{\\'title\\': \\'Los Angeles, CA Monthly Weather - AccuWeather\\', \\'url\\': \\'https://www.accuweather.com/en/us/los-angeles/90012/january-weather/347625\\', \\'content\\': \\'# Los Angeles, CA\\\\n\\\\nLos Angeles\\\\n\\\\nCalifornia\\\\n\\\\n## Around the Globe\\\\n\\\\nAround the Globe\\\\n\\\\n### Hurricane Tracker\\\\n\\\\n### Severe Weather\\\\n\\\\n### Radar & Maps\\\\n\\\\n### News & Features\\\\n\\\\n### Astronomy\\\\n\\\\n### Business\\\\n\\\\n### Climate\\\\n\\\\n### Health\\\\n\\\\n### Recreation\\\\n\\\\n### Sports\\\\n\\\\n### Travel\\\\n\\\\n### Warnings\\\\n\\\\n### Data Suite\\\\n\\\\n### Forensics\\\\n\\\\n### Advertising\\\\n\\\\n### Superior Accuracy™\\\\n\\\\n### Video\\\\n\\\\n### Winter Center\\\\n\\\\n## Monthly\\\\n\\\\n## January\\\\n\\\\n## 2025\\\\n\\\\n## Daily\\\\n\\\\n## Temperature Graph\\\\n\\\\n## Around the Globe\\\\n\\\\nAround the Globe\\\\n\\\\n### Hurricane Tracker [...] Turtle with unique peanut-shaped shell turns 41 in Missouri\\\\n\\\\n3 days ago\\\\n\\\\n## Weather Near Los Angeles:\\\\n\\\\n...\\\\n\\\\n...\\\\n\\\\n...\\', \\'score\\': 0.53065056}, {\\'title\\': \\'2025 - West Los Angeles, CA Monthly Weather | AccuWeather\\', \\'url\\': \\'https://www.accuweather.com/en/us/west-los-angeles/90025/january-weather/2142540\\', \\'content\\': \"Turtle with unique peanut-shaped shell turns 41 in Missouri\\\\n\\\\n3 days ago\\\\n\\\\n## Weather Near West Los Angeles:\\\\n\\\\n...\\\\n\\\\n...\\\\n\\\\n... [...] # West Los Angeles, CA\\\\n\\\\nWest Los Angeles\\\\n\\\\nCalifornia\\\\n\\\\n## Around the Globe\\\\n\\\\nAround the Globe\\\\n\\\\n### Hurricane Tracker\\\\n\\\\n### Severe Weather\\\\n\\\\n### Radar & Maps\\\\n\\\\n### News & Features\\\\n\\\\n### Astronomy\\\\n\\\\n### Business\\\\n\\\\n### Climate\\\\n\\\\n### Health\\\\n\\\\n### Recreation\\\\n\\\\n### Sports\\\\n\\\\n### Travel\\\\n\\\\n### Warnings\\\\n\\\\n### Data Suite\\\\n\\\\n### Forensics\\\\n\\\\n### Advertising\\\\n\\\\n### Superior Accuracy™\\\\n\\\\n### Video\\\\n\\\\n### Winter Center\\\\n\\\\n## Monthly\\\\n\\\\n## January\\\\n\\\\n## 2025\\\\n\\\\n## Daily\\\\n\\\\n## Temperature Graph\\\\n\\\\n## Around the Globe\\\\n\\\\nAround the Globe [...] Labor Day is here. Where are the hurricanes?\\\\n\\\\n13 minutes ago\\\\n\\\\nFeatured Stories\\\\n\\\\nAstronomy\\\\n\\\\n2 more celestial sights to see before autumn\\'s arrival\\\\n\\\\n2 days ago\\\\n\\\\nTravel\\\\n\\\\nGas hasn’t been this cheap on Labor Day since 2020\\\\n\\\\n2 days ago\\\\n\\\\nWeather News\\\\n\\\\nWhy meteorological, astronomical fall start on different dates\\\\n\\\\n2 days ago\\\\n\\\\nClearing the air: Leaves are falling but it\\'s not autumn yet\\\\n\\\\nLATEST ENTRY\\\\n\\\\nWhy are there so many leaves falling? Is this an early autumn?\\\\n\\\\n4 days ago\\\\n\\\\nWeather News\", \\'score\\': 0.49831602}]', name='tavily_search_results_json', id='6ed50ba9-a023-4312-b6ec-0868f46fbdc6', tool_call_id='call_NdXIgEZKWMHUiCr9pEjnV91F')]}\n",
      "{'messages': [AIMessage(content=\"I couldn't find the exact current weather details for Los Angeles. You can check the latest weather updates on [AccuWeather's Los Angeles page](https://www.accuweather.com/en/us/los-angeles/90012/january-weather/347625).\", additional_kwargs={'refusal': None}, response_metadata={'token_usage': {'completion_tokens': 54, 'prompt_tokens': 796, 'total_tokens': 850, 'completion_tokens_details': {'accepted_prediction_tokens': 0, 'audio_tokens': 0, 'reasoning_tokens': 0, 'rejected_prediction_tokens': 0}, 'prompt_tokens_details': {'audio_tokens': 0, 'cached_tokens': 0}}, 'model_name': 'gpt-4o-2024-11-20', 'system_fingerprint': 'fp_ee1d74bde0', 'id': 'chatcmpl-CAv7IE7H5BOJwm7CSocWEm4t7s6xz', 'service_tier': None, 'prompt_filter_results': [{'prompt_index': 0, 'content_filter_results': {'hate': {'filtered': False, 'severity': 'safe'}, 'jailbreak': {'filtered': False, 'detected': False}, 'self_harm': {'filtered': False, 'severity': 'safe'}, 'sexual': {'filtered': False, 'severity': 'safe'}, 'violence': {'filtered': False, 'severity': 'safe'}}}], 'finish_reason': 'stop', 'logprobs': None, 'content_filter_results': {'hate': {'filtered': False, 'severity': 'safe'}, 'self_harm': {'filtered': False, 'severity': 'safe'}, 'sexual': {'filtered': False, 'severity': 'safe'}, 'violence': {'filtered': False, 'severity': 'safe'}}}, id='run--77aea367-ffce-44a0-be8b-e6d5140bca3f-0', usage_metadata={'input_tokens': 796, 'output_tokens': 54, 'total_tokens': 850, 'input_token_details': {'audio': 0, 'cache_read': 0}, 'output_token_details': {'audio': 0, 'reasoning': 0}})]}\n"
     ]
    }
   ],
   "source": [
    "for event in abot.graph.stream(None, branch_state):\n",
    "    for k, v in event.items():\n",
    "        if k != \"__end__\":\n",
    "            print(v)"
   ]
  },
  {
   "cell_type": "code",
   "execution_count": 32,
   "id": "80d36ef3",
   "metadata": {},
   "outputs": [],
   "source": [
    "#add any messages in the state is also possible. Below we add the mock call to tavily results\n",
    "_id = to_replay.values['messages'][-1].tool_calls[0]['id']\n",
    "state_update = {\"messages\": [ToolMessage(\n",
    "    tool_call_id=_id,\n",
    "    name=\"tavily_search_results_json\",\n",
    "    content=\"54 degree celcius\",\n",
    ")]}"
   ]
  },
  {
   "cell_type": "code",
   "execution_count": null,
   "id": "d9d1f108",
   "metadata": {},
   "outputs": [],
   "source": [
    "branch_and_add = abot.graph.update_state(\n",
    "    to_replay.config, \n",
    "    state_update, \n",
    "    as_node=\"action\") #this update is as action and not as message add so that the action is not called"
   ]
  },
  {
   "cell_type": "code",
   "execution_count": 34,
   "id": "3bba9a54",
   "metadata": {},
   "outputs": [
    {
     "name": "stdout",
     "output_type": "stream",
     "text": [
      "{'messages': [AIMessage(content='The current temperature in Los Angeles is 54°C.', additional_kwargs={'refusal': None}, response_metadata={'token_usage': {'completion_tokens': 13, 'prompt_tokens': 188, 'total_tokens': 201, 'completion_tokens_details': {'accepted_prediction_tokens': 0, 'audio_tokens': 0, 'reasoning_tokens': 0, 'rejected_prediction_tokens': 0}, 'prompt_tokens_details': {'audio_tokens': 0, 'cached_tokens': 0}}, 'model_name': 'gpt-4o-2024-11-20', 'system_fingerprint': 'fp_ee1d74bde0', 'id': 'chatcmpl-CAv8P5HSHCPlR1VOpmqFohMuyv1Eu', 'service_tier': None, 'prompt_filter_results': [{'prompt_index': 0, 'content_filter_results': {'hate': {'filtered': False, 'severity': 'safe'}, 'jailbreak': {'filtered': False, 'detected': False}, 'self_harm': {'filtered': False, 'severity': 'safe'}, 'sexual': {'filtered': False, 'severity': 'safe'}, 'violence': {'filtered': False, 'severity': 'safe'}}}], 'finish_reason': 'stop', 'logprobs': None, 'content_filter_results': {'hate': {'filtered': False, 'severity': 'safe'}, 'protected_material_code': {'filtered': False, 'detected': False}, 'protected_material_text': {'filtered': False, 'detected': False}, 'self_harm': {'filtered': False, 'severity': 'safe'}, 'sexual': {'filtered': False, 'severity': 'safe'}, 'violence': {'filtered': False, 'severity': 'safe'}}}, id='run--095debdc-5cb5-48ca-9081-58caf2af0d20-0', usage_metadata={'input_tokens': 188, 'output_tokens': 13, 'total_tokens': 201, 'input_token_details': {'audio': 0, 'cache_read': 0}, 'output_token_details': {'audio': 0, 'reasoning': 0}})]}\n"
     ]
    }
   ],
   "source": [
    "for event in abot.graph.stream(None, branch_and_add):\n",
    "    for k, v in event.items():\n",
    "        print(v)"
   ]
  },
  {
   "cell_type": "code",
   "execution_count": null,
   "id": "974a94ba",
   "metadata": {},
   "outputs": [],
   "source": []
  }
 ],
 "metadata": {
  "kernelspec": {
   "display_name": ".venv",
   "language": "python",
   "name": "python3"
  },
  "language_info": {
   "codemirror_mode": {
    "name": "ipython",
    "version": 3
   },
   "file_extension": ".py",
   "mimetype": "text/x-python",
   "name": "python",
   "nbconvert_exporter": "python",
   "pygments_lexer": "ipython3",
   "version": "3.13.7"
  }
 },
 "nbformat": 4,
 "nbformat_minor": 5
}
